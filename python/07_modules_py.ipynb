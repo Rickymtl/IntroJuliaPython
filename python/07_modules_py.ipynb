{
 "cells": [
  {
   "cell_type": "markdown",
   "metadata": {
    "id": "V2DqnxfIS47B"
   },
   "source": [
    "# Modules\n",
    "In Python, a module must be defined in a dedicated file. In Julia, modules are independent from the file system. You can define several modules per file, or define one module across multiple files, it's up to you."
   ]
  },
  {
   "cell_type": "markdown",
   "metadata": {
    "id": "TpOjKGi8Ymmu"
   },
   "source": [
    "Or we can use `import` with a relative path with a dot `.` to indicate that we want the module located in the current module:"
   ]
  },
  {
   "cell_type": "markdown",
   "metadata": {
    "id": "Jz7_FaJcaZn-"
   },
   "source": [
    "In short:\n",
    "\n",
    "|Julia | Python\n",
    "|------|-------\n",
    "|`import Foo` | `import foo`\n",
    "|`import Foo.Bar` | `from foo import bar`\n",
    "|`import Foo.Bar: a, b` | `from foo.bar import a, b`\n",
    "|`import Foo.Bar.a, Foo.Bar.b` | `from foo.bar import a, b`\n",
    "|`import .Foo` | `import .foo`\n",
    "|`import ..Foo.Bar` | `from ..foo import bar`\n",
    "|`import ...Foo.Bar` | `from ...foo import bar`\n",
    "|`import .Foo: a, b` | `from .foo import a, b`\n",
    "||\n",
    "|`using Foo` | `from foo import *; import foo`\n",
    "|`using Foo.Bar` | `from foo.bar import *; from foo import bar `\n",
    "|`using Foo.Bar: a, b` | `from foo.bar import a, b`\n",
    "\n",
    "|Extending function `Foo.f()` | Result\n",
    "|-----------------------------|--------\n",
    "|`import Foo.f  # or Foo: f` <br />`f(x::Int64) = ...`  | OK\n",
    "|`import Foo`<br />`Foo.f(x::Int64) = ...` | OK\n",
    "|`using Foo`<br />`Foo.f(x::Int64) = ...` | OK\n",
    "|`import Foo.f # or Foo: f`<br />`Foo.f(x::Int64) = ...` | `ERROR: Foo not defined`\n",
    "|`using Foo`<br />`f(x::Int64) = ...` | `ERROR: Foo.f must be explicitly imported`\n",
    "|`using Foo: f`<br />`f(x::Int64) = ...` | `ERROR: Foo.f must be explicitly imported`"
   ]
  },
  {
   "cell_type": "markdown",
   "metadata": {
    "id": "Inpk8qS3HL_u"
   },
   "source": [
    "# Scopes\n",
    "Julia has two types of scopes: global and local.\n",
    "\n",
    "Every module has its own global scope, independent from all other global scopes. There is no overarching global scope.\n",
    "\n",
    "Modules, macros and types (including structs) can only be defined in a global scope.\n",
    "\n",
    "Most code blocks, including `function`, `class`, etc., have their own local scope. For example:"
   ]
  },
  {
   "cell_type": "code",
   "execution_count": 2,
   "metadata": {
    "colab": {
     "base_uri": "https://localhost:8080/"
    },
    "id": "q3Lm3T1DG6St",
    "outputId": "bd70a17c-b01a-4a03-92cd-287fb42b2596"
   },
   "outputs": [
    {
     "name": "stdout",
     "output_type": "stream",
     "text": [
      "1\n",
      "2\n",
      "3\n",
      "3\n"
     ]
    }
   ],
   "source": [
    "for q in range(1, 4):\n",
    "    print(q)\n",
    "\n",
    "try:\n",
    "    print(q) # q is available here\n",
    "except Exception as ex:\n",
    "    print(ex)"
   ]
  },
  {
   "cell_type": "markdown",
   "metadata": {
    "id": "Wh6xa4fyJLYY"
   },
   "source": [
    "A local scope inherits from its parent scope:"
   ]
  },
  {
   "cell_type": "code",
   "execution_count": 3,
   "metadata": {
    "colab": {
     "base_uri": "https://localhost:8080/"
    },
    "id": "IeLfjf4ZJQ41",
    "outputId": "81d96978-dba2-4507-c6cc-118cb2ff9eb4"
   },
   "outputs": [
    {
     "name": "stdout",
     "output_type": "stream",
     "text": [
      "50\n",
      "100\n",
      "150\n"
     ]
    }
   ],
   "source": [
    "z = 5\n",
    "for i in range(1, 4):\n",
    "    w = 10\n",
    "    print(i * w * z) # i and w are local, z is from the parent scope"
   ]
  },
  {
   "cell_type": "markdown",
   "metadata": {
    "id": "OQLfwoD3NoC_"
   },
   "source": [
    "An inner scope can assign to a variable in the parent scope, if the parent scope is not global:"
   ]
  },
  {
   "cell_type": "code",
   "execution_count": 4,
   "metadata": {
    "colab": {
     "base_uri": "https://localhost:8080/"
    },
    "id": "fwN1C2BhNxyZ",
    "outputId": "68f6ca68-633e-470d-c1e9-569f8b48aac1"
   },
   "outputs": [
    {
     "name": "stdout",
     "output_type": "stream",
     "text": [
      "5\n",
      "5\n",
      "5\n"
     ]
    }
   ],
   "source": [
    "for i in range(1, 4):\n",
    "    s = 0\n",
    "    for j in range(1, 6):\n",
    "        s = j # variable s is from the parent scope\n",
    "    \n",
    "    print(s)"
   ]
  },
  {
   "cell_type": "markdown",
   "metadata": {
    "id": "0m3aoj8UKxS4"
   },
   "source": [
    "You can't force a variable to be local in python."
   ]
  },
  {
   "cell_type": "markdown",
   "metadata": {
    "id": "qwo2DWNIN8oR"
   },
   "source": [
    "To assign to a global variable, you must declare the variable as `global` in the local scope:"
   ]
  },
  {
   "cell_type": "code",
   "execution_count": 11,
   "metadata": {
    "colab": {
     "base_uri": "https://localhost:8080/"
    },
    "id": "rPnibZjLOFHv",
    "outputId": "364a7b0c-141e-448f-9ec7-c472aac6df7e"
   },
   "outputs": [
    {
     "data": {
      "text/plain": [
       "3"
      ]
     },
     "execution_count": 11,
     "metadata": {},
     "output_type": "execute_result"
    }
   ],
   "source": [
    "for i in range(1, 4):\n",
    "    global p\n",
    "    p = i\n",
    "\n",
    "p"
   ]
  },
  {
   "cell_type": "markdown",
   "metadata": {
    "id": "Ne7zn3qgPo6M"
   },
   "source": [
    "In functions, assigning to a variable which is not explicitly declared as global always makes it local:"
   ]
  },
  {
   "cell_type": "code",
   "execution_count": 13,
   "metadata": {
    "colab": {
     "base_uri": "https://localhost:8080/"
    },
    "id": "RJgKv_6oPhH2",
    "outputId": "275c8c06-72bd-4594-faa0-4bdbc562f84e"
   },
   "outputs": [
    {
     "name": "stdout",
     "output_type": "stream",
     "text": [
      "20\n",
      "1\n"
     ]
    }
   ],
   "source": [
    "s, t = 1, 2 # globals\n",
    "\n",
    "def foo():\n",
    "   s = 10 * t # s is local, t is global\n",
    "   return s\n",
    "\n",
    "print(foo())\n",
    "print(s)"
   ]
  },
  {
   "cell_type": "markdown",
   "metadata": {
    "id": "DhnbEml6SiTG"
   },
   "source": [
    "Just like in Python, functions can capture variables from the enclosing scope (not from the scope the function is called from):"
   ]
  },
  {
   "cell_type": "code",
   "execution_count": 18,
   "metadata": {
    "colab": {
     "base_uri": "https://localhost:8080/"
    },
    "id": "B1lAq94XS6yX",
    "outputId": "1d6d31b9-18d5-499e-c8fa-57c7e8c99847"
   },
   "outputs": [
    {
     "name": "stdout",
     "output_type": "stream",
     "text": [
      "1\n"
     ]
    }
   ],
   "source": [
    "t = 1\n",
    "\n",
    "foo = lambda :t # foo() captures t from the global scope\n",
    "\n",
    "def bar():\n",
    "    t = 5 # this is a new local variable\n",
    "    print(foo()) # foo() still uses t from the global scope\n",
    "\n",
    "bar()"
   ]
  },
  {
   "cell_type": "code",
   "execution_count": 19,
   "metadata": {
    "colab": {
     "base_uri": "https://localhost:8080/"
    },
    "id": "a460UCKFTXt7",
    "outputId": "59e06d37-f432-4f2f-cd75-f90ac590f65f"
   },
   "outputs": [
    {
     "name": "stdout",
     "output_type": "stream",
     "text": [
      "5\n"
     ]
    }
   ],
   "source": [
    "def quz():\n",
    "    global t\n",
    "    t = 5 # we change the global t\n",
    "    print(foo()) # and this affects foo()\n",
    "\n",
    "quz()"
   ]
  },
  {
   "cell_type": "markdown",
   "metadata": {
    "id": "MKsqCB48UxiU"
   },
   "source": [
    "Closures work much like in Python:"
   ]
  },
  {
   "cell_type": "code",
   "execution_count": 23,
   "metadata": {
    "colab": {
     "base_uri": "https://localhost:8080/"
    },
    "id": "CvyNc-ksT22C",
    "outputId": "ebb0e464-a6a4-4cce-957d-0e36b18d4a57"
   },
   "outputs": [
    {
     "name": "stdout",
     "output_type": "stream",
     "text": [
      "10\n"
     ]
    }
   ],
   "source": [
    "def create_multiplier(n):\n",
    "    def mul(x):\n",
    "        return x * n # variable n is captured from the parent scope\n",
    "\n",
    "    return mul\n",
    "\n",
    "mul2 = create_multiplier(2)\n",
    "print(mul2(5))"
   ]
  },
  {
   "cell_type": "markdown",
   "metadata": {
    "id": "PzqwY5FngkML"
   },
   "source": [
    "In this example, the first argument's default value is `a + 1`, where `a` comes from the parent scope (i.e., the global `a` in this case). However, the second argument's default value is `a`, where `a` in this case is the value of the first argument (<u>not</u> the parent scope's `a`)."
   ]
  },
  {
   "cell_type": "markdown",
   "metadata": {
    "id": "Au3RUzMsHWw8"
   },
   "source": [
    "Note that `if` blocks and `begin` blocks do <u>not</u> have their own local scope, they just use the parent scope:"
   ]
  },
  {
   "cell_type": "code",
   "execution_count": 34,
   "metadata": {
    "colab": {
     "base_uri": "https://localhost:8080/"
    },
    "id": "iARzIFgtpOfB",
    "outputId": "1976e1b6-0aea-43e2-8018-f5050969e829"
   },
   "outputs": [
    {
     "data": {
      "text/plain": [
       "2"
      ]
     },
     "execution_count": 34,
     "metadata": {},
     "output_type": "execute_result"
    }
   ],
   "source": [
    "a = 1\n",
    "if True:\n",
    "    a = 2 # same `a` as above\n",
    "    \n",
    "a"
   ]
  }
 ],
 "metadata": {
  "accelerator": "GPU",
  "colab": {
   "collapsed_sections": [],
   "name": "Julia_Py.ipynb",
   "provenance": [],
   "toc_visible": true
  },
  "kernelspec": {
   "display_name": "Python 3.10.7 ('data_env')",
   "language": "python",
   "name": "python3"
  },
  "language_info": {
   "codemirror_mode": {
    "name": "ipython",
    "version": 3
   },
   "file_extension": ".py",
   "mimetype": "text/x-python",
   "name": "python",
   "nbconvert_exporter": "python",
   "pygments_lexer": "ipython3",
   "version": "3.10.7"
  },
  "vscode": {
   "interpreter": {
    "hash": "b8fb9d1f403244eb1d8985de9eba125cdc054776ee3ac17bd9ecc183ad605f87"
   }
  }
 },
 "nbformat": 4,
 "nbformat_minor": 1
}
