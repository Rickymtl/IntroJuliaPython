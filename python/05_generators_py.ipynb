{
 "cells": [
  {
   "cell_type": "markdown",
   "metadata": {
    "id": "jApml2wDacs2"
   },
   "source": [
    "# Generators"
   ]
  },
  {
   "cell_type": "code",
   "execution_count": 1,
   "metadata": {},
   "outputs": [],
   "source": [
    "def π_approx(n):\n",
    "  return 4 * sum((-1 if i%2==1 else 1)/(2*i+1) for i in range(n+1))"
   ]
  },
  {
   "cell_type": "code",
   "execution_count": 13,
   "metadata": {},
   "outputs": [],
   "source": [
    "def π_approx2(n):\n",
    "    sum = 1.0\n",
    "    for i in range(1, n+1):\n",
    "      sum += (-1 if i%2==1 else 1) * ((1/3)**i)/(2*i+1)\n",
    "    return 12.**0.5 * sum"
   ]
  },
  {
   "cell_type": "code",
   "execution_count": 14,
   "metadata": {},
   "outputs": [
    {
     "name": "stdout",
     "output_type": "stream",
     "text": [
      "3.1514934010709914 \n",
      " 3.141592653589794\n"
     ]
    }
   ],
   "source": [
    "print(π_approx(100), \"\\n\" ,π_approx2(100))"
   ]
  },
  {
   "cell_type": "code",
   "execution_count": 15,
   "metadata": {},
   "outputs": [
    {
     "ename": "AssertionError",
     "evalue": "",
     "output_type": "error",
     "traceback": [
      "\u001b[1;31m---------------------------------------------------------------------------\u001b[0m",
      "\u001b[1;31mAssertionError\u001b[0m                            Traceback (most recent call last)",
      "\u001b[1;32mc:\\Users\\RR\\Desktop\\Workshop\\05py Generators.ipynb Cell 5\u001b[0m in \u001b[0;36m<cell line: 1>\u001b[1;34m()\u001b[0m\n\u001b[1;32m----> <a href='vscode-notebook-cell:/c%3A/Users/RR/Desktop/Workshop/05py%20Generators.ipynb#X33sZmlsZQ%3D%3D?line=0'>1</a>\u001b[0m \u001b[39massert\u001b[39;00m π_approx(\u001b[39m100\u001b[39m) \u001b[39m==\u001b[39m π_approx2(\u001b[39m100\u001b[39m)\n",
      "\u001b[1;31mAssertionError\u001b[0m: "
     ]
    }
   ],
   "source": [
    "assert π_approx(100) == π_approx2(100)"
   ]
  },
  {
   "cell_type": "markdown",
   "metadata": {
    "id": "OHaPPceEKO3r"
   },
   "source": [
    "## `zip`, `enumerate`, `collect`"
   ]
  },
  {
   "cell_type": "markdown",
   "metadata": {
    "id": "GBj2mvbiI9cP"
   },
   "source": [
    "The `zip()` function works much like in Python:"
   ]
  },
  {
   "cell_type": "code",
   "execution_count": 26,
   "metadata": {
    "colab": {
     "base_uri": "https://localhost:8080/"
    },
    "id": "-UsOasVeJCWe",
    "outputId": "152bf40d-0248-4a0a-dd54-98c3a9678ab6"
   },
   "outputs": [
    {
     "name": "stdout",
     "output_type": "stream",
     "text": [
      "10 :  Ten\n",
      "11 :  Eleven\n",
      "12 :  Twelve\n",
      "13 :  thirteen\n",
      "14 :  fourteen\n"
     ]
    }
   ],
   "source": [
    "for (i, s) in (zip(range(10, 15), [\"Ten\", \"Eleven\", \"Twelve\", \"thirteen\", \"fourteen\"])):\n",
    "    print(i, \": \", s)"
   ]
  },
  {
   "cell_type": "code",
   "execution_count": 28,
   "metadata": {},
   "outputs": [
    {
     "data": {
      "text/plain": [
       "{(10, 'Ten'),\n",
       " (11, 'Eleven'),\n",
       " (12, 'Twelve'),\n",
       " (13, 'thirteen'),\n",
       " (14, 'fourteen')}"
      ]
     },
     "execution_count": 28,
     "metadata": {},
     "output_type": "execute_result"
    }
   ],
   "source": [
    "set(zip(range(10, 15), [\"Ten\", \"Eleven\", \"Twelve\", \"thirteen\", \"fourteen\"]))"
   ]
  },
  {
   "cell_type": "markdown",
   "metadata": {
    "id": "3y2q4YhNJOQy"
   },
   "source": [
    "The `enumerate()` function also works like in Python, except of course it is 1-indexed:"
   ]
  },
  {
   "cell_type": "code",
   "execution_count": 29,
   "metadata": {
    "colab": {
     "base_uri": "https://localhost:8080/"
    },
    "id": "bCTejeu0Ji_8",
    "outputId": "657eb988-6ee4-4eab-ca05-f2a522ae16f0"
   },
   "outputs": [
    {
     "name": "stdout",
     "output_type": "stream",
     "text": [
      "0 :  One\n",
      "1 :  Two\n",
      "2 :  Three\n"
     ]
    }
   ],
   "source": [
    "for (i, s) in enumerate([\"One\", \"Two\", \"Three\"]):\n",
    "    print(i, \": \", s)"
   ]
  },
  {
   "cell_type": "code",
   "execution_count": 30,
   "metadata": {
    "colab": {
     "base_uri": "https://localhost:8080/"
    },
    "id": "3k6xaXkGKU2H",
    "outputId": "9cc76c9e-53e3-4021-9033-c8333de2e541"
   },
   "outputs": [
    {
     "data": {
      "text/plain": [
       "{(0, 'One'), (1, 'Two'), (2, 'Three')}"
      ]
     },
     "execution_count": 30,
     "metadata": {},
     "output_type": "execute_result"
    }
   ],
   "source": [
    "set(enumerate([\"One\", \"Two\", \"Three\"]))"
   ]
  },
  {
   "cell_type": "code",
   "execution_count": 33,
   "metadata": {
    "colab": {
     "base_uri": "https://localhost:8080/"
    },
    "id": "42T1NJKhKD1w",
    "outputId": "9122dc12-ba8b-4256-85ae-29a147e4b402"
   },
   "outputs": [
    {
     "data": {
      "text/plain": [
       "[1, 2, 3, 4, 5]"
      ]
     },
     "execution_count": 33,
     "metadata": {},
     "output_type": "execute_result"
    }
   ],
   "source": [
    "list(range(1,5 + 1))"
   ]
  },
  {
   "cell_type": "markdown",
   "metadata": {
    "id": "CumclAQ4TTpq"
   },
   "source": [
    "## Channels\n"
   ]
  },
  {
   "cell_type": "code",
   "execution_count": 35,
   "metadata": {},
   "outputs": [
    {
     "name": "stdout",
     "output_type": "stream",
     "text": [
      "1\n",
      "1\n",
      "2\n",
      "3\n",
      "5\n",
      "8\n",
      "13\n",
      "21\n",
      "34\n",
      "55\n"
     ]
    }
   ],
   "source": [
    "def fibonacci(n):\n",
    "    a, b = 1, 1\n",
    "    for i in range(n):\n",
    "      yield a\n",
    "      a, b = b, a + b\n",
    "\n",
    "for f in fibonacci(10):\n",
    "    print(f)"
   ]
  },
  {
   "cell_type": "code",
   "execution_count": 36,
   "metadata": {
    "colab": {
     "base_uri": "https://localhost:8080/"
    },
    "id": "RD4YwEca0L-M",
    "outputId": "7685a523-6a09-46c0-a6fb-f8e96dbe3480"
   },
   "outputs": [
    {
     "data": {
      "text/plain": [
       "generator"
      ]
     },
     "execution_count": 36,
     "metadata": {},
     "output_type": "execute_result"
    }
   ],
   "source": [
    "type(fibonacci(10))"
   ]
  }
 ],
 "metadata": {
  "accelerator": "GPU",
  "colab": {
   "collapsed_sections": [],
   "name": "Julia_Py.ipynb",
   "provenance": [],
   "toc_visible": true
  },
  "kernelspec": {
   "display_name": "Julia 1.6.2",
   "language": "julia",
   "name": "julia-1.6"
  },
  "language_info": {
   "codemirror_mode": {
    "name": "ipython",
    "version": 3
   },
   "file_extension": ".py",
   "mimetype": "text/x-python",
   "name": "julia",
   "nbconvert_exporter": "python",
   "pygments_lexer": "ipython3",
   "version": "3.9.7"
  },
  "vscode": {
   "interpreter": {
    "hash": "0b85eb516f4bbc0d03dd2f99869f954b9344ff6ad7e4947c66976e5e1e3bf1b6"
   }
  }
 },
 "nbformat": 4,
 "nbformat_minor": 1
}
