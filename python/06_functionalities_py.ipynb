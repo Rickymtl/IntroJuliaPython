{
 "cells": [
  {
   "cell_type": "markdown",
   "metadata": {
    "id": "A_pY5CUIVptt"
   },
   "source": [
    "# Functions, Methods and Macros\n",
    "\n"
   ]
  },
  {
   "cell_type": "markdown",
   "metadata": {
    "id": "jKpjTHMbao6r"
   },
   "source": [
    "## Functions"
   ]
  },
  {
   "cell_type": "markdown",
   "metadata": {
    "id": "k-IIQF4vP7w9"
   },
   "source": [
    "Python functions supports positional arguments and default values:"
   ]
  },
  {
   "cell_type": "code",
   "execution_count": 1,
   "metadata": {
    "colab": {
     "base_uri": "https://localhost:8080/"
    },
    "id": "BnVg7UKNQQ4M",
    "outputId": "ae062611-82f5-4e44-d04e-e007f332882c"
   },
   "outputs": [],
   "source": [
    "def func_default_arg(x, y=1):\n",
    "    print(f\"{x} , {y}\")"
   ]
  },
  {
   "cell_type": "markdown",
   "metadata": {
    "id": "AmKSe9fYRMxb"
   },
   "source": [
    "However, unlike in Python, positional arguments must not be named when the function is called:"
   ]
  },
  {
   "cell_type": "code",
   "execution_count": 2,
   "metadata": {
    "colab": {
     "base_uri": "https://localhost:8080/"
    },
    "id": "fB1flNxMRAo4",
    "outputId": "9fb32d7c-53e8-4839-e25a-589873675ee3"
   },
   "outputs": [
    {
     "name": "stdout",
     "output_type": "stream",
     "text": [
      "1 , 1\n"
     ]
    }
   ],
   "source": [
    "func_default_arg(1, y=1) # no error "
   ]
  },
  {
   "cell_type": "markdown",
   "metadata": {
    "id": "yBQOd8H6RUJs"
   },
   "source": [
    "Python also supports a variable number of arguments (called \"varargs\") using the syntax `*arg`, which is the equivalent of Julia's `arg...`:"
   ]
  },
  {
   "cell_type": "code",
   "execution_count": 3,
   "metadata": {
    "colab": {
     "base_uri": "https://localhost:8080/"
    },
    "id": "OS1U6AxeRYyb",
    "outputId": "9e0c0722-bf80-448b-d794-a3a80a84db05"
   },
   "outputs": [
    {
     "name": "stdout",
     "output_type": "stream",
     "text": [
      "multiple argument list: ('first string', 'apple', 'orange')\n"
     ]
    }
   ],
   "source": [
    "def func_multiple_arg(*myarglist):\n",
    "    print(f\"multiple argument list: {myarglist}\")\n",
    "\n",
    "func_multiple_arg(\"first string\", \"apple\", \"orange\")"
   ]
  },
  {
   "cell_type": "markdown",
   "metadata": {
    "id": "x8lJsP6wQujj"
   },
   "source": [
    "Keyword arguments are supported:"
   ]
  },
  {
   "cell_type": "code",
   "execution_count": 4,
   "metadata": {
    "colab": {
     "base_uri": "https://localhost:8080/"
    },
    "id": "R4XDHjftQwel",
    "outputId": "34b10e15-44f6-413a-f90a-b0fe73abdb3d"
   },
   "outputs": [
    {
     "name": "stdout",
     "output_type": "stream",
     "text": [
      "paths=('a.txt', 'b.txt'), confirm=False, /tmp\n"
     ]
    }
   ],
   "source": [
    "def copy_files2(*paths, confirm=False, target_dir):\n",
    "    print(f\"paths={paths}, confirm={confirm}, {target_dir}\") # string interpolation\n",
    "\n",
    "copy_files2(\"a.txt\", \"b.txt\", target_dir=\"/tmp\")"
   ]
  },
  {
   "cell_type": "markdown",
   "metadata": {
    "id": "katU7ZypHZdc"
   },
   "source": [
    "Notes:\n",
    "* `target_dir` has no default value, so it is a required argument.\n",
    "* The order of the keyword arguments does not matter."
   ]
  },
  {
   "cell_type": "markdown",
   "metadata": {
    "id": "c24CyL7PGE35"
   },
   "source": [
    "You can have another vararg in the keyword section. It corresponds to Python's `**kwargs`:"
   ]
  },
  {
   "cell_type": "code",
   "execution_count": 5,
   "metadata": {
    "colab": {
     "base_uri": "https://localhost:8080/"
    },
    "id": "m-u29GPoGP8l",
    "outputId": "b8d658d2-ef64-4553-9200-5230214e905b"
   },
   "outputs": [
    {
     "name": "stdout",
     "output_type": "stream",
     "text": [
      "paths=('a.txt', 'b.txt'), confirm=False, /tmp\n",
      "verbose=True\n"
     ]
    }
   ],
   "source": [
    "def copy_files3(*paths, confirm=False, target_dir, **options):\n",
    "    print(f\"paths={paths}, confirm={confirm}, {target_dir}\")\n",
    "    verbose = options[\"verbose\"]\n",
    "    print(f\"verbose={verbose}\")\n",
    "\n",
    "copy_files3(\"a.txt\", \"b.txt\", target_dir=\"/tmp\", verbose=True, timeout=60)"
   ]
  },
  {
   "cell_type": "code",
   "execution_count": 8,
   "metadata": {},
   "outputs": [
    {
     "name": "stdout",
     "output_type": "stream",
     "text": [
      "a: 1, b: 2, c: 3\n",
      "a: 1, b: 2, c: (3, 4)\n"
     ]
    }
   ],
   "source": [
    "def foo1(a, b=2, c=3, /):\n",
    "    print(f\"a: {a}, b: {b}, c: {c}\")\n",
    "\n",
    "foo1(1, 2)\n",
    "\n",
    "def foo2(a, b=2, /, *c):\n",
    "    print(f\"a: {a}, b: {b}, c: {c}\")\n",
    "\n",
    "foo2(1, 2, 3, 4)"
   ]
  },
  {
   "cell_type": "markdown",
   "metadata": {
    "id": "UpbuZ0RYGsC2"
   },
   "source": [
    "|Julia|Python (3.8+ if `/` is used)\n",
    "|-----|------\n",
    "| `function foo(a, b=2, c=3)`<br />&nbsp;&nbsp;&nbsp;&nbsp;`...`<br />`end`<br /><br />`foo(1, 2) # positional only` | `def foo(a, b=2, c=3, /):`<br />&nbsp;&nbsp;&nbsp;&nbsp;`...`<br /><br />`foo(1, 2) # pos only because of /`\n",
    "| `function foo(;a=1, b, c=3)`<br />&nbsp;&nbsp;&nbsp;&nbsp;`...`<br />`end`<br /><br />`foo(c=30, b=2) # keyword only` | `def foo(*, a=1, b, c=3):`<br />&nbsp;&nbsp;&nbsp;&nbsp;`...`<br /><br />`foo(c=30, b=2) # kw only because of *`\n",
    "| `function foo(a, b=2; c=3, d)`<br />&nbsp;&nbsp;&nbsp;&nbsp;`...`<br />`end`<br /><br />`foo(1; d=4) # pos only; then keyword only` | `def foo(a, b=2, /, *, c=3, d):`<br />&nbsp;&nbsp;&nbsp;&nbsp;`...`<br /><br />`foo(1, d=4) # pos only then kw only`\n",
    "| `function foo(a, b=2, c...)`<br />&nbsp;&nbsp;&nbsp;&nbsp;`...`<br />`end`<br /><br />`foo(1, 2, 3, 4) # positional only` | `def foo(a, b=2, /, *c):`<br />&nbsp;&nbsp;&nbsp;&nbsp;`...`<br /><br />`foo(1, 2, 3, 4) # positional only`\n",
    "| `function foo(a, b=1, c...; d=1, e, f...)`<br />&nbsp;&nbsp;&nbsp;&nbsp;`...`<br />`end`<br /><br />`foo(1, 2, 3, 4, e=5, x=10, y=20)`<br /> | `def foo(a, b=1, /, *c, d=1, e, **f):`<br />&nbsp;&nbsp;&nbsp;&nbsp;`...`<br /><br />`foo(1, 2, 3, 4, e=5, x=10, y=20)`\n"
   ]
  },
  {
   "cell_type": "markdown",
   "metadata": {
    "id": "JQsdtaYXDoNm"
   },
   "source": [
    "## Concise Functions\n",
    "\n",
    "In Python, the following definition:"
   ]
  },
  {
   "cell_type": "code",
   "execution_count": 9,
   "metadata": {
    "colab": {
     "base_uri": "https://localhost:8080/"
    },
    "id": "PnB4hMDIkd_4",
    "outputId": "a39dfb82-d96d-44bc-acff-7f981cf7dcca"
   },
   "outputs": [],
   "source": [
    "increase_by_one = lambda x: x + 1"
   ]
  },
  {
   "cell_type": "markdown",
   "metadata": {
    "id": "iXKsRqZUkk9O"
   },
   "source": [
    "is equivalent to:"
   ]
  },
  {
   "cell_type": "code",
   "execution_count": 10,
   "metadata": {
    "colab": {
     "base_uri": "https://localhost:8080/"
    },
    "id": "iaDlQ7Mzkong",
    "outputId": "ba240ba0-c8a2-4eea-d85b-fbb2724bb3ae"
   },
   "outputs": [],
   "source": [
    "def increase_by_one(x):\n",
    "    x + 1"
   ]
  },
  {
   "cell_type": "markdown",
   "metadata": {
    "id": "Fjt5CFRfktfK"
   },
   "source": [
    "For example, here's a shorter way to define the `π_approx4()` function in Julia:"
   ]
  },
  {
   "cell_type": "markdown",
   "metadata": {},
   "source": [
    "\\begin{equation}\n",
    "\\pi = \\sqrt{12} \\sum_0^\\infty {\\frac{(\\frac{-1}{3})^i}{2i+1} }\n",
    "\\end{equation}"
   ]
  },
  {
   "cell_type": "code",
   "execution_count": 11,
   "metadata": {},
   "outputs": [],
   "source": [
    "isodd = lambda n: n % 2 == 1\n",
    "pi_approx = lambda n: 12**0.5 * sum([(-1 if isodd(i) else 1) * (1/3)**i / (2*i+1) for i in range(0, n+1)]) \n"
   ]
  },
  {
   "cell_type": "code",
   "execution_count": 12,
   "metadata": {},
   "outputs": [
    {
     "name": "stdout",
     "output_type": "stream",
     "text": [
      "8.881784197001252e-16\n"
     ]
    }
   ],
   "source": [
    "import math\n",
    "print(pi_approx(100)- math.pi)"
   ]
  },
  {
   "cell_type": "markdown",
   "metadata": {
    "id": "UV29B5anEAFF"
   },
   "source": [
    "## Anonymous Functions\n",
    "Just like in Python, you can define anonymous functions:"
   ]
  },
  {
   "cell_type": "code",
   "execution_count": 15,
   "metadata": {
    "colab": {
     "base_uri": "https://localhost:8080/"
    },
    "id": "VAH0e6BjEJB2",
    "outputId": "6d2beb36-8fee-43f9-fac8-7ac30f708a75"
   },
   "outputs": [
    {
     "data": {
      "text/plain": [
       "[1, 4, 9, 16]"
      ]
     },
     "execution_count": 15,
     "metadata": {},
     "output_type": "execute_result"
    }
   ],
   "source": [
    "u = lambda x: x**2\n",
    "list(map(u, range(1, 5)))"
   ]
  },
  {
   "cell_type": "markdown",
   "metadata": {
    "id": "RLy4-8trawqM"
   },
   "source": [
    "Here is the equivalent Python code:\n",
    "\n",
    "```python\n",
    "list(map(lambda x: x**2, range(1, 5)))\n",
    "```\n",
    "\n",
    "Notes:\n",
    "* `map()` returns an array in Julia, instead of an iterator like in Python.\n",
    "* You could use a comprehension instead: `[x^2 for x in 1:4]`."
   ]
  },
  {
   "cell_type": "markdown",
   "metadata": {
    "id": "7RcghJ-EEUjz"
   },
   "source": [
    "\n",
    "|Julia|Python\n",
    "|-----|------\n",
    "|`x -> x^2` | `lambda x: x**2`\n",
    "|`(x,y) -> x + y` | `lambda x,y: x + y `\n",
    "|`() -> println(\"yes\")` | `lambda: print(\"yes\")`\n"
   ]
  },
  {
   "cell_type": "markdown",
   "metadata": {
    "id": "jSYEdqYvF6XH"
   },
   "source": [
    "In Python, lambda functions must be simple expressions. They cannot contain multiple statements. "
   ]
  },
  {
   "cell_type": "markdown",
   "metadata": {
    "id": "scEsYrSt2jpA"
   },
   "source": [
    "## Piping\n",
    "If you are used to the Object Oriented syntax `\"a b c\".upper().split()`, you may feel that writing `split(uppercase(\"a b c\"))` is a bit backwards. If so, the piping operation `|>` is for you:"
   ]
  },
  {
   "cell_type": "code",
   "execution_count": 16,
   "metadata": {
    "colab": {
     "base_uri": "https://localhost:8080/"
    },
    "id": "wRrmVEWG24_f",
    "outputId": "fd08d0f9-22ed-4b61-c591-01a6486eacb7"
   },
   "outputs": [
    {
     "data": {
      "text/plain": [
       "['A', 'B', 'C']"
      ]
     },
     "execution_count": 16,
     "metadata": {},
     "output_type": "execute_result"
    }
   ],
   "source": [
    "\"a b c\".upper().split()\n"
   ]
  },
  {
   "cell_type": "markdown",
   "metadata": {
    "id": "c2Y1HRhG4S47"
   },
   "source": [
    "If you want to pass more than one argument to some of the functions, you can use anonymous functions:"
   ]
  },
  {
   "cell_type": "code",
   "execution_count": 17,
   "metadata": {
    "colab": {
     "base_uri": "https://localhost:8080/"
    },
    "id": "IzIFbaLQ4UCO",
    "outputId": "e6c9bcec-2f46-453c-d35b-ed5d08605168"
   },
   "outputs": [
    {
     "data": {
      "text/plain": [
       "'A, B, C'"
      ]
     },
     "execution_count": 17,
     "metadata": {},
     "output_type": "execute_result"
    }
   ],
   "source": [
    "\", \".join(\"a b c\".upper().split())"
   ]
  },
  {
   "cell_type": "markdown",
   "metadata": {
    "id": "Czk5ZFOn3LDi"
   },
   "source": [
    "## Composition\n",
    "\n",
    "Python does not have this feature in this way."
   ]
  },
  {
   "cell_type": "markdown",
   "metadata": {
    "id": "tBKp4lciICdi"
   },
   "source": [
    "## Estimating π and ℯ\n",
    "\n",
    "Let's write our first function. It will estimate π using the equation:\n",
    "\\begin{equation}\n",
    "\\pi=\\sqrt{12} \\sum_{k=0}^{\\infty} \\frac{\\left(-\\frac{1}{3}\\right)^{k}}{2 k+1}=\\sqrt{12}\\left(1-\\frac{1}{3 \\cdot 3}+\\frac{1}{5 \\cdot 3^{2}}-\\frac{1}{7 \\cdot 3^{3}}+\\cdots\\right)\n",
    "\\end{equation}"
   ]
  },
  {
   "cell_type": "code",
   "execution_count": 18,
   "metadata": {
    "colab": {
     "base_uri": "https://localhost:8080/"
    },
    "id": "EPRfV4_XI2Rk",
    "outputId": "13f76c80-5b5b-4aae-b27e-0ebe1f1cfeac"
   },
   "outputs": [
    {
     "name": "stdout",
     "output_type": "stream",
     "text": [
      "π ≈ 3.141592653589794\n",
      "Error is 8.881784197001252e-16\n"
     ]
    }
   ],
   "source": [
    "def π_approx(n):\n",
    "    sum_ = 1.0\n",
    "    for i in range(1, n+1):\n",
    "        sum_ += (-1 if isodd(i) else 1) * (1/3)**i / (2*i + 1)\n",
    "\n",
    "    return 12.0**0.5 * sum_\n",
    "\n",
    "p = π_approx(100_000_000)\n",
    "print(f\"π ≈ {p}\")\n",
    "print(f\"Error is {(p - math.pi)}\")"
   ]
  },
  {
   "cell_type": "code",
   "execution_count": 20,
   "metadata": {
    "id": "RhQ0pwIfl4up"
   },
   "outputs": [],
   "source": [
    "pi_approx_inline = lambda n: 12.0**0.5 * sum([(-1 if isodd(i) else 1) * (1/3)**i / (2*i + 1) for i in range(0, n+1)])\n"
   ]
  },
  {
   "cell_type": "markdown",
   "metadata": {
    "id": "zZl4GRE0LuEc"
   },
   "source": [
    "Pretty similar, right? But notice the small differences:\n",
    "\n",
    "|Julia|Python\n",
    "|-----|------\n",
    "|`function` | `def`\n",
    "|`for i in X`<br />&nbsp;&nbsp;&nbsp;&nbsp;`...`<br />`end` | `for i in X:`<br />&nbsp;&nbsp;&nbsp;&nbsp;`...`\n",
    "|`1:n` | `range(1, n+1)`\n",
    "|`cond ? a : b` | `a if cond else b`\n",
    "|`2i + 1` | `2 * i + 1`\n",
    "|`4s` | `return 4 * s`\n",
    "|`println(a, b)` | `print(a, b, sep=\"\")`\n",
    "|`print(a, b)` | `print(a, b, sep=\"\", end=\"\")`\n",
    "|`\"$p\"` | `f\"{p}\"`\n",
    "|`\"$(p - π)\"` | `f\"{p - math.pi}\"`\n",
    "\n",
    "This example shows that:\n",
    "* Julia can be just as concise and readable as Python.\n",
    "* Indentation in Julia is _not_ meaningful like it is in Python. Instead, blocks end with `end`.\n",
    "* Many math features are built in Julia and need no imports.\n",
    "* There's some mathy syntactic sugar, such as `2i` (but you can write `2 * i` if you prefer).\n",
    "* In Julia, the `return` keyword is optional at the end of a function. The result of the last expression is returned (`4s` in this example).\n",
    "* Julia loves Unicode and does not hesitate to use Unicode characters like `π`. However, there are generally plain-ASCII equivalents (e.g., `π == pi`)."
   ]
  },
  {
   "cell_type": "markdown",
   "metadata": {},
   "source": [
    "Now let's compute the Euler's number\n",
    "$$\n",
    "e=\\sum_{n=0}^{\\infty} \\frac{1}{n !}=1+\\frac{1}{1}+\\frac{1}{1 \\cdot 2}+\\frac{1}{1 \\cdot 2 \\cdot 3}+\\cdots\n",
    "$$"
   ]
  },
  {
   "cell_type": "code",
   "execution_count": 21,
   "metadata": {},
   "outputs": [],
   "source": [
    "def e_approx1(n):\n",
    "    sum_ = 1.0\n",
    "    factorial_ = 1.0\n",
    "    for i in range(1, n+1):\n",
    "        factorial_ *= i\n",
    "        sum_ += 1 / factorial_\n",
    "\n",
    "    return sum_"
   ]
  },
  {
   "cell_type": "code",
   "execution_count": 22,
   "metadata": {
    "id": "ZYYN12HKjUat"
   },
   "outputs": [],
   "source": [
    "def factorial(n):\n",
    "    if n == 0 or n == 1:\n",
    "        return 1\n",
    "\n",
    "    return factorial(n-1) * n\n",
    "\n",
    "def e_approx2(n):\n",
    "    sum_ = 0.0\n",
    "    for i in range(0, n+1): \n",
    "        sum_ += 1 / factorial(i)\n",
    "\n",
    "    return sum_"
   ]
  },
  {
   "cell_type": "code",
   "execution_count": 23,
   "metadata": {},
   "outputs": [
    {
     "name": "stdout",
     "output_type": "stream",
     "text": [
      "time: 0.0\n",
      "4.440892098500626e-16\n",
      "time: 0.0\n",
      "4.440892098500626e-16\n"
     ]
    }
   ],
   "source": [
    "import time\n",
    "\n",
    "s = time.time()\n",
    "e_approx1(100)\n",
    "e = time.time()\n",
    "\n",
    "print(f\"time: {e - s}\")\n",
    "\n",
    "error1 = e_approx1(100) - math.e\n",
    "print(error1)\n",
    "\n",
    "s = time.time()\n",
    "e_approx1(100)\n",
    "e = time.time()\n",
    "\n",
    "print(f\"time: {e - s}\")\n",
    "\n",
    "error2 = e_approx1(100) - math.e\n",
    "print(error2)\n"
   ]
  },
  {
   "cell_type": "code",
   "execution_count": 24,
   "metadata": {
    "id": "sRoT3AAClIV0"
   },
   "outputs": [
    {
     "data": {
      "text/plain": [
       "4.440892098500626e-16"
      ]
     },
     "execution_count": 24,
     "metadata": {},
     "output_type": "execute_result"
    }
   ],
   "source": [
    "e_approx_inline = lambda n: sum(1/factorial(i) for i in range(0, n+1))\n",
    "\n",
    "e_approx_inline(100) - math.e"
   ]
  },
  {
   "cell_type": "markdown",
   "metadata": {
    "id": "1iiE76xA8pwr"
   },
   "source": [
    "## Loop Fusion\n",
    "Did you notice that we wrote `sin.(x) ./ x` (like `sin(x) / x` in numpy)?"
   ]
  },
  {
   "cell_type": "code",
   "execution_count": 25,
   "metadata": {
    "id": "kjXg63Hmd2ux"
   },
   "outputs": [],
   "source": [
    "import numpy as np\n",
    "from math import sin\n",
    "\n",
    "x = np.array([1, 2, 3, 4, 5])\n",
    "a = np.sin(x) / x\n",
    "b = [sin(i) / i for i in x]\n",
    "assert (a == b).all()"
   ]
  },
  {
   "cell_type": "markdown",
   "metadata": {
    "id": "wX26wG02d1KI"
   },
   "source": [
    " This is not just syntactic sugar: it's actually a very powerful Julia feature. Indeed, notice that the array only gets traversed once. Even if we chained more than two dotted operations, the array would still only get traversed once. This is called _loop fusion_.\n",
    "\n",
    "In contrast, when using NumPy arrays, `sin(x) / x` first computes a temporary array containing `sin(x)` and then it computes the final array. Two loops and two arrays instead of one. NumPy is implemented in C, and has been heavily optimized, but if you chain many operations, it still ends up being slower and using more RAM than Julia.\n"
   ]
  },
  {
   "cell_type": "markdown",
   "metadata": {
    "id": "MQ1U3aAwk5iD"
   },
   "source": [
    "## Python is slow!\n",
    "Let's compare the Julia and Python implementations of the `π_approx()` function:"
   ]
  },
  {
   "cell_type": "code",
   "execution_count": 26,
   "metadata": {
    "colab": {
     "base_uri": "https://localhost:8080/"
    },
    "id": "pXQbFKYgk9gG",
    "outputId": "40986449-f922-438d-b692-b83be3a7ed36"
   },
   "outputs": [
    {
     "name": "stdout",
     "output_type": "stream",
     "text": [
      "time: 52.61412715911865\n"
     ]
    }
   ],
   "source": [
    "import time\n",
    "\n",
    "s = time.time()\n",
    "pi_approx(100_000_000)\n",
    "e = time.time()\n",
    "\n",
    "print(f\"time: {e - s}\")"
   ]
  },
  {
   "cell_type": "markdown",
   "metadata": {},
   "source": [
    "It looks like Julia is close to 100 times faster than Python in this case! To be fair, `PyCall` does add some overhead, but even if you run this code in a separate Python shell, you will see that Julia crushes (pure) Python when it comes to speed."
   ]
  },
  {
   "cell_type": "markdown",
   "metadata": {},
   "source": [
    "So why is Julia so much faster than Python? Well, **Julia compiles the code on the fly as it runs it**."
   ]
  },
  {
   "cell_type": "markdown",
   "metadata": {
    "id": "w-HSoqJ8ts7P"
   },
   "source": [
    "Okay, let's summarize what we learned so far: Julia is a dynamic language that looks and feels a lot like Python, you can even execute Python code super easily, and pure Julia code runs much faster than pure Python code, because it is compiled on the fly. I hope this convinces you to read on!\n",
    "\n",
    "Next, let's continue to see how Python's main constructs can be implemented in Julia."
   ]
  },
  {
   "cell_type": "markdown",
   "metadata": {
    "id": "lQJKl9rD-BWj"
   },
   "source": [
    "# Methods\n",
    "Earlier, we discussed structs, which look a lot like Python classes, with instance variables and constructors, but they did not contain any methods (just the inner constructors). In Julia, methods are defined separately, like regular functions:"
   ]
  },
  {
   "cell_type": "code",
   "execution_count": 28,
   "metadata": {
    "colab": {
     "base_uri": "https://localhost:8080/"
    },
    "id": "axvF_XwJ-DJw",
    "outputId": "b678d157-e300-4b93-be37-a1855e040ba6"
   },
   "outputs": [
    {
     "data": {
      "text/plain": [
       "True"
      ]
     },
     "execution_count": 28,
     "metadata": {},
     "output_type": "execute_result"
    }
   ],
   "source": [
    "class Option:\n",
    "\n",
    "    def __init__(self, iscall, strike_price, maturity) -> None:\n",
    "        self.iscall, self.strike_price, self.maturity = iscall, strike_price, maturity\n",
    "\n",
    "\n",
    "option = Option(True, 100.0, 1.0)\n",
    "option.iscall"
   ]
  },
  {
   "cell_type": "code",
   "execution_count": 29,
   "metadata": {},
   "outputs": [
    {
     "data": {
      "text/plain": [
       "10.0"
      ]
     },
     "execution_count": 29,
     "metadata": {},
     "output_type": "execute_result"
    }
   ],
   "source": [
    "def payoff(option, price):\n",
    "    return max(price - option.strike_price, 0.0) if option.iscall else max(option.strike_price - price , 0.0)  \n",
    "\n",
    "put = Option(False, 100.0, 1.0) # constructor of Option\n",
    "payoff(put, 90.0) "
   ]
  },
  {
   "cell_type": "markdown",
   "metadata": {
    "id": "ylOha2mhCRgz"
   },
   "source": [
    "Since the `payoff()` method in Julia is not bound to any particular type, we can use it with any other type we want, as long as that type has a `iscall` and an `strike_price`:"
   ]
  },
  {
   "cell_type": "code",
   "execution_count": 30,
   "metadata": {
    "colab": {
     "base_uri": "https://localhost:8080/"
    },
    "id": "vWkQqaEPCgeY",
    "outputId": "d67c7026-4660-48c5-f2bc-bd7007c8f684"
   },
   "outputs": [
    {
     "data": {
      "text/plain": [
       "30.0"
      ]
     },
     "execution_count": 30,
     "metadata": {},
     "output_type": "execute_result"
    }
   ],
   "source": [
    "class BarrierOption:\n",
    "\n",
    "    def __init__(self, iscall, strike_price, maturity, isknockin, lower_barrier, upper_barrier) -> None:\n",
    "        self.iscall, self.strike_price, self.maturity = iscall, strike_price, maturity\n",
    "        self.isknockin, self.lower_barrier, self.upper_barrier = isknockin, lower_barrier, upper_barrier\n",
    "\n",
    "\n",
    "barrier_option = BarrierOption(True, 100.0, 1.0, True, 80.0, 90.0)\n",
    "payoff(barrier_option, 130.0)"
   ]
  },
  {
   "cell_type": "markdown",
   "metadata": {
    "id": "iRNLWOyURGGp"
   },
   "source": [
    "## Extending a Function\n",
    "One nice thing about having a class hierarchy is that you can override methods in subclasses to get specialized behavior for each class. For example, in Python you could override the `payoff()` method like this:\n"
   ]
  },
  {
   "cell_type": "code",
   "execution_count": null,
   "metadata": {},
   "outputs": [],
   "source": [
    "# A is B => A is a subtype of B "
   ]
  },
  {
   "cell_type": "code",
   "execution_count": 31,
   "metadata": {},
   "outputs": [
    {
     "name": "stdout",
     "output_type": "stream",
     "text": [
      "1\n"
     ]
    },
    {
     "data": {
      "text/plain": [
       "False"
      ]
     },
     "execution_count": 31,
     "metadata": {},
     "output_type": "execute_result"
    }
   ],
   "source": [
    "class Option:\n",
    "    def __init__(self, iscall, strike_price, maturity) -> None:\n",
    "        self.iscall, self.strike_price, self.maturity = iscall, strike_price, maturity\n",
    "\n",
    "    def payoff(self, price):\n",
    "        return max(price - self.strike_price, 0.0) if self.iscall else max(self.strike_price - price , 0.0)            \n",
    "\n",
    "class BinaryOption(Option):\n",
    "    def __init__(self, iscall, strike_price, maturity) -> None:\n",
    "        super().__init__(iscall, strike_price, maturity)\n",
    "        \n",
    "\n",
    "    def payoff(self, price):\n",
    "        call_payoff = 1 if price > self.strike_price else 0\n",
    "        put_payoff = 1 if self.strike_price > price else 0\n",
    "        return call_payoff if self.iscall else put_payoff  \n",
    "\n",
    "    def isexercised(self, price):\n",
    "        call_exercised = price > self.strike_price # output type Boolean\n",
    "        put_exercised = price < self.strike_price # output type Boolean\n",
    "        return call_exercised if self.iscall else put_exercised # output type Boolean\n",
    "\n",
    "barrier_option = BinaryOption(False, 100.0, 1.0)\n",
    "\n",
    "print(barrier_option.payoff(90.0))\n",
    "\n",
    "barrier_option.isexercised(110.0)"
   ]
  },
  {
   "cell_type": "markdown",
   "metadata": {
    "id": "srgbdxLxSWGG"
   },
   "source": [
    "Notice that the expression `d.payoff()` will call a different method if `d` is an `Option` or a `BarrierOption`. This is called \"polymorphism\": the same method call behaves differently depending on the type of the object. The language chooses which actual method implementation to call, based on the type of `d`: this is called method \"dispatch\". More specifically, since it only depends on a single variable, it is called \"single dispatch\".\n",
    "\n",
    "The good news is that Julia can do single dispatch as well:"
   ]
  },
  {
   "cell_type": "markdown",
   "metadata": {
    "id": "Y7U4rXr2GnFx"
   },
   "source": [
    "## Multiple Dispatch\n",
    "\n",
    "Python is single dispatch."
   ]
  },
  {
   "cell_type": "markdown",
   "metadata": {
    "id": "iPtX04AJkXnI"
   },
   "source": [
    "## Abstract Types\n",
    "\n",
    "Python does not have this feature in this way."
   ]
  },
  {
   "cell_type": "markdown",
   "metadata": {
    "id": "NdE0eLaKf_tM"
   },
   "source": [
    "## Iterator Interface\n",
    "You will sometimes want to provide a way to iterate over your custom types. In Python, this requires defining the `__iter__()` method which should return an object which implements the `__next__()` method. In Julia, you must define at least two functions:\n",
    "* `iterate(::YourIteratorType)`, which must return either `nothing` if there are no values in the sequence, or `(first_value, iterator_state)`.\n",
    "* `iterate(::YourIteratorType, state)`, which must return either `nothing` if there are no more values, or `(next_value, new_iterator_state)`.\n",
    "\n",
    "For example, let's create a simple iterator for the Fibonacci sequence:"
   ]
  },
  {
   "cell_type": "code",
   "execution_count": 39,
   "metadata": {
    "colab": {
     "base_uri": "https://localhost:8080/"
    },
    "id": "yidgsJt9eBSk",
    "outputId": "77dbf7d6-d599-4fa6-c82c-67f91cceed12"
   },
   "outputs": [],
   "source": [
    "class Fibonacci():\n",
    "    def __init__(self, n):\n",
    "        self.counter = n\n",
    "        self.current  = 0\n",
    "        self.next = 1\n",
    "\n",
    "    def __iter__(self):\n",
    "        return self\n",
    "\n",
    "    def __next__(self):\n",
    "\n",
    "        if self.counter == 0:\n",
    "           raise StopIteration\n",
    "\n",
    "        self.counter -= 1\n",
    "\n",
    "        next = self.current + self.next\n",
    "        self.current = self.next\n",
    "        self.next = next\n",
    "\n",
    "        return self.current"
   ]
  },
  {
   "cell_type": "markdown",
   "metadata": {
    "id": "9CORRxR8hYrl"
   },
   "source": [
    "Now we can iterate over a `Fibonacci` instance:"
   ]
  },
  {
   "cell_type": "code",
   "execution_count": 42,
   "metadata": {
    "colab": {
     "base_uri": "https://localhost:8080/"
    },
    "id": "5W0QbY41fJGE",
    "outputId": "bb5c801d-5dc1-471a-c8e4-c32d497c5088"
   },
   "outputs": [
    {
     "name": "stdout",
     "output_type": "stream",
     "text": [
      "1: 1\n",
      "2: 1\n",
      "3: 2\n",
      "4: 3\n",
      "5: 5\n",
      "6: 8\n",
      "7: 13\n",
      "8: 21\n",
      "9: 34\n",
      "10: 55\n"
     ]
    }
   ],
   "source": [
    "fib_10 = Fibonacci(10)\n",
    "for i, fib in enumerate(fib_10):\n",
    "    print(f\"{i + 1}: {fib}\")"
   ]
  },
  {
   "cell_type": "markdown",
   "metadata": {
    "id": "RjEk9nRIhmwV"
   },
   "source": [
    "## Indexing Interface\n"
   ]
  },
  {
   "cell_type": "code",
   "execution_count": 23,
   "metadata": {},
   "outputs": [
    {
     "name": "stdout",
     "output_type": "stream",
     "text": [
      "5\n",
      "4\n",
      "3\n",
      "2\n",
      "1\n",
      "0\n",
      "2\n",
      "8\n"
     ]
    }
   ],
   "source": [
    "class LinkedList:\n",
    "    def __init__(self, n) -> None:\n",
    "        self.current = n\n",
    "        if n != 0:\n",
    "            self.previous_block = LinkedList(n - 1)\n",
    "\n",
    "    def print_list(self):\n",
    "        print(self.current)\n",
    "        try:\n",
    "            self.previous_block.print_list()\n",
    "        except:\n",
    "            pass\n",
    "\n",
    "    def __getitem__(self, index):\n",
    "        current_block = self\n",
    "        for i in range(index):\n",
    "            current_block = current_block.previous_block\n",
    "\n",
    "        return current_block.current\n",
    "\n",
    "    def __setitem__(self, index, new_value):\n",
    "        current_block = self\n",
    "        for i in range(index):\n",
    "            current_block = current_block.previous_block\n",
    "\n",
    "        current_block.current = new_value\n",
    "\n",
    "\n",
    "ll = LinkedList(5)\n",
    "ll.print_list()\n",
    "\n",
    "print(ll[3])\n",
    "ll[3] = 8\n",
    "print(ll[3])\n",
    "\n"
   ]
  },
  {
   "cell_type": "markdown",
   "metadata": {
    "id": "bD9gzH2XDlGL"
   },
   "source": [
    "## Creating a Number Type\n",
    "\n",
    "Python does not have this feature in this way. (only support operator overloading)\n"
   ]
  },
  {
   "cell_type": "code",
   "execution_count": 48,
   "metadata": {},
   "outputs": [
    {
     "name": "stdout",
     "output_type": "stream",
     "text": [
      "5 / 6\n",
      "1 / 6\n",
      "1 / 6\n"
     ]
    }
   ],
   "source": [
    "class Rational:\n",
    "\n",
    "    def __init__(self, num, den) -> None:\n",
    "        self.num, self.den = num, den\n",
    "\n",
    "    def __add__(self, other):\n",
    "        return Rational(self.num * other.den + self.den * other.num, self.den * other.den)\n",
    "\n",
    "    def __sub__(self, other):\n",
    "        return Rational(self.num * other.den - self.den * other.num, self.den * other.den)\n",
    "\n",
    "    def __mul__(self, other):\n",
    "        return Rational(self.num * other.num, self.den * other.den)\n",
    "\n",
    "    def __str__(self) -> str:\n",
    "        return f\"{self.num} / {self.den}\"\n",
    "\n",
    "r1 = Rational(1, 2)\n",
    "r2 = Rational(1, 3)\n",
    "\n",
    "print(r1 + r2)\n",
    "print(r1 - r2)\n",
    "print(r1 * r2)"
   ]
  },
  {
   "cell_type": "markdown",
   "metadata": {
    "id": "TWXZrND8N-nR"
   },
   "source": [
    "## Conversion\n",
    "\n",
    "Python does not have this feature in this way."
   ]
  },
  {
   "cell_type": "markdown",
   "metadata": {
    "id": "KhtxelSROzU_"
   },
   "source": [
    "## Promotion\n",
    "\n",
    "Python does not have this feature in this way."
   ]
  },
  {
   "cell_type": "markdown",
   "metadata": {
    "id": "p6msWOnrRwTO"
   },
   "source": [
    "## Parametric Types and Functions\n",
    "\n",
    "Python does not have this feature in this way.\n"
   ]
  },
  {
   "cell_type": "markdown",
   "metadata": {
    "id": "Ieqz4vrxEAQb"
   },
   "source": [
    "# Docstrings\n",
    "It's good practice to add docstrings to every function you export. The docstring is placed just _before_ the definition of the function:"
   ]
  },
  {
   "cell_type": "code",
   "execution_count": 55,
   "metadata": {
    "colab": {
     "base_uri": "https://localhost:8080/"
    },
    "id": "OgwehsQjNj8Y",
    "outputId": "fbe4fe4b-47f6-467d-a311-8744f88e8f2a"
   },
   "outputs": [],
   "source": [
    "def squere(x):\n",
    "    \"\"\"\n",
    "    Compute the square of number x\n",
    "    \"\"\"   \n",
    "    return x**2\n",
    "\n",
    "    "
   ]
  },
  {
   "cell_type": "markdown",
   "metadata": {
    "id": "B9vmLpLpO6ix"
   },
   "source": [
    "You can retrieve a function's docstring using the `@doc` macro:"
   ]
  },
  {
   "cell_type": "code",
   "execution_count": 57,
   "metadata": {
    "colab": {
     "base_uri": "https://localhost:8080/",
     "height": 46
    },
    "id": "rYR63pL1NsWU",
    "outputId": "99613972-c9a9-4898-86b0-dae41aa07e5e"
   },
   "outputs": [
    {
     "name": "stdout",
     "output_type": "stream",
     "text": [
      "\n",
      "    Compute the square of number x\n",
      "    \n"
     ]
    }
   ],
   "source": [
    "print(squere.__doc__)"
   ]
  }
 ],
 "metadata": {
  "accelerator": "GPU",
  "colab": {
   "collapsed_sections": [],
   "name": "Julia_Py.ipynb",
   "provenance": [],
   "toc_visible": true
  },
  "kernelspec": {
   "display_name": "Python 3.10.6 ('ml')",
   "language": "python",
   "name": "python3"
  },
  "language_info": {
   "codemirror_mode": {
    "name": "ipython",
    "version": 3
   },
   "file_extension": ".py",
   "mimetype": "text/x-python",
   "name": "python",
   "nbconvert_exporter": "python",
   "pygments_lexer": "ipython3",
   "version": "3.10.6"
  },
  "vscode": {
   "interpreter": {
    "hash": "2ff50100434cc479892626f133397731c49cdeb5620cb5b4c3a938fe7a88ca82"
   }
  }
 },
 "nbformat": 4,
 "nbformat_minor": 1
}
