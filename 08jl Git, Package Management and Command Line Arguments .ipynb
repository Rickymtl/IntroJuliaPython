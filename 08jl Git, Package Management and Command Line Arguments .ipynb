{
 "cells": [
  {
   "cell_type": "markdown",
   "metadata": {},
   "source": [
    "# Git"
   ]
  },
  {
   "cell_type": "markdown",
   "metadata": {
    "id": "2ME2_ryels7L"
   },
   "source": [
    "# Package Management\n"
   ]
  },
  {
   "cell_type": "markdown",
   "metadata": {
    "id": "hsT_nU1gB6-r"
   },
   "source": [
    "## Basic Workflow\n",
    "The simplest way to write a Julia program is to create a `.jl` file somewhere and run it using `julia`. You would usually do this with your favorite editor, but in this notebook we must do this programmatically. For example:"
   ]
  },
  {
   "cell_type": "code",
   "execution_count": 1,
   "metadata": {
    "colab": {
     "base_uri": "https://localhost:8080/"
    },
    "id": "sRL8oZDaC0PX",
    "outputId": "99859a12-d99a-4eeb-b660-5bde420f6392"
   },
   "outputs": [
    {
     "data": {
      "text/plain": [
       "23"
      ]
     },
     "metadata": {},
     "output_type": "display_data"
    }
   ],
   "source": [
    "code = \"\"\"\n",
    "println(\"Hello world\")\n",
    "\"\"\"\n",
    "\n",
    "open(f->write(f, code), \"my_program1.jl\", \"w\")"
   ]
  },
  {
   "cell_type": "markdown",
   "metadata": {
    "id": "I3LsIKh47R99"
   },
   "source": [
    "Then let's run the program using a shell command:"
   ]
  },
  {
   "cell_type": "code",
   "execution_count": 6,
   "metadata": {
    "colab": {
     "base_uri": "https://localhost:8080/"
    },
    "id": "UvfGZxERDv6c",
    "outputId": "6a77e71d-9415-4f95-f22d-8b73b9dc57d0"
   },
   "outputs": [
    {
     "ename": "UndefVarError",
     "evalue": "UndefVarError: `my_program1` not defined",
     "output_type": "error",
     "traceback": [
      "UndefVarError: `my_program1` not defined\n",
      "\n",
      "Stacktrace:\n",
      " [1] top-level scope\n",
      "   @ c:\\Users\\hamid\\OneDrive\\code\\JuPy\\Part01 Basics - Rafatnejad(1-5), Mousavizade(6-8)\\08jl Git, Package Management and Command Line Arguments .ipynb:1"
     ]
    }
   ],
   "source": [
    ";julia my_program1.jl"
   ]
  },
  {
   "cell_type": "markdown",
   "metadata": {
    "id": "KmDPtknrD0Al"
   },
   "source": [
    "If you need to use a package which is not part of the standard library, such as `PyCall`, you first need to install it using Julia's package manager `Pkg`:"
   ]
  },
  {
   "cell_type": "code",
   "execution_count": null,
   "metadata": {
    "colab": {
     "base_uri": "https://localhost:8080/"
    },
    "id": "doKyY1qWEMZV",
    "outputId": "9f97e61e-99ba-4c7b-9ccf-b0afa77fc466"
   },
   "outputs": [
    {
     "name": "stderr",
     "output_type": "stream",
     "text": [
      "\u001b[32m\u001b[1m    Updating\u001b[22m\u001b[39m registry at `~/.julia/registries/General`\n",
      "\u001b[32m\u001b[1m   Resolving\u001b[22m\u001b[39m package versions...\n",
      "\u001b[32m\u001b[1m  No Changes\u001b[22m\u001b[39m to `~/.julia/environments/v1.6/Project.toml`\n",
      "\u001b[32m\u001b[1m  No Changes\u001b[22m\u001b[39m to `~/.julia/environments/v1.6/Manifest.toml`\n"
     ]
    }
   ],
   "source": [
    "using Pkg\n",
    "Pkg.add(\"PyCall\")"
   ]
  },
  {
   "cell_type": "markdown",
   "metadata": {
    "id": "iQj8OgUKERBz"
   },
   "source": [
    "Alternatively, in interactive mode, you can enter the `Pkg` mode by typing `]`, then type a command:"
   ]
  },
  {
   "cell_type": "code",
   "execution_count": null,
   "metadata": {
    "colab": {
     "base_uri": "https://localhost:8080/"
    },
    "id": "KGyakk8GEf84",
    "outputId": "b2d6a186-add9-410a-ceba-45793e739b3b"
   },
   "outputs": [
    {
     "name": "stderr",
     "output_type": "stream",
     "text": [
      "\u001b[32m\u001b[1m   Resolving\u001b[22m\u001b[39m package versions...\n",
      "\u001b[32m\u001b[1m  No Changes\u001b[22m\u001b[39m to `~/.julia/environments/v1.6/Project.toml`\n",
      "\u001b[32m\u001b[1m  No Changes\u001b[22m\u001b[39m to `~/.julia/environments/v1.6/Manifest.toml`\n"
     ]
    }
   ],
   "source": [
    "]add PyCall"
   ]
  },
  {
   "cell_type": "markdown",
   "metadata": {
    "id": "AsGGVOPzEkj9"
   },
   "source": [
    "You can also precompile the new package to avoid the compilation delay when the package is first used:"
   ]
  },
  {
   "cell_type": "code",
   "execution_count": null,
   "metadata": {
    "colab": {
     "base_uri": "https://localhost:8080/"
    },
    "id": "GqYovSwVEihb",
    "outputId": "d5748063-1dbb-4b1c-f623-23ae35d17b52"
   },
   "outputs": [
    {
     "name": "stderr",
     "output_type": "stream",
     "text": [
      "\u001b[32m\u001b[1m   Resolving\u001b[22m\u001b[39m package versions...\n",
      "\u001b[32m\u001b[1m  No Changes\u001b[22m\u001b[39m to `~/.julia/environments/v1.6/Project.toml`\n",
      "\u001b[32m\u001b[1m  No Changes\u001b[22m\u001b[39m to `~/.julia/environments/v1.6/Manifest.toml`\n"
     ]
    }
   ],
   "source": [
    "]add PyCall; precompile;"
   ]
  },
  {
   "cell_type": "markdown",
   "metadata": {
    "id": "JMwXNbzGExCn"
   },
   "source": [
    "One last alternative is to use `pkg\"...\"` strings to run commands in your programs:"
   ]
  },
  {
   "cell_type": "code",
   "execution_count": null,
   "metadata": {
    "colab": {
     "base_uri": "https://localhost:8080/"
    },
    "id": "tx5hdeO9E71F",
    "outputId": "a77f8002-0d1c-4a94-820e-7b8f87b768fe"
   },
   "outputs": [
    {
     "name": "stderr",
     "output_type": "stream",
     "text": [
      "\u001b[32m\u001b[1m   Resolving\u001b[22m\u001b[39m package versions...\n",
      "\u001b[32m\u001b[1m  No Changes\u001b[22m\u001b[39m to `~/.julia/environments/v1.6/Project.toml`\n",
      "\u001b[32m\u001b[1m  No Changes\u001b[22m\u001b[39m to `~/.julia/environments/v1.6/Manifest.toml`\n"
     ]
    }
   ],
   "source": [
    "pkg\"add PyCall; precompile;\""
   ]
  },
  {
   "cell_type": "markdown",
   "metadata": {
    "id": "fEIWFBgnFC6c"
   },
   "source": [
    "Now you can import `PyCall` in any of your Julia programs:"
   ]
  },
  {
   "cell_type": "code",
   "execution_count": null,
   "metadata": {
    "colab": {
     "base_uri": "https://localhost:8080/"
    },
    "id": "9kTp497AFJuT",
    "outputId": "a319d2c5-7f4a-4e9e-c625-e42983ec9159"
   },
   "outputs": [
    {
     "data": {
      "text/plain": [
       "41"
      ]
     },
     "execution_count": 321,
     "metadata": {
      "tags": []
     },
     "output_type": "execute_result"
    }
   ],
   "source": [
    "code = \"\"\"\n",
    "using PyCall\n",
    "py\"print('1 + 2 =', 1 + 2)\"\n",
    "\"\"\"\n",
    "\n",
    "open(f->write(f, code), \"my_program2.jl\", \"w\")"
   ]
  },
  {
   "cell_type": "code",
   "execution_count": null,
   "metadata": {
    "colab": {
     "base_uri": "https://localhost:8080/"
    },
    "id": "unfHQR31FVf1",
    "outputId": "c8765277-134d-406d-86fb-296aba428522"
   },
   "outputs": [
    {
     "name": "stdout",
     "output_type": "stream",
     "text": [
      "1 + 2 = 3\n"
     ]
    }
   ],
   "source": [
    ";julia my_program2.jl"
   ]
  },
  {
   "cell_type": "markdown",
   "metadata": {
    "id": "7Cd3wPG9PH-p"
   },
   "source": [
    "You can also add packages by providing their URL (typically on github). This is useful when you want to use a package which is not in the [official Julia Package registry](https://github.com/JuliaRegistries/General), or when you want the very latest version of a package:"
   ]
  },
  {
   "cell_type": "code",
   "execution_count": null,
   "metadata": {
    "colab": {
     "base_uri": "https://localhost:8080/"
    },
    "id": "cW6k8F91PT23",
    "outputId": "435aaa3c-391c-4b53-9fa4-75cd4bd34da2"
   },
   "outputs": [
    {
     "name": "stderr",
     "output_type": "stream",
     "text": [
      "\u001b[32m\u001b[1m     Cloning\u001b[22m\u001b[39m git-repo `https://github.com/JuliaLang/Example.jl`\n",
      "\u001b[32m\u001b[1m    Updating\u001b[22m\u001b[39m git-repo `https://github.com/JuliaLang/Example.jl`\n",
      "\u001b[32m\u001b[1m   Resolving\u001b[22m\u001b[39m package versions...\n",
      "\u001b[32m\u001b[1m    Updating\u001b[22m\u001b[39m `~/.julia/environments/v1.6/Project.toml`\n",
      " \u001b[90m [7876af07] \u001b[39m\u001b[92m+ Example v0.5.4 `https://github.com/JuliaLang/Example.jl#master`\u001b[39m\n",
      "\u001b[32m\u001b[1m    Updating\u001b[22m\u001b[39m `~/.julia/environments/v1.6/Manifest.toml`\n",
      " \u001b[90m [7876af07] \u001b[39m\u001b[92m+ Example v0.5.4 `https://github.com/JuliaLang/Example.jl#master`\u001b[39m\n",
      "\u001b[32m\u001b[1mPrecompiling\u001b[22m\u001b[39m project...\n",
      "\u001b[32m  ✓ \u001b[39mExample\n",
      "1 dependency successfully precompiled in 1 seconds (42 already precompiled)\n"
     ]
    }
   ],
   "source": [
    "]add https://github.com/JuliaLang/Example.jl"
   ]
  },
  {
   "cell_type": "markdown",
   "metadata": {
    "id": "HtRAtwWkD3Ao"
   },
   "source": [
    "You can install a specific package version like this:"
   ]
  },
  {
   "cell_type": "code",
   "execution_count": null,
   "metadata": {
    "colab": {
     "base_uri": "https://localhost:8080/"
    },
    "id": "CceFEwcTCAWG",
    "outputId": "5f9d4d46-af5d-4190-d2d9-e9054827813c"
   },
   "outputs": [
    {
     "name": "stderr",
     "output_type": "stream",
     "text": [
      "\u001b[32m\u001b[1m   Resolving\u001b[22m\u001b[39m package versions...\n",
      "\u001b[32m\u001b[1m   Installed\u001b[22m\u001b[39m PyCall ─ v1.91.3\n",
      "\u001b[32m\u001b[1m    Updating\u001b[22m\u001b[39m `~/.julia/environments/v1.6/Project.toml`\n",
      " \u001b[90m [438e738f] \u001b[39m\u001b[95m↓ PyCall v1.92.2 ⇒ v1.91.3\u001b[39m\n",
      "\u001b[32m\u001b[1m    Updating\u001b[22m\u001b[39m `~/.julia/environments/v1.6/Manifest.toml`\n",
      " \u001b[90m [438e738f] \u001b[39m\u001b[95m↓ PyCall v1.92.2 ⇒ v1.91.3\u001b[39m\n",
      "\u001b[32m\u001b[1m    Building\u001b[22m\u001b[39m PyCall → `~/.julia/scratchspaces/44cfe95a-1eb2-52ea-b672-e2afdf69b78f/ce0780857d129208c4e5a6d722486fb40ce11bf8/build.log`\n",
      "\u001b[32m\u001b[1mPrecompiling\u001b[22m\u001b[39m project...\n",
      "\u001b[32m  ✓ \u001b[39mPyCall\n",
      "\u001b[33m  ? \u001b[39mPyPlot\n",
      "1 dependency successfully precompiled in 5 seconds (41 already precompiled)\n",
      "\u001b[33m1\u001b[39m dependency failed but may be precompilable after restarting julia\n"
     ]
    }
   ],
   "source": [
    "]add PyCall@1.91.3"
   ]
  },
  {
   "cell_type": "markdown",
   "metadata": {
    "id": "AlN_f9jpGPO1"
   },
   "source": [
    "If you only specify version `1` or version `1.91`, Julia will get the latest version with that prefix. For example, `]add PyCall@0.91` would install the latest version `0.91.x`."
   ]
  },
  {
   "cell_type": "markdown",
   "metadata": {
    "id": "TDixUMn7DDri"
   },
   "source": [
    "You can also update a package to its latest version:"
   ]
  },
  {
   "cell_type": "code",
   "execution_count": null,
   "metadata": {
    "colab": {
     "base_uri": "https://localhost:8080/"
    },
    "id": "0EQofpkzD4xq",
    "outputId": "9eb7f171-436a-462c-8bd4-4f4eaba3776d"
   },
   "outputs": [
    {
     "name": "stderr",
     "output_type": "stream",
     "text": [
      "\u001b[32m\u001b[1m    Updating\u001b[22m\u001b[39m registry at `~/.julia/registries/General`\n",
      "\u001b[32m\u001b[1m    Updating\u001b[22m\u001b[39m `~/.julia/environments/v1.6/Project.toml`\n",
      " \u001b[90m [438e738f] \u001b[39m\u001b[93m↑ PyCall v1.91.3 ⇒ v1.92.2\u001b[39m\n",
      "\u001b[32m\u001b[1m    Updating\u001b[22m\u001b[39m `~/.julia/environments/v1.6/Manifest.toml`\n",
      " \u001b[90m [438e738f] \u001b[39m\u001b[93m↑ PyCall v1.91.3 ⇒ v1.92.2\u001b[39m\n",
      "\u001b[32m\u001b[1mPrecompiling\u001b[22m\u001b[39m project...\n",
      "\u001b[32m  ✓ \u001b[39mPyCall\n",
      "\u001b[33m  ? \u001b[39mPyPlot\n",
      "1 dependency successfully precompiled in 5 seconds (41 already precompiled)\n",
      "\u001b[33m1\u001b[39m dependency failed but may be precompilable after restarting julia\n"
     ]
    }
   ],
   "source": [
    "]update PyCall"
   ]
  },
  {
   "cell_type": "markdown",
   "metadata": {
    "id": "lgeDVp26DI7_"
   },
   "source": [
    "You can update all packages to their latest versions:"
   ]
  },
  {
   "cell_type": "code",
   "execution_count": null,
   "metadata": {
    "colab": {
     "base_uri": "https://localhost:8080/"
    },
    "id": "S3Mi-zgLDOVw",
    "outputId": "23a16e4c-df4e-4f61-ec21-3ca29a2f3963"
   },
   "outputs": [
    {
     "name": "stderr",
     "output_type": "stream",
     "text": [
      "\u001b[32m\u001b[1m    Updating\u001b[22m\u001b[39m registry at `~/.julia/registries/General`\n",
      "\u001b[32m\u001b[1m    Updating\u001b[22m\u001b[39m git-repo `https://github.com/JuliaLang/Example.jl`\n",
      "\u001b[32m\u001b[1m  No Changes\u001b[22m\u001b[39m to `~/.julia/environments/v1.6/Project.toml`\n",
      "\u001b[32m\u001b[1m  No Changes\u001b[22m\u001b[39m to `~/.julia/environments/v1.6/Manifest.toml`\n"
     ]
    }
   ],
   "source": [
    "]update"
   ]
  },
  {
   "cell_type": "markdown",
   "metadata": {
    "id": "1C6nNERsDa_M"
   },
   "source": [
    "If you don't want a particular package to be updated the next time you call `]update`, you can pin it:"
   ]
  },
  {
   "cell_type": "code",
   "execution_count": null,
   "metadata": {
    "colab": {
     "base_uri": "https://localhost:8080/"
    },
    "id": "Nht6o2uCDiiL",
    "outputId": "1b8e5a3b-aa3e-41e8-e446-284639c03bc8"
   },
   "outputs": [
    {
     "name": "stderr",
     "output_type": "stream",
     "text": [
      "\u001b[32m\u001b[1m   Resolving\u001b[22m\u001b[39m package versions...\n",
      "\u001b[32m\u001b[1m    Updating\u001b[22m\u001b[39m `~/.julia/environments/v1.6/Project.toml`\n",
      " \u001b[90m [438e738f] \u001b[39m\u001b[95m↓ PyCall v1.92.2 ⇒ v1.92.2 ⚲\u001b[39m\n",
      "\u001b[32m\u001b[1m    Updating\u001b[22m\u001b[39m `~/.julia/environments/v1.6/Manifest.toml`\n",
      " \u001b[90m [438e738f] \u001b[39m\u001b[95m↓ PyCall v1.92.2 ⇒ v1.92.2 ⚲\u001b[39m\n"
     ]
    }
   ],
   "source": [
    "]pin PyCall"
   ]
  },
  {
   "cell_type": "markdown",
   "metadata": {
    "id": "Qp9v2d7tDxjH"
   },
   "source": [
    "To unpin the package:"
   ]
  },
  {
   "cell_type": "code",
   "execution_count": null,
   "metadata": {
    "colab": {
     "base_uri": "https://localhost:8080/"
    },
    "id": "3i9JoQimDl7I",
    "outputId": "6a94353d-586a-47af-c7b2-230ab3e7926b"
   },
   "outputs": [
    {
     "name": "stderr",
     "output_type": "stream",
     "text": [
      "\u001b[32m\u001b[1m    Updating\u001b[22m\u001b[39m `~/.julia/environments/v1.6/Project.toml`\n",
      " \u001b[90m [438e738f] \u001b[39m\u001b[95m↓ PyCall v1.92.2 ⚲ ⇒ v1.92.2\u001b[39m\n",
      "\u001b[32m\u001b[1m    Updating\u001b[22m\u001b[39m `~/.julia/environments/v1.6/Manifest.toml`\n",
      " \u001b[90m [438e738f] \u001b[39m\u001b[95m↓ PyCall v1.92.2 ⚲ ⇒ v1.92.2\u001b[39m\n"
     ]
    }
   ],
   "source": [
    "]free PyCall"
   ]
  },
  {
   "cell_type": "markdown",
   "metadata": {
    "id": "Asr1snFp609f"
   },
   "source": [
    "You can also run the tests defined in a package:"
   ]
  },
  {
   "cell_type": "code",
   "execution_count": null,
   "metadata": {
    "colab": {
     "base_uri": "https://localhost:8080/"
    },
    "id": "XlmKnEvf67zi",
    "outputId": "44c71c9a-2129-4a99-824d-d4f286bd9444"
   },
   "outputs": [
    {
     "name": "stderr",
     "output_type": "stream",
     "text": [
      "\u001b[32m\u001b[1m     Testing\u001b[22m\u001b[39m Example\n",
      "\u001b[32m\u001b[1m      Status\u001b[22m\u001b[39m `/tmp/jl_GXRm5b/Project.toml`\n",
      " \u001b[90m [7876af07] \u001b[39m\u001b[37mExample v0.5.4 `https://github.com/JuliaLang/Example.jl#master`\u001b[39m\n",
      " \u001b[90m [8dfed614] \u001b[39m\u001b[37mTest `@stdlib/Test`\u001b[39m\n",
      "\u001b[32m\u001b[1m      Status\u001b[22m\u001b[39m `/tmp/jl_GXRm5b/Manifest.toml`\n",
      " \u001b[90m [7876af07] \u001b[39m\u001b[37mExample v0.5.4 `https://github.com/JuliaLang/Example.jl#master`\u001b[39m\n",
      " \u001b[90m [2a0f44e3] \u001b[39m\u001b[37mBase64 `@stdlib/Base64`\u001b[39m\n",
      " \u001b[90m [b77e0a4c] \u001b[39m\u001b[37mInteractiveUtils `@stdlib/InteractiveUtils`\u001b[39m\n",
      " \u001b[90m [56ddb016] \u001b[39m\u001b[37mLogging `@stdlib/Logging`\u001b[39m\n",
      " \u001b[90m [d6f4376e] \u001b[39m\u001b[37mMarkdown `@stdlib/Markdown`\u001b[39m\n",
      " \u001b[90m [9a3f8284] \u001b[39m\u001b[37mRandom `@stdlib/Random`\u001b[39m\n",
      " \u001b[90m [9e88b42a] \u001b[39m\u001b[37mSerialization `@stdlib/Serialization`\u001b[39m\n",
      " \u001b[90m [8dfed614] \u001b[39m\u001b[37mTest `@stdlib/Test`\u001b[39m\n",
      "\u001b[32m\u001b[1m     Testing\u001b[22m\u001b[39m Running tests...\n",
      "\u001b[32m\u001b[1m     Testing\u001b[22m\u001b[39m Example tests passed \n"
     ]
    }
   ],
   "source": [
    "]test Example"
   ]
  },
  {
   "cell_type": "markdown",
   "metadata": {
    "id": "lHAXzij6ZPPs"
   },
   "source": [
    "Of course, you can remove a package:"
   ]
  },
  {
   "cell_type": "code",
   "execution_count": null,
   "metadata": {
    "colab": {
     "base_uri": "https://localhost:8080/"
    },
    "id": "2fuEjhjzZROg",
    "outputId": "aad942a3-ad60-4114-b73e-6e5a5ab1f3a3"
   },
   "outputs": [
    {
     "name": "stderr",
     "output_type": "stream",
     "text": [
      "\u001b[32m\u001b[1m    Updating\u001b[22m\u001b[39m `~/.julia/environments/v1.6/Project.toml`\n",
      " \u001b[90m [7876af07] \u001b[39m\u001b[91m- Example v0.5.4 `https://github.com/JuliaLang/Example.jl#master`\u001b[39m\n",
      "\u001b[32m\u001b[1m    Updating\u001b[22m\u001b[39m `~/.julia/environments/v1.6/Manifest.toml`\n",
      " \u001b[90m [7876af07] \u001b[39m\u001b[91m- Example v0.5.4 `https://github.com/JuliaLang/Example.jl#master`\u001b[39m\n"
     ]
    }
   ],
   "source": [
    "]rm Example"
   ]
  },
  {
   "cell_type": "markdown",
   "metadata": {
    "id": "eeTA6D33CHTv"
   },
   "source": [
    "Lastly, you can check which packages are installed using `]status` (or `]st` for short):"
   ]
  },
  {
   "cell_type": "code",
   "execution_count": null,
   "metadata": {
    "colab": {
     "base_uri": "https://localhost:8080/"
    },
    "id": "lSqzm_yECL6Y",
    "outputId": "3363ca77-b3e7-47fb-d86a-2c630da2b3cb"
   },
   "outputs": [
    {
     "name": "stdout",
     "output_type": "stream",
     "text": [
      "\u001b[32m\u001b[1m      Status\u001b[22m\u001b[39m `~/.julia/environments/v1.6/Project.toml`\n",
      " \u001b[90m [6e4b80f9] \u001b[39m\u001b[37mBenchmarkTools v0.6.0\u001b[39m\n",
      " \u001b[90m [052768ef] \u001b[39m\u001b[37mCUDA v2.6.2\u001b[39m\n",
      " \u001b[90m [7073ff75] \u001b[39m\u001b[37mIJulia v1.23.2\u001b[39m\n",
      " \u001b[90m [438e738f] \u001b[39m\u001b[37mPyCall v1.92.2\u001b[39m\n",
      " \u001b[90m [d330b81b] \u001b[39m\u001b[37mPyPlot v2.9.0\u001b[39m\n"
     ]
    }
   ],
   "source": [
    "]st"
   ]
  },
  {
   "cell_type": "markdown",
   "metadata": {
    "id": "VVwtyjNJlL5j"
   },
   "source": [
    "For more `Pkg` commands, type `]help`."
   ]
  },
  {
   "cell_type": "markdown",
   "metadata": {
    "id": "rQY6BRiBvdbU"
   },
   "source": [
    "|Julia (in interactive mode) | Python (in a terminal)\n",
    "|-----|------\n",
    "|`]status` | `pip freeze`<br />or<br />`conda list`\n",
    "|`]add Foo` | `pip install foo`<br />or<br />`conda install foo`\n",
    "|`]add Foo@1.2` | `pip install foo==1.2`<br />or<br />`conda install foo=1.2`\n",
    "|`]update Foo` | `pip install --upgrade foo`<br />or<br />`conda update foo`\n",
    "|`]pin Foo` | `foo==<version>` in `requirements.txt`<br /> or<br />`foo=<version>` in `environment.yml`\n",
    "|`]free Foo` | `foo` in `requirements.txt`<br />or<br />`foo` in `environment.yml`\n",
    "|`]test Foo` | `python -m unittest foo`\n",
    "|`]rm Foo` | `pip uninstall foo`<br />or<br />`conda remove foo`\n",
    "|`]help` | `pip --help`\n"
   ]
  },
  {
   "cell_type": "markdown",
   "metadata": {
    "id": "o6KvuaMcFx2N"
   },
   "source": [
    "This workflow is fairly simple, but it means that all of your programs will be using the same version of each package. This is analog to installing packages using `pip install` without using virtual environments."
   ]
  },
  {
   "cell_type": "markdown",
   "metadata": {
    "id": "CaJvX0RcqukU"
   },
   "source": [
    "\n",
    "## Projects\n",
    "\n",
    "If you want to have multiple projects, each with different libraries and library versions, you should define **projects**. These are analog to Python virtual environments.\n",
    "\n",
    "A project is just a directory containing a `Project.toml` file and a `Manifest.toml` file:\n",
    "\n",
    "```\n",
    "my_project/\n",
    "    Project.toml\n",
    "    Manifest.toml\n",
    "```\n",
    "\n",
    "* `Project.toml` is similar to a `requirements.txt` file (for pip) or `environment.yml` (for conda): it lists the dependencies of the project, and compatibility constraints (e.g., `SomeDependency = 2.5`).\n",
    "* `Manifest.toml` is an automatically generated file which lists the exact versions and unique IDs (UUIDs) of all the packages that Julia found, based on `Project.toml`. It includes all the implicit dependencies of the project's packages. This is useful to reproduce an environment precisely. Analog to the output of `pip --freeze`.\n",
    "\n",
    "By default, the active project is located in `~/.julia/environments/v#.#` (where `#.#` is the Julia version you are using, such as 1.4). You can set a different project when starting Julia:\n",
    "\n",
    "```bash\n",
    "# BASH\n",
    "julia --project=/path/to/my_project\n",
    "```\n",
    "\n",
    "Or you can set the `JULIA_PROJECT` environment variable:\n",
    "\n",
    "```bash\n",
    "# BASH\n",
    "export JULIA_PROJECT=/path/to/my_project\n",
    "julia\n",
    "```"
   ]
  },
  {
   "cell_type": "markdown",
   "metadata": {
    "id": "84iGO38zM3Cz"
   },
   "source": [
    "Or you can just activate a project directly in Julia (this is analog to running `source my_project/env/bin/activate` when using virtualenv):"
   ]
  },
  {
   "cell_type": "code",
   "execution_count": null,
   "metadata": {
    "colab": {
     "base_uri": "https://localhost:8080/"
    },
    "id": "tuXofzisM-bW",
    "outputId": "11c2b0a9-e9dd-4b8c-f8cc-6a11f07aa46d"
   },
   "outputs": [
    {
     "name": "stderr",
     "output_type": "stream",
     "text": [
      "\u001b[32m\u001b[1m  Activating\u001b[22m\u001b[39m new environment at `/content/my_project/Project.toml`\n"
     ]
    }
   ],
   "source": [
    "Pkg.activate(\"my_project\")"
   ]
  },
  {
   "cell_type": "markdown",
   "metadata": {
    "id": "wOPtEC3UNTsh"
   },
   "source": [
    "The `my_project` directory does not exist yet, but it gets created automatically, along with the `Project.toml` and `Manifest.toml` files, when you first add a package:"
   ]
  },
  {
   "cell_type": "code",
   "execution_count": null,
   "metadata": {
    "colab": {
     "base_uri": "https://localhost:8080/"
    },
    "id": "yLuWH7U8g84W",
    "outputId": "0159d462-4712-45e3-d810-ef043f7ef02f"
   },
   "outputs": [
    {
     "name": "stderr",
     "output_type": "stream",
     "text": [
      "\u001b[32m\u001b[1m   Resolving\u001b[22m\u001b[39m package versions...\n",
      "\u001b[32m\u001b[1m    Updating\u001b[22m\u001b[39m `/content/my_project/Project.toml`\n",
      " \u001b[90m [438e738f] \u001b[39m\u001b[92m+ PyCall v1.92.2\u001b[39m\n",
      "\u001b[32m\u001b[1m    Updating\u001b[22m\u001b[39m `/content/my_project/Manifest.toml`\n",
      " \u001b[90m [8f4d0f93] \u001b[39m\u001b[92m+ Conda v1.5.1\u001b[39m\n",
      " \u001b[90m [682c06a0] \u001b[39m\u001b[92m+ JSON v0.21.1\u001b[39m\n",
      " \u001b[90m [1914dd2f] \u001b[39m\u001b[92m+ MacroTools v0.5.6\u001b[39m\n",
      " \u001b[90m [69de0a69] \u001b[39m\u001b[92m+ Parsers v1.1.0\u001b[39m\n",
      " \u001b[90m [438e738f] \u001b[39m\u001b[92m+ PyCall v1.92.2\u001b[39m\n",
      " \u001b[90m [81def892] \u001b[39m\u001b[92m+ VersionParsing v1.2.0\u001b[39m\n",
      " \u001b[90m [2a0f44e3] \u001b[39m\u001b[92m+ Base64\u001b[39m\n",
      " \u001b[90m [ade2ca70] \u001b[39m\u001b[92m+ Dates\u001b[39m\n",
      " \u001b[90m [8f399da3] \u001b[39m\u001b[92m+ Libdl\u001b[39m\n",
      " \u001b[90m [37e2e46d] \u001b[39m\u001b[92m+ LinearAlgebra\u001b[39m\n",
      " \u001b[90m [d6f4376e] \u001b[39m\u001b[92m+ Markdown\u001b[39m\n",
      " \u001b[90m [a63ad114] \u001b[39m\u001b[92m+ Mmap\u001b[39m\n",
      " \u001b[90m [de0858da] \u001b[39m\u001b[92m+ Printf\u001b[39m\n",
      " \u001b[90m [9a3f8284] \u001b[39m\u001b[92m+ Random\u001b[39m\n",
      " \u001b[90m [9e88b42a] \u001b[39m\u001b[92m+ Serialization\u001b[39m\n",
      " \u001b[90m [4ec0a83e] \u001b[39m\u001b[92m+ Unicode\u001b[39m\n"
     ]
    }
   ],
   "source": [
    "]add PyCall"
   ]
  },
  {
   "cell_type": "markdown",
   "metadata": {
    "id": "KS6OJjVpTcKX"
   },
   "source": [
    "You can also add a package via its URL:"
   ]
  },
  {
   "cell_type": "code",
   "execution_count": null,
   "metadata": {
    "colab": {
     "base_uri": "https://localhost:8080/"
    },
    "id": "ydZSoyULOlwV",
    "outputId": "5ae83b6e-e100-44da-c7f0-51d606808878"
   },
   "outputs": [
    {
     "name": "stderr",
     "output_type": "stream",
     "text": [
      "\u001b[32m\u001b[1m    Updating\u001b[22m\u001b[39m git-repo `https://github.com/JuliaLang/Example.jl`\n",
      "\u001b[32m\u001b[1m   Resolving\u001b[22m\u001b[39m package versions...\n",
      "\u001b[32m\u001b[1m    Updating\u001b[22m\u001b[39m `/content/my_project/Project.toml`\n",
      " \u001b[90m [7876af07] \u001b[39m\u001b[92m+ Example v0.5.4 `https://github.com/JuliaLang/Example.jl#master`\u001b[39m\n",
      "\u001b[32m\u001b[1m    Updating\u001b[22m\u001b[39m `/content/my_project/Manifest.toml`\n",
      " \u001b[90m [7876af07] \u001b[39m\u001b[92m+ Example v0.5.4 `https://github.com/JuliaLang/Example.jl#master`\u001b[39m\n"
     ]
    }
   ],
   "source": [
    "]add https://github.com/JuliaLang/Example.jl"
   ]
  },
  {
   "cell_type": "markdown",
   "metadata": {
    "id": "JKr9G4fDGGLv"
   },
   "source": [
    "Let's also add a package with a specific version:"
   ]
  },
  {
   "cell_type": "code",
   "execution_count": null,
   "metadata": {
    "colab": {
     "base_uri": "https://localhost:8080/"
    },
    "id": "xM8l4uR2GJsM",
    "outputId": "05c5d975-99c8-406f-bfed-9c55674cdb7d"
   },
   "outputs": [
    {
     "name": "stderr",
     "output_type": "stream",
     "text": [
      "\u001b[32m\u001b[1m   Resolving\u001b[22m\u001b[39m package versions...\n",
      "\u001b[32m\u001b[1m   Installed\u001b[22m\u001b[39m Example ─ v0.3.3\n",
      "\u001b[32m\u001b[1m    Updating\u001b[22m\u001b[39m `/content/my_project/Project.toml`\n",
      " \u001b[90m [7876af07] \u001b[39m\u001b[93m~ Example v0.5.4 `https://github.com/JuliaLang/Example.jl#master` ⇒ v0.3.3\u001b[39m\n",
      "\u001b[32m\u001b[1m    Updating\u001b[22m\u001b[39m `/content/my_project/Manifest.toml`\n",
      " \u001b[90m [7876af07] \u001b[39m\u001b[93m~ Example v0.5.4 `https://github.com/JuliaLang/Example.jl#master` ⇒ v0.3.3\u001b[39m\n",
      "\u001b[32m\u001b[1mPrecompiling\u001b[22m\u001b[39m project...\n",
      "\u001b[32m  ✓ \u001b[39mExample\n",
      "1 dependency successfully precompiled in 0 seconds (6 already precompiled)\n"
     ]
    }
   ],
   "source": [
    "]add Example@0.3"
   ]
  },
  {
   "cell_type": "markdown",
   "metadata": {
    "id": "RCZ-eWicTmVx"
   },
   "source": [
    "Now the `Project.toml` and `Manifest.toml` files were created:"
   ]
  },
  {
   "cell_type": "code",
   "execution_count": null,
   "metadata": {
    "colab": {
     "base_uri": "https://localhost:8080/"
    },
    "id": "CPbncHi09yFJ",
    "outputId": "c8ce6316-eca5-4b2a-f6fc-c2d4d69a0377"
   },
   "outputs": [
    {
     "name": "stdout",
     "output_type": "stream",
     "text": [
      "my_project\n",
      "my_project/Project.toml\n",
      "my_project/Manifest.toml\n"
     ]
    }
   ],
   "source": [
    ";find my_project"
   ]
  },
  {
   "cell_type": "markdown",
   "metadata": {
    "id": "Jw-VCU41Ua7A"
   },
   "source": [
    "Notice that the packages we added to the project were _not_ placed in the `my_project` directory itself. They were saved in the `~/.julia/packages` directory, the compiled files were placed in `~/.julia/compiled` director, logs were written to `~/.julia/logs` and so on.\n",
    "\n",
    "If several projects use the same package, it will only be downloaded and built once (well, once per version). The `~/.julia/packages` directory can hold multiple versions of the same package, so it's fine if different projects use different versions of the same package. There will be no conflict, no \"dependency hell\".\n"
   ]
  },
  {
   "cell_type": "markdown",
   "metadata": {
    "id": "o9yjyihUisIK"
   },
   "source": [
    "The `Project.toml` just says that the project depends on `PyCall` and `Example`, and it specifies the UUID of this package:"
   ]
  },
  {
   "cell_type": "code",
   "execution_count": null,
   "metadata": {
    "colab": {
     "base_uri": "https://localhost:8080/"
    },
    "id": "Gz8KscpIhIX4",
    "outputId": "3a5c9b27-f925-4497-fec9-2957c8e48d91"
   },
   "outputs": [
    {
     "name": "stdout",
     "output_type": "stream",
     "text": [
      "[deps]\n",
      "Example = \"7876af07-990d-54b4-ab0e-23690620f79a\"\n",
      "PyCall = \"438e738f-606a-5dbb-bf0a-cddfbfd45ab0\"\n"
     ]
    }
   ],
   "source": [
    "print(read(\"my_project/Project.toml\", String))"
   ]
  },
  {
   "cell_type": "markdown",
   "metadata": {
    "id": "IpxulMt32SFf"
   },
   "source": [
    "UUIDs are useful to avoid name conflicts. If several people name their package `CoolStuff`, then the UUID will clarify which one we are referring to."
   ]
  },
  {
   "cell_type": "markdown",
   "metadata": {
    "id": "-_mbX8HUi7Qg"
   },
   "source": [
    "The `Manifest.toml` file is much longer, since it contains all the packages which `PyCall` and `Example` depend on, along with their versions (except for the standard library packages), and the dependency graph. This file should never be modified manually:\n"
   ]
  },
  {
   "cell_type": "code",
   "execution_count": null,
   "metadata": {
    "colab": {
     "base_uri": "https://localhost:8080/"
    },
    "id": "28qXSoSwhOgm",
    "outputId": "733d0575-b1b4-40ce-8963-6423f4bd6f31"
   },
   "outputs": [
    {
     "name": "stdout",
     "output_type": "stream",
     "text": [
      "# This file is machine-generated - editing it directly is not advised\n",
      "\n",
      "[[Base64]]\n",
      "uuid = \"2a0f44e3-6c83-55bd-87e4-b1978d98bd5f\"\n",
      "\n",
      "[[Conda]]\n",
      "deps = [\"JSON\", \"VersionParsing\"]\n",
      "git-tree-sha1 = \"6231e40619c15148bcb80aa19d731e629877d762\"\n",
      "uuid = \"8f4d0f93-b110-5947-807f-2305c1781a2d\"\n",
      "version = \"1.5.1\"\n",
      "\n",
      "[[Dates]]\n",
      "deps = [\"Printf\"]\n",
      "uuid = \"ade2ca70-3891-5945-98fb-dc099432e06a\"\n",
      "\n",
      "[[Example]]\n",
      "git-tree-sha1 = \"276fa06109ac5c80035cff711b0a18ad5b3117cc\"\n",
      "uuid = \"7876af07-990d-54b4-ab0e-23690620f79a\"\n",
      "version = \"0.3.3\"\n",
      "\n",
      "[[JSON]]\n",
      "deps = [\"Dates\", \"Mmap\", \"Parsers\", \"Unicode\"]\n",
      "git-tree-sha1 = \"81690084b6198a2e1da36fcfda16eeca9f9f24e4\"\n",
      "uuid = \"682c06a0-de6a-54ab-a142-c8b1cf79cde6\"\n",
      "version = \"0.21.1\"\n",
      "\n",
      "[[Libdl]]\n",
      "uuid = \"8f399da3-3557-5675-b5ff-fb832c97cbdb\"\n",
      "\n",
      "[[LinearAlgebra]]\n",
      "deps = [\"Libdl\"]\n",
      "uuid = \"37e2e46d-f89d-539d-b4ee-838fcccc9c8e\"\n",
      "\n",
      "[[MacroTools]]\n",
      "deps = [\"Markdown\", \"Random\"]\n",
      "git-tree-sha1 = \"6a8a2a625ab0dea913aba95c11370589e0239ff0\"\n",
      "uuid = \"1914dd2f-81c6-5fcd-8719-6d5c9610ff09\"\n",
      "version = \"0.5.6\"\n",
      "\n",
      "[[Markdown]]\n",
      "deps = [\"Base64\"]\n",
      "uuid = \"d6f4376e-aef5-505a-96c1-9c027394607a\"\n",
      "\n",
      "[[Mmap]]\n",
      "uuid = \"a63ad114-7e13-5084-954f-fe012c677804\"\n",
      "\n",
      "[[Parsers]]\n",
      "deps = [\"Dates\"]\n",
      "git-tree-sha1 = \"c8abc88faa3f7a3950832ac5d6e690881590d6dc\"\n",
      "uuid = \"69de0a69-1ddd-5017-9359-2bf0b02dc9f0\"\n",
      "version = \"1.1.0\"\n",
      "\n",
      "[[Printf]]\n",
      "deps = [\"Unicode\"]\n",
      "uuid = \"de0858da-6303-5e67-8744-51eddeeeb8d7\"\n",
      "\n",
      "[[PyCall]]\n",
      "deps = [\"Conda\", \"Dates\", \"Libdl\", \"LinearAlgebra\", \"MacroTools\", \"Serialization\", \"VersionParsing\"]\n",
      "git-tree-sha1 = \"dd1a970b543bd02efce2984582e996af28cab27f\"\n",
      "uuid = \"438e738f-606a-5dbb-bf0a-cddfbfd45ab0\"\n",
      "version = \"1.92.2\"\n",
      "\n",
      "[[Random]]\n",
      "deps = [\"Serialization\"]\n",
      "uuid = \"9a3f8284-a2c9-5f02-9a11-845980a1fd5c\"\n",
      "\n",
      "[[Serialization]]\n",
      "uuid = \"9e88b42a-f829-5b0c-bbe9-9e923198166b\"\n",
      "\n",
      "[[Unicode]]\n",
      "uuid = \"4ec0a83e-493e-50e2-b9ac-8f72acf5a8f5\"\n",
      "\n",
      "[[VersionParsing]]\n",
      "git-tree-sha1 = \"80229be1f670524750d905f8fc8148e5a8c4537f\"\n",
      "uuid = \"81def892-9a0e-5fdd-b105-ffc91e053289\"\n",
      "version = \"1.2.0\"\n"
     ]
    }
   ],
   "source": [
    "print(read(\"my_project/Manifest.toml\", String))"
   ]
  },
  {
   "cell_type": "markdown",
   "metadata": {
    "id": "P1JJXmuz1LPl"
   },
   "source": [
    "Note that `Manifest.toml` contains the precise version of the `Example` package that was installed, but the `Project.toml` file does not specify that version `0.3` is required. That's because Julia cannot know whether your project is supposed to work only with any version `0.3.x`, or whether it could work with other versions as well. So if you want to specify a version constraint for the `Example` package, you must add it manually in `Project.toml`. You would normally use your favorite editor to do this, but in this notebook we'll update `Project.toml` programmatically:"
   ]
  },
  {
   "cell_type": "code",
   "execution_count": null,
   "metadata": {
    "colab": {
     "base_uri": "https://localhost:8080/"
    },
    "id": "tgddc3M_1iyG",
    "outputId": "60ffcd2a-e211-4ed0-ac59-cd6e70a778ad"
   },
   "outputs": [
    {
     "data": {
      "text/plain": [
       "26"
      ]
     },
     "execution_count": 339,
     "metadata": {
      "tags": []
     },
     "output_type": "execute_result"
    }
   ],
   "source": [
    "append_config = \"\"\"\n",
    "\n",
    "[compat]\n",
    "Example = \"0.3\"\n",
    "\"\"\"\n",
    "\n",
    "open(f->write(f, append_config), \"my_project/Project.toml\", \"a\")"
   ]
  },
  {
   "cell_type": "markdown",
   "metadata": {
    "id": "BD4rgzAT2GGs"
   },
   "source": [
    "Here is the updated `Project.toml` file:"
   ]
  },
  {
   "cell_type": "code",
   "execution_count": null,
   "metadata": {
    "colab": {
     "base_uri": "https://localhost:8080/"
    },
    "id": "XNAC8q0H17mI",
    "outputId": "afb765c9-8f29-4ce8-add9-c4d70fa302d7"
   },
   "outputs": [
    {
     "name": "stdout",
     "output_type": "stream",
     "text": [
      "[deps]\n",
      "Example = \"7876af07-990d-54b4-ab0e-23690620f79a\"\n",
      "PyCall = \"438e738f-606a-5dbb-bf0a-cddfbfd45ab0\"\n",
      "\n",
      "[compat]\n",
      "Example = \"0.3\"\n"
     ]
    }
   ],
   "source": [
    "print(read(\"my_project/Project.toml\", String))"
   ]
  },
  {
   "cell_type": "markdown",
   "metadata": {
    "id": "VyWAJoEq6GZs"
   },
   "source": [
    "Now if we try to replace `Example` 0.3 with version 0.2, we get an error:"
   ]
  },
  {
   "cell_type": "code",
   "execution_count": null,
   "metadata": {
    "colab": {
     "base_uri": "https://localhost:8080/"
    },
    "id": "qgBa7Y0x6NUm",
    "outputId": "8ed15bff-39f8-456d-bab7-16024aa5d662"
   },
   "outputs": [
    {
     "name": "stderr",
     "output_type": "stream",
     "text": [
      "\u001b[32m\u001b[1m   Resolving\u001b[22m\u001b[39m package versions...\n"
     ]
    },
    {
     "data": {
      "text/plain": [
       "Pkg.Resolve.ResolverError(\"empty intersection between Example@0.2 and project compatibility 0.3\", nothing)"
      ]
     },
     "execution_count": 341,
     "metadata": {
      "tags": []
     },
     "output_type": "execute_result"
    }
   ],
   "source": [
    "try\n",
    "    pkg\"add Example@0.2\"\n",
    "catch ex\n",
    "    ex\n",
    "end"
   ]
  },
  {
   "cell_type": "markdown",
   "metadata": {
    "id": "R3zvTUWSH4Sa"
   },
   "source": [
    "Now you can run a program based on this project, and it will have the possibility to use all the packages which have been added to this project, with their specific versions. If you import a package which was not explicitly added to this project, Julia will fallback to the default project:"
   ]
  },
  {
   "cell_type": "code",
   "execution_count": null,
   "metadata": {
    "colab": {
     "base_uri": "https://localhost:8080/"
    },
    "id": "XnSjhJSyISzT",
    "outputId": "23904174-872d-4d14-fffd-5e301fb3596e"
   },
   "outputs": [
    {
     "data": {
      "text/plain": [
       "117"
      ]
     },
     "execution_count": 342,
     "metadata": {
      "tags": []
     },
     "output_type": "execute_result"
    }
   ],
   "source": [
    "code = \"\"\"\n",
    "import PyCall # found in the project\n",
    "import PyPlot # not found, so falls back to default project\n",
    "println(\"Success!\")\n",
    "\"\"\"\n",
    "\n",
    "open(f->write(f, code), \"my_program3.jl\", \"w\")"
   ]
  },
  {
   "cell_type": "code",
   "execution_count": null,
   "metadata": {
    "colab": {
     "base_uri": "https://localhost:8080/"
    },
    "id": "eM4yXtogIc5d",
    "outputId": "e1a97c01-2b33-4010-b56d-fbf645f9da8b"
   },
   "outputs": [
    {
     "name": "stdout",
     "output_type": "stream",
     "text": [
      "Success!\n"
     ]
    }
   ],
   "source": [
    ";julia --project=my_project my_program3.jl"
   ]
  },
  {
   "cell_type": "markdown",
   "metadata": {
    "id": "U3C_z11CDXzJ"
   },
   "source": [
    "## Packages\n",
    "Falling back to the default project is fine, as long as you run the code on your own machine, but if you want to share your code with other people, it would be brittle to count on packages installed in _their_ default project. Instead, if you plan to share your code, you should clearly specify which packages it depends on, and use only these packages. Such a shareable project is called a **package**."
   ]
  },
  {
   "cell_type": "markdown",
   "metadata": {
    "id": "7cLqsDTlMRM9"
   },
   "source": [
    "A package is a regular project (as defined above), but with a few extras:\n",
    "* the `Project.toml` file must specify a `name`, a `version` and a `uuid`.\n",
    "* there must be a `src/PackageName.jl` file containing a module named `PackageName`.\n",
    "* you generally want to specify the `authors` and `description`, and maybe also the `license`, `repository` (e.g., the package's github URL), and some `keywords`, but all of these are optional.\n",
    "\n",
    "It is very easy to create a new package using the `]generate` command. To define the `authors` field, `Pkg` will look up the `user.name` and `user.email` git config entries, so let's define them before we generate the package:"
   ]
  },
  {
   "cell_type": "code",
   "execution_count": null,
   "metadata": {
    "id": "-lrw9Diey5Jw"
   },
   "outputs": [],
   "source": [
    ";git config --global user.name \"Alice Bob\""
   ]
  },
  {
   "cell_type": "code",
   "execution_count": null,
   "metadata": {
    "id": "jHImoacOzHyR"
   },
   "outputs": [],
   "source": [
    ";git config --global user.email \"alice.bob@example.com\""
   ]
  },
  {
   "cell_type": "code",
   "execution_count": null,
   "metadata": {
    "colab": {
     "base_uri": "https://localhost:8080/"
    },
    "id": "bTw_L-4-ls4H",
    "outputId": "6c863970-4170-4424-e8ee-5164b78f06c5"
   },
   "outputs": [
    {
     "name": "stderr",
     "output_type": "stream",
     "text": [
      "\u001b[32m\u001b[1m  Generating\u001b[22m\u001b[39m  project Hello:\n",
      "    MyPackages/Hello/Project.toml\n",
      "    MyPackages/Hello/src/Hello.jl\n"
     ]
    }
   ],
   "source": [
    "]generate MyPackages/Hello"
   ]
  },
  {
   "cell_type": "markdown",
   "metadata": {
    "id": "_OvnM3tBpW9X"
   },
   "source": [
    "This generated the `MyPackages/Hello/Project.toml` file (along with the enclosing directories) and the `MyPackages/Hello/src/Hello.jl` file. Let's take a look at the `Project.toml` file:"
   ]
  },
  {
   "cell_type": "code",
   "execution_count": null,
   "metadata": {
    "colab": {
     "base_uri": "https://localhost:8080/"
    },
    "id": "wQqVtTh5qkhm",
    "outputId": "a10162f6-94ea-49cd-86ca-c11a208323bc"
   },
   "outputs": [
    {
     "name": "stdout",
     "output_type": "stream",
     "text": [
      "name = \"Hello\"\n",
      "uuid = \"196c4c10-46f5-4124-abc6-0bad20f5dbfe\"\n",
      "authors = [\"Alice Bob <alice.bob@example.com>\"]\n",
      "version = \"0.1.0\"\n"
     ]
    }
   ],
   "source": [
    "print(read(\"MyPackages/Hello/Project.toml\", String))"
   ]
  },
  {
   "cell_type": "markdown",
   "metadata": {
    "id": "j1IL7fuyiAtb"
   },
   "source": [
    "Notice that the project has no dependencies yet, but it has a name, a unique UUID, and a version (plus an author)."
   ]
  },
  {
   "cell_type": "markdown",
   "metadata": {
    "id": "Pgs4xop1qr1z"
   },
   "source": [
    "Note: if `Pkg` does not find a your name or email in the git config, it falls back to environment variables (`GIT_AUTHOR_NAME`, `GIT_COMMITTER_NAME`, `USER`, `USERNAME`, `NAME` and `GIT_AUTHOR_EMAIL`, `GIT_COMMITTER_EMAIL`, `EMAIL`)."
   ]
  },
  {
   "cell_type": "markdown",
   "metadata": {
    "id": "VSyvL2-I0S_t"
   },
   "source": [
    "And let's look at the `src/Hello.jl` file:"
   ]
  },
  {
   "cell_type": "code",
   "execution_count": null,
   "metadata": {
    "colab": {
     "base_uri": "https://localhost:8080/"
    },
    "id": "Y4DvJfrC0W_u",
    "outputId": "a403babe-46ab-499b-bd41-702d403e9370"
   },
   "outputs": [
    {
     "name": "stdout",
     "output_type": "stream",
     "text": [
      "module Hello\n",
      "\n",
      "greet() = print(\"Hello World!\")\n",
      "\n",
      "end # module\n"
     ]
    }
   ],
   "source": [
    "print(read(\"MyPackages/Hello/src/Hello.jl\", String))"
   ]
  },
  {
   "cell_type": "markdown",
   "metadata": {
    "id": "6orcK-WH1dv8"
   },
   "source": [
    "Let's try to use the `greet()` function from the `Hello` package:"
   ]
  },
  {
   "cell_type": "code",
   "execution_count": null,
   "metadata": {
    "colab": {
     "base_uri": "https://localhost:8080/"
    },
    "id": "9ASQUXed1jR9",
    "outputId": "db0b4aa0-0efe-4331-c00d-2f6c7d0862c9"
   },
   "outputs": [
    {
     "data": {
      "text/plain": [
       "ArgumentError(\"Package Hello not found in current path:\\n- Run `import Pkg; Pkg.add(\\\"Hello\\\")` to install the Hello package.\\n\")"
      ]
     },
     "execution_count": 349,
     "metadata": {
      "tags": []
     },
     "output_type": "execute_result"
    }
   ],
   "source": [
    "try\n",
    "    import Hello\n",
    "    Hello.greet()\n",
    "catch ex\n",
    "    ex\n",
    "end"
   ]
  },
  {
   "cell_type": "markdown",
   "metadata": {
    "id": "Ehdlz0d51pRY"
   },
   "source": [
    "Julia could not find the `Hello` package. When you're working on a package, don't forget to activate it first!"
   ]
  },
  {
   "cell_type": "code",
   "execution_count": null,
   "metadata": {
    "colab": {
     "base_uri": "https://localhost:8080/"
    },
    "id": "geOkTHsh10es",
    "outputId": "b5374610-e15b-413e-bb9e-acee9f68ccde"
   },
   "outputs": [
    {
     "name": "stderr",
     "output_type": "stream",
     "text": [
      "\u001b[32m\u001b[1m  Activating\u001b[22m\u001b[39m environment at `/content/MyPackages/Hello/Project.toml`\n"
     ]
    }
   ],
   "source": [
    "]activate MyPackages/Hello"
   ]
  },
  {
   "cell_type": "code",
   "execution_count": null,
   "metadata": {
    "colab": {
     "base_uri": "https://localhost:8080/"
    },
    "id": "aN3bg65b137-",
    "outputId": "6d50e32b-e9c9-4c8c-fc84-65103ca57475"
   },
   "outputs": [
    {
     "name": "stderr",
     "output_type": "stream",
     "text": [
      "┌ Info: Precompiling Hello [196c4c10-46f5-4124-abc6-0bad20f5dbfe]\n",
      "└ @ Base loading.jl:1317\n"
     ]
    },
    {
     "name": "stdout",
     "output_type": "stream",
     "text": [
      "Hello World!"
     ]
    }
   ],
   "source": [
    "import Hello\n",
    "Hello.greet()"
   ]
  },
  {
   "cell_type": "markdown",
   "metadata": {
    "id": "WxXCSYwIE9Eo"
   },
   "source": [
    "It works!\n",
    "\n",
    "If the `Hello` package depends on other packages, we must add them:"
   ]
  },
  {
   "cell_type": "code",
   "execution_count": null,
   "metadata": {
    "colab": {
     "base_uri": "https://localhost:8080/"
    },
    "id": "cZfLcJO3-m9D",
    "outputId": "4a443604-b366-4aae-8888-9b56f2343de0"
   },
   "outputs": [
    {
     "name": "stderr",
     "output_type": "stream",
     "text": [
      "\u001b[32m\u001b[1m   Resolving\u001b[22m\u001b[39m package versions...\n",
      "\u001b[32m\u001b[1m   Installed\u001b[22m\u001b[39m Example ─ v0.5.3\n",
      "\u001b[32m\u001b[1m    Updating\u001b[22m\u001b[39m `/content/MyPackages/Hello/Project.toml`\n",
      " \u001b[90m [7876af07] \u001b[39m\u001b[92m+ Example v0.5.3\u001b[39m\n",
      " \u001b[90m [438e738f] \u001b[39m\u001b[92m+ PyCall v1.92.2\u001b[39m\n",
      "\u001b[32m\u001b[1m    Updating\u001b[22m\u001b[39m `/content/MyPackages/Hello/Manifest.toml`\n",
      " \u001b[90m [8f4d0f93] \u001b[39m\u001b[92m+ Conda v1.5.1\u001b[39m\n",
      " \u001b[90m [7876af07] \u001b[39m\u001b[92m+ Example v0.5.3\u001b[39m\n",
      " \u001b[90m [682c06a0] \u001b[39m\u001b[92m+ JSON v0.21.1\u001b[39m\n",
      " \u001b[90m [1914dd2f] \u001b[39m\u001b[92m+ MacroTools v0.5.6\u001b[39m\n",
      " \u001b[90m [69de0a69] \u001b[39m\u001b[92m+ Parsers v1.1.0\u001b[39m\n",
      " \u001b[90m [438e738f] \u001b[39m\u001b[92m+ PyCall v1.92.2\u001b[39m\n",
      " \u001b[90m [81def892] \u001b[39m\u001b[92m+ VersionParsing v1.2.0\u001b[39m\n",
      " \u001b[90m [2a0f44e3] \u001b[39m\u001b[92m+ Base64\u001b[39m\n",
      " \u001b[90m [ade2ca70] \u001b[39m\u001b[92m+ Dates\u001b[39m\n",
      " \u001b[90m [8f399da3] \u001b[39m\u001b[92m+ Libdl\u001b[39m\n",
      " \u001b[90m [37e2e46d] \u001b[39m\u001b[92m+ LinearAlgebra\u001b[39m\n",
      " \u001b[90m [d6f4376e] \u001b[39m\u001b[92m+ Markdown\u001b[39m\n",
      " \u001b[90m [a63ad114] \u001b[39m\u001b[92m+ Mmap\u001b[39m\n",
      " \u001b[90m [de0858da] \u001b[39m\u001b[92m+ Printf\u001b[39m\n",
      " \u001b[90m [9a3f8284] \u001b[39m\u001b[92m+ Random\u001b[39m\n",
      " \u001b[90m [9e88b42a] \u001b[39m\u001b[92m+ Serialization\u001b[39m\n",
      " \u001b[90m [4ec0a83e] \u001b[39m\u001b[92m+ Unicode\u001b[39m\n",
      "\u001b[32m\u001b[1mPrecompiling\u001b[22m\u001b[39m project...\n",
      "\u001b[32m  ✓ \u001b[39mExample\n",
      "\u001b[32m  ✓ \u001b[39mHello\n",
      "2 dependencies successfully precompiled in 1 seconds (6 already precompiled)\n"
     ]
    }
   ],
   "source": [
    "]add PyCall Example"
   ]
  },
  {
   "cell_type": "markdown",
   "metadata": {
    "id": "IcipxHQW91lp"
   },
   "source": [
    "You must not use any package which has not been added to the project. If you do, you will get a warning."
   ]
  },
  {
   "cell_type": "markdown",
   "metadata": {
    "id": "9MyUldzLAFZn"
   },
   "source": [
    "Once you are happy with your package, you can deploy it to github (or anywhere else). Then you can add it to your own projects just like any other package.\n",
    "\n",
    "If you want to make your package available to the world via the official Julia registry, you just need to send a Pull Request to https://github.com/JuliaRegistries/General. However, it's highly recommended to automate this using the [Registrator.jl](https://github.com/JuliaRegistries/Registrator.jl) github app.\n",
    "\n",
    "If you want to use other registries (including private registries), check out [this page](https://julialang.github.io/Pkg.jl/v1.4/registries/#)."
   ]
  },
  {
   "cell_type": "markdown",
   "metadata": {
    "id": "nNd3-22NIkfB"
   },
   "source": [
    "Also check out the [`PkgTemplate`](https://github.com/invenia/PkgTemplates.jl) package, which provides more sophisticated templates for creating new packages, for example with continuous integration, code coverage tests, etc."
   ]
  },
  {
   "cell_type": "markdown",
   "metadata": {
    "id": "FA9DFoEuiGib"
   },
   "source": [
    "# Command Line Arguments"
   ]
  },
  {
   "cell_type": "markdown",
   "metadata": {
    "id": "I1nlKvCZhVo7"
   },
   "source": [
    "Command line arguments are available via `ARGS`:\n",
    "\n"
   ]
  },
  {
   "cell_type": "code",
   "execution_count": null,
   "metadata": {
    "colab": {
     "base_uri": "https://localhost:8080/"
    },
    "id": "Ysg_6WElhY7-",
    "outputId": "37803675-3dc5-490d-c1d7-939508f30ed5"
   },
   "outputs": [
    {
     "data": {
      "text/plain": [
       "1-element Vector{String}:\n",
       " \"/root/.local/share/jupyter/runtime/kernel-671efb0e-53e0-4b74-873d-456efe1cf676.json\""
      ]
     },
     "execution_count": 404,
     "metadata": {
      "tags": []
     },
     "output_type": "execute_result"
    }
   ],
   "source": [
    "ARGS"
   ]
  },
  {
   "cell_type": "markdown",
   "metadata": {
    "id": "jRe_1ovZhdqh"
   },
   "source": [
    "Unlike Python's `sys.argv`, the first element of this array is <u>not</u> the program name. If you need the program name, use `PROGRAM_FILE` instead:"
   ]
  },
  {
   "cell_type": "code",
   "execution_count": null,
   "metadata": {
    "colab": {
     "base_uri": "https://localhost:8080/"
    },
    "id": "2z3obYZghrHL",
    "outputId": "72b97e93-df09-4307-d6cf-cf999ffa61b5"
   },
   "outputs": [
    {
     "data": {
      "text/plain": [
       "\"/root/.julia/packages/IJulia/e8kqU/src/kernel.jl\""
      ]
     },
     "execution_count": 405,
     "metadata": {
      "tags": []
     },
     "output_type": "execute_result"
    }
   ],
   "source": [
    "PROGRAM_FILE"
   ]
  },
  {
   "cell_type": "markdown",
   "metadata": {
    "id": "UnKMaPm8r1XC"
   },
   "source": [
    "You can get the current module, directory, file or line number:"
   ]
  },
  {
   "cell_type": "code",
   "execution_count": null,
   "metadata": {
    "colab": {
     "base_uri": "https://localhost:8080/"
    },
    "id": "ZIou0Kgbr5mu",
    "outputId": "8e17e7e1-85f2-41df-e820-b5d6435560e0"
   },
   "outputs": [
    {
     "data": {
      "text/plain": [
       "(Main, \"/content\", \"In[406]\", 1)"
      ]
     },
     "execution_count": 406,
     "metadata": {
      "tags": []
     },
     "output_type": "execute_result"
    }
   ],
   "source": [
    "@__MODULE__, @__DIR__, @__FILE__, @__LINE__"
   ]
  },
  {
   "cell_type": "markdown",
   "metadata": {
    "id": "ahpsLiV_hBLi"
   },
   "source": [
    "The equivalent of Python's `if __name__ == \"__main__\"` is:"
   ]
  },
  {
   "cell_type": "code",
   "execution_count": null,
   "metadata": {
    "id": "hPUUlZG6g_A5"
   },
   "outputs": [],
   "source": [
    "if abspath(PROGRAM_FILE) == @__FILE__\n",
    "    println(\"Starting of the program\")\n",
    "end"
   ]
  }
 ],
 "metadata": {
  "accelerator": "GPU",
  "colab": {
   "collapsed_sections": [],
   "name": "Julia_Py.ipynb",
   "provenance": [],
   "toc_visible": true
  },
  "kernelspec": {
   "display_name": "Julia 1.9.3",
   "language": "julia",
   "name": "julia-1.9"
  },
  "language_info": {
   "file_extension": ".jl",
   "mimetype": "application/julia",
   "name": "julia",
   "version": "1.9.3"
  }
 },
 "nbformat": 4,
 "nbformat_minor": 1
}
