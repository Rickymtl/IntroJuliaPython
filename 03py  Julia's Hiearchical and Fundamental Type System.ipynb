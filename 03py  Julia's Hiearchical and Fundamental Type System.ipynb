{
 "cells": [
  {
   "cell_type": "code",
   "execution_count": 1,
   "metadata": {},
   "outputs": [],
   "source": [
    "import numpy as np"
   ]
  },
  {
   "cell_type": "markdown",
   "metadata": {
    "id": "sXEjDf7jBjJi"
   },
   "source": [
    "## Arrays\n",
    "\n",
    "Let's create a small array:"
   ]
  },
  {
   "cell_type": "code",
   "execution_count": 2,
   "metadata": {
    "colab": {
     "base_uri": "https://localhost:8080/"
    },
    "id": "UFhriSyixCMX",
    "outputId": "94dbb4ce-53db-4166-cee9-cf5326c2178e"
   },
   "outputs": [
    {
     "data": {
      "text/plain": [
       "[1, 4, 9, 16]"
      ]
     },
     "execution_count": 2,
     "metadata": {},
     "output_type": "execute_result"
    }
   ],
   "source": [
    "a = [1, 4, 9, 16]\n",
    "a"
   ]
  },
  {
   "cell_type": "markdown",
   "metadata": {
    "id": "owVeZ9nLR2on"
   },
   "source": [
    "Indexing and assignments in Python:"
   ]
  },
  {
   "cell_type": "code",
   "execution_count": 28,
   "metadata": {
    "colab": {
     "base_uri": "https://localhost:8080/"
    },
    "id": "yM4mNBfKR81J",
    "outputId": "baf8aaf1-00b5-45fd-990e-910f43c3425d"
   },
   "outputs": [
    {
     "data": {
      "text/plain": [
       "[10, 20, 30, 16]"
      ]
     },
     "execution_count": 28,
     "metadata": {},
     "output_type": "execute_result"
    }
   ],
   "source": [
    "a[0] = 10\n",
    "a[1:3] = [20, 30]\n",
    "a"
   ]
  },
  {
   "cell_type": "markdown",
   "metadata": {
    "id": "bv_tPMOhxHtK"
   },
   "source": [
    "### Element Type\n",
    "Since we used only integers when creating the array, Julia inferred that the array is only meant to hold integers (NumPy arrays behave the same way). Let's try adding a string:"
   ]
  },
  {
   "cell_type": "code",
   "execution_count": 29,
   "metadata": {
    "colab": {
     "base_uri": "https://localhost:8080/"
    },
    "id": "XBiagA9b_YPR",
    "outputId": "b3c3624d-1695-4c4c-d39a-6fa15bc8d023"
   },
   "outputs": [
    {
     "data": {
      "text/plain": [
       "[10, 20, 'Three', 16]"
      ]
     },
     "execution_count": 29,
     "metadata": {},
     "output_type": "execute_result"
    }
   ],
   "source": [
    "try:\n",
    "  a[2] = \"Three\" #string \n",
    "except ex:\n",
    "  ex\n",
    "a"
   ]
  },
  {
   "cell_type": "markdown",
   "metadata": {
    "id": "8-2ahduHoiRh"
   },
   "source": [
    "An empty array is automatically an `Any` array:"
   ]
  },
  {
   "cell_type": "code",
   "execution_count": 31,
   "metadata": {
    "colab": {
     "base_uri": "https://localhost:8080/"
    },
    "id": "eDMPVf5Oolnk",
    "outputId": "83df0a4e-45e3-4b5c-e51a-aa5e410dd934"
   },
   "outputs": [
    {
     "data": {
      "text/plain": [
       "[]"
      ]
     },
     "execution_count": 31,
     "metadata": {},
     "output_type": "execute_result"
    }
   ],
   "source": [
    "a = []\n",
    "a"
   ]
  },
  {
   "cell_type": "markdown",
   "metadata": {
    "id": "zY4m8VX2PmXq"
   },
   "source": [
    "You can use NumPy arrays' `dtype` function to get an array's element type:"
   ]
  },
  {
   "cell_type": "code",
   "execution_count": 49,
   "metadata": {
    "colab": {
     "base_uri": "https://localhost:8080/"
    },
    "id": "zZN9rtpEPvGV",
    "outputId": "67e644db-5103-4f5d-8b21-b8bd336982a2"
   },
   "outputs": [
    {
     "data": {
      "text/plain": [
       "dtype('int32')"
      ]
     },
     "execution_count": 49,
     "metadata": {},
     "output_type": "execute_result"
    }
   ],
   "source": [
    "a = np.array([1, 4, 9, 16])\n",
    "a.dtype"
   ]
  },
  {
   "cell_type": "code",
   "execution_count": 53,
   "metadata": {
    "colab": {
     "base_uri": "https://localhost:8080/"
    },
    "id": "jovRNC9tzaWj",
    "outputId": "6d12cba5-c0c7-4963-ac8b-435cba93d6ef"
   },
   "outputs": [
    {
     "name": "stdout",
     "output_type": "stream",
     "text": [
      "[1. 2. 3. 4.]\n"
     ]
    },
    {
     "data": {
      "text/plain": [
       "dtype('float64')"
      ]
     },
     "execution_count": 53,
     "metadata": {},
     "output_type": "execute_result"
    }
   ],
   "source": [
    "a = np.array([1, 2, 3.0, 4.0])\n",
    "print(a)\n",
    "a.dtype"
   ]
  },
  {
   "cell_type": "markdown",
   "metadata": {
    "id": "Z8vqDB0U0A4p"
   },
   "source": [
    "A mix of unrelated types results in an `Any` array:"
   ]
  },
  {
   "cell_type": "code",
   "execution_count": null,
   "metadata": {
    "colab": {
     "base_uri": "https://localhost:8080/"
    },
    "id": "pgT5mGcV0Rrc",
    "outputId": "d7342a25-0d86-449b-e084-3c1f251f968b"
   },
   "outputs": [],
   "source": [
    "[1, 2, \"Three\", 4]"
   ]
  },
  {
   "cell_type": "markdown",
   "metadata": {
    "id": "3oo7WzpiQB_h"
   },
   "source": [
    "## Append, Extend and Pop "
   ]
  },
  {
   "cell_type": "code",
   "execution_count": 57,
   "metadata": {},
   "outputs": [
    {
     "data": {
      "text/plain": [
       "[1, 4, 9, 16]"
      ]
     },
     "execution_count": 57,
     "metadata": {},
     "output_type": "execute_result"
    }
   ],
   "source": [
    "a = [1]\n",
    "a.append(4)\n",
    "a.extend([9, 16])\n",
    "a"
   ]
  },
  {
   "cell_type": "code",
   "execution_count": 58,
   "metadata": {},
   "outputs": [
    {
     "data": {
      "text/plain": [
       "[1, 4, 9, 16]"
      ]
     },
     "execution_count": 58,
     "metadata": {},
     "output_type": "execute_result"
    }
   ],
   "source": [
    "a"
   ]
  },
  {
   "cell_type": "code",
   "execution_count": 59,
   "metadata": {
    "colab": {
     "base_uri": "https://localhost:8080/"
    },
    "id": "ie0iAIHtSXIW",
    "outputId": "d3c198e6-f468-44a1-d07e-55a0db5e0a3d"
   },
   "outputs": [
    {
     "data": {
      "text/plain": [
       "16"
      ]
     },
     "execution_count": 59,
     "metadata": {},
     "output_type": "execute_result"
    }
   ],
   "source": [
    "a.pop()"
   ]
  },
  {
   "cell_type": "markdown",
   "metadata": {
    "id": "mY0L1GG_Upxz"
   },
   "source": [
    "There are many more functions you can call on an array. We will see later how to find them."
   ]
  },
  {
   "cell_type": "markdown",
   "metadata": {
    "id": "4ZScNi5Rv8cM"
   },
   "source": [
    "## Multidimensional Arrays\n",
    "Importantly, Python arrays can be multidimensional:"
   ]
  },
  {
   "cell_type": "code",
   "execution_count": 67,
   "metadata": {
    "colab": {
     "base_uri": "https://localhost:8080/"
    },
    "id": "hxfUbTc3wBob",
    "outputId": "4b7ef2d8-831c-45eb-b25f-3688141b8323"
   },
   "outputs": [
    {
     "data": {
      "text/plain": [
       "array([[ 1,  2,  3,  4],\n",
       "       [ 5,  6,  7,  8],\n",
       "       [ 9, 10, 11, 12]])"
      ]
     },
     "execution_count": 67,
     "metadata": {},
     "output_type": "execute_result"
    }
   ],
   "source": [
    "M = np.array([[1, 2, 3, 4], [5, 6, 7, 8], [9, 10, 11, 12]])\n",
    "M"
   ]
  },
  {
   "cell_type": "markdown",
   "metadata": {
    "id": "atfjWzUmwIgw"
   },
   "source": [
    "You can index them:"
   ]
  },
  {
   "cell_type": "code",
   "execution_count": 71,
   "metadata": {
    "colab": {
     "base_uri": "https://localhost:8080/"
    },
    "id": "GhtdjnYQwLka",
    "outputId": "aa4989cf-6a96-4646-9931-c48e4f738b96"
   },
   "outputs": [
    {
     "data": {
      "text/plain": [
       "array([[ 7,  8],\n",
       "       [11, 12]])"
      ]
     },
     "execution_count": 71,
     "metadata": {},
     "output_type": "execute_result"
    }
   ],
   "source": [
    "M[1:, 2:]"
   ]
  },
  {
   "cell_type": "markdown",
   "metadata": {
    "id": "4frazS3zXPQT"
   },
   "source": [
    "You can transpose a matrix using the `.T`:"
   ]
  },
  {
   "cell_type": "code",
   "execution_count": 73,
   "metadata": {
    "colab": {
     "base_uri": "https://localhost:8080/"
    },
    "id": "ydWdJ1eFXVbJ",
    "outputId": "6dbe8720-6e07-4b2e-ae7a-39d03df83d24"
   },
   "outputs": [
    {
     "data": {
      "text/plain": [
       "array([[ 1,  5,  9],\n",
       "       [ 2,  6, 10],\n",
       "       [ 3,  7, 11],\n",
       "       [ 4,  8, 12]])"
      ]
     },
     "execution_count": 73,
     "metadata": {},
     "output_type": "execute_result"
    }
   ],
   "source": [
    "M.T"
   ]
  },
  {
   "cell_type": "markdown",
   "metadata": {
    "id": "NnY2DL_YCPmZ"
   },
   "source": [
    "Arrays can be concatenated vertically using the `np.r_` function:"
   ]
  },
  {
   "cell_type": "code",
   "execution_count": 77,
   "metadata": {
    "colab": {
     "base_uri": "https://localhost:8080/"
    },
    "id": "pTazNcWZ_-8e",
    "outputId": "d81579f6-0df8-4e4e-ee23-05ac6cd307e0"
   },
   "outputs": [
    {
     "data": {
      "text/plain": [
       "array([[1, 2],\n",
       "       [3, 4],\n",
       "       [5, 6],\n",
       "       [7, 8]])"
      ]
     },
     "execution_count": 77,
     "metadata": {},
     "output_type": "execute_result"
    }
   ],
   "source": [
    "M1 = np.array([[1, 2], [3, 4]])\n",
    "M2 = np.array([[5, 6], [7, 8]])\n",
    "np.r_[M1, M2]"
   ]
  },
  {
   "cell_type": "code",
   "execution_count": 80,
   "metadata": {
    "colab": {
     "base_uri": "https://localhost:8080/"
    },
    "id": "Xj7s5cedCLJy",
    "outputId": "75ed6881-9975-44bf-eaf4-0df85e92ceaf"
   },
   "outputs": [
    {
     "data": {
      "text/plain": [
       "array([[1, 2, 5, 6],\n",
       "       [3, 4, 7, 8]])"
      ]
     },
     "execution_count": 80,
     "metadata": {},
     "output_type": "execute_result"
    }
   ],
   "source": [
    "np.c_[M1, M2]"
   ]
  },
  {
   "cell_type": "markdown",
   "metadata": {
    "id": "OhQoXAiyGge9"
   },
   "source": [
    "You can combine horizontal and vertical concatenation:"
   ]
  },
  {
   "cell_type": "code",
   "execution_count": 84,
   "metadata": {},
   "outputs": [
    {
     "data": {
      "text/plain": [
       "array([ 9, 10, 11, 12])"
      ]
     },
     "execution_count": 84,
     "metadata": {},
     "output_type": "execute_result"
    }
   ],
   "source": [
    "M3 = np.array([9, 10, 11, 12])\n",
    "M3"
   ]
  },
  {
   "cell_type": "code",
   "execution_count": null,
   "metadata": {},
   "outputs": [],
   "source": [
    "np.r_[np.c_[M1, M2], M3]"
   ]
  },
  {
   "cell_type": "markdown",
   "metadata": {
    "id": "gMWooHYTO7NU"
   },
   "source": [
    "The `print()` function:"
   ]
  },
  {
   "cell_type": "code",
   "execution_count": 101,
   "metadata": {},
   "outputs": [
    {
     "name": "stdout",
     "output_type": "stream",
     "text": [
      "Vector:  [1, 2, 3, 4]\n",
      "Column vector:  [[1]\n",
      " [2]\n",
      " [3]\n",
      " [4]]\n",
      "Row vector:  [1 2 3 4]\n",
      "Matrix:  [[1 2 3]\n",
      " [4 5 6]]\n"
     ]
    }
   ],
   "source": [
    "print(\"Vector: \", [1, 2, 3, 4])\n",
    "print(\"Column vector: \", np.array([[1], [2], [3], [4]]))\n",
    "print(\"Row vector: \", np.array([1, 2, 3, 4]))\n",
    "print(\"Matrix: \", np.array([[1, 2, 3], [4, 5, 6]]))"
   ]
  },
  {
   "cell_type": "markdown",
   "metadata": {
    "id": "bdnpqswqyrp8"
   },
   "source": [
    "|Julia|Python\n",
    "|-----|------\n",
    "|`a = [1, 2, 3]` | `a = [1, 2, 3]`<br />or<br />`import numpy as np`<br />`np.array([1, 2, 3])`\n",
    "|`a[1]` | `a[0]`\n",
    "|`a[end]` | `a[-1]`\n",
    "|`a[2:end-1]` | `a[1:-1]`\n",
    "|`push!(a, 5)` | `a.append(5)`\n",
    "|`pop!(a)` | `a.pop()`\n",
    "|`M = [1 2 3]` | `np.array([[1, 2, 3]])`\n",
    "|`M = [1 2 3]'` | `np.array([[1, 2, 3]]).T`\n",
    "|`M = hvcat(1,  1, 2, 3)` | `np.array([[1], [2], [3]])`\n",
    "|`M = [1 2 3`<br />&nbsp; &nbsp; &nbsp; &nbsp; &nbsp; &nbsp;`4 5 6]`<br />or<br />`M = [1 2 3; 4 5 6]` | `M = np.array([[1,2,3], [4,5,6]])`\n",
    "|`M[1:2, 2:3]` | `M[0:2, 1:3]`\n",
    "|`[M1; M2]` | `np.r_[M1, M2]`\n",
    "|`[M1  M2]` | `np.c_[M1, M2]`\n",
    "|`[M1 M2; M3]` | `np.r_[np.c_[M1, M2], M3]`\n"
   ]
  },
  {
   "cell_type": "markdown",
   "metadata": {
    "id": "raewgAnU9YIv"
   },
   "source": [
    "## Comprehensions\n",
    "List comprehensions are available in Python:"
   ]
  },
  {
   "cell_type": "code",
   "execution_count": 114,
   "metadata": {
    "colab": {
     "base_uri": "https://localhost:8080/"
    },
    "id": "H8B6Tk429aTV",
    "outputId": "fc8c667c-6dfe-4755-ade5-6f7bc50f6619"
   },
   "outputs": [
    {
     "data": {
      "text/plain": [
       "[1, 4, 9, 16]"
      ]
     },
     "execution_count": 114,
     "metadata": {},
     "output_type": "execute_result"
    }
   ],
   "source": [
    "a = [x**2 for x in range(1, 5)]\n",
    "a"
   ]
  },
  {
   "cell_type": "markdown",
   "metadata": {
    "id": "1W4O8W3bQsIn"
   },
   "source": [
    "You can filter elements using an `if` clause:"
   ]
  },
  {
   "cell_type": "code",
   "execution_count": 121,
   "metadata": {
    "colab": {
     "base_uri": "https://localhost:8080/"
    },
    "id": "pK4bZX6LQzNF",
    "outputId": "3ea14799-c9f4-426f-c9e7-c8fab16b41d7"
   },
   "outputs": [
    {
     "data": {
      "text/plain": [
       "[1, 9, 25]"
      ]
     },
     "execution_count": 121,
     "metadata": {},
     "output_type": "execute_result"
    }
   ],
   "source": [
    "a = [x**2 for x in range(1, 6) if x not in (2, 4)]\n",
    "a"
   ]
  },
  {
   "cell_type": "markdown",
   "metadata": {
    "id": "6R3umUN4Qq1x"
   },
   "source": [
    "Comprehensions can contain nested loops:"
   ]
  },
  {
   "cell_type": "code",
   "execution_count": 106,
   "metadata": {
    "colab": {
     "base_uri": "https://localhost:8080/"
    },
    "id": "o7-yPeiSlY96",
    "outputId": "7644d713-12bb-4444-f981-e82b38592ffe"
   },
   "outputs": [
    {
     "data": {
      "text/plain": [
       "[(1, 1), (2, 1), (2, 2), (3, 1), (3, 2), (3, 3)]"
      ]
     },
     "execution_count": 106,
     "metadata": {},
     "output_type": "execute_result"
    }
   ],
   "source": [
    "a = [(i, j) for i in range(1, 4) for j in range(1, i+1)]\n",
    "a"
   ]
  },
  {
   "cell_type": "markdown",
   "metadata": {
    "id": "xPm39I-7jPVv"
   },
   "source": [
    "## Conditional sub-Arrays\n",
    "You can select all the parameters in an array which satisfy a condition and put them into another array. "
   ]
  },
  {
   "cell_type": "code",
   "execution_count": 137,
   "metadata": {},
   "outputs": [
    {
     "data": {
      "text/plain": [
       "array([1, 2])"
      ]
     },
     "execution_count": 137,
     "metadata": {},
     "output_type": "execute_result"
    }
   ],
   "source": [
    "a = np.array([-4, -3, -2, -1, 0, 1, 2, 3, 4])\n",
    "b = a[a > 0]\n",
    "b = b[b < 3]\n",
    "b"
   ]
  },
  {
   "cell_type": "markdown",
   "metadata": {
    "id": "8_MgIEMeg69D"
   },
   "source": [
    "# Dictionaries"
   ]
  },
  {
   "cell_type": "code",
   "execution_count": 1,
   "metadata": {},
   "outputs": [
    {
     "name": "stdout",
     "output_type": "stream",
     "text": [
      "long\n"
     ]
    }
   ],
   "source": [
    "d = {\"call\": \"long\", \"put\": \"short\"}\n",
    "print(d[\"call\"])"
   ]
  },
  {
   "cell_type": "code",
   "execution_count": 3,
   "metadata": {},
   "outputs": [
    {
     "data": {
      "text/plain": [
       "'pardon?'"
      ]
     },
     "execution_count": 3,
     "metadata": {},
     "output_type": "execute_result"
    }
   ],
   "source": [
    "d.get(\"neutral\", \"pardon?\")"
   ]
  },
  {
   "cell_type": "code",
   "execution_count": 4,
   "metadata": {},
   "outputs": [
    {
     "data": {
      "text/plain": [
       "dict_keys(['call', 'put'])"
      ]
     },
     "execution_count": 4,
     "metadata": {},
     "output_type": "execute_result"
    }
   ],
   "source": [
    "d.keys()"
   ]
  },
  {
   "cell_type": "code",
   "execution_count": 5,
   "metadata": {},
   "outputs": [
    {
     "data": {
      "text/plain": [
       "dict_values(['long', 'short'])"
      ]
     },
     "execution_count": 5,
     "metadata": {},
     "output_type": "execute_result"
    }
   ],
   "source": [
    "d.values()"
   ]
  },
  {
   "cell_type": "code",
   "execution_count": 10,
   "metadata": {
    "colab": {
     "base_uri": "https://localhost:8080/"
    },
    "id": "J2kRT8MGj8Wo",
    "outputId": "ad6e9e54-efb9-4bf8-8eda-f3fa041eb586"
   },
   "outputs": [
    {
     "data": {
      "text/plain": [
       "False"
      ]
     },
     "execution_count": 10,
     "metadata": {},
     "output_type": "execute_result"
    }
   ],
   "source": [
    "\"long\" in d\n",
    "# \"long\" in d.keys()"
   ]
  },
  {
   "cell_type": "markdown",
   "metadata": {
    "id": "8MI_Oti4h2sz"
   },
   "source": [
    "Dict comprehensions work as you would expect:"
   ]
  },
  {
   "cell_type": "code",
   "execution_count": 11,
   "metadata": {},
   "outputs": [
    {
     "data": {
      "text/plain": [
       "{1: 1, 2: 4, 3: 9, 4: 16, 5: 25}"
      ]
     },
     "execution_count": 11,
     "metadata": {},
     "output_type": "execute_result"
    }
   ],
   "source": [
    "d = {i: i**2 for i in range(1, 6)}\n",
    "d"
   ]
  },
  {
   "cell_type": "code",
   "execution_count": 12,
   "metadata": {},
   "outputs": [
    {
     "name": "stdout",
     "output_type": "stream",
     "text": [
      "1 maps to 1\n",
      "2 maps to 4\n",
      "3 maps to 9\n",
      "4 maps to 16\n",
      "5 maps to 25\n"
     ]
    }
   ],
   "source": [
    "for k, v in d.items():\n",
    "    print(f\"{k} maps to {v}\")"
   ]
  },
  {
   "cell_type": "markdown",
   "metadata": {
    "id": "b5Ea2USET5jD"
   },
   "source": [
    "And you can merge dictionaries like this:"
   ]
  },
  {
   "cell_type": "code",
   "execution_count": 13,
   "metadata": {},
   "outputs": [
    {
     "data": {
      "text/plain": [
       "{'tree': 'arbre', 'love': 'aimer', 'coffee': 'café', 'car': 'voiture'}"
      ]
     },
     "execution_count": 13,
     "metadata": {},
     "output_type": "execute_result"
    }
   ],
   "source": [
    "d1 = {\"tree\": \"arbre\", \"love\": \"amour\", \"coffee\": \"café\"}\n",
    "d2 = {\"car\": \"voiture\", \"love\": \"aimer\"}\n",
    "d = {**d1, **d2}\n",
    "d"
   ]
  },
  {
   "cell_type": "markdown",
   "metadata": {
    "id": "zu39af1MVaKB"
   },
   "source": [
    "Or if you want to update the first dictionary instead of creating a new one:"
   ]
  },
  {
   "cell_type": "code",
   "execution_count": 15,
   "metadata": {
    "colab": {
     "base_uri": "https://localhost:8080/"
    },
    "id": "5_kcU7WTVhIN",
    "outputId": "aa074b1d-3c93-400f-d801-02d97ff90209"
   },
   "outputs": [
    {
     "data": {
      "text/plain": [
       "{'tree': 'arbre', 'love': 'aimer', 'coffee': 'café', 'car': 'voiture'}"
      ]
     },
     "execution_count": 15,
     "metadata": {},
     "output_type": "execute_result"
    }
   ],
   "source": [
    "d1.update(d2)\n",
    "d1"
   ]
  },
  {
   "cell_type": "code",
   "execution_count": 18,
   "metadata": {},
   "outputs": [
    {
     "ename": "TypeError",
     "evalue": "unhashable type: 'list'",
     "output_type": "error",
     "traceback": [
      "\u001b[1;31m---------------------------------------------------------------------------\u001b[0m",
      "\u001b[1;31mTypeError\u001b[0m                                 Traceback (most recent call last)",
      "\u001b[1;32mc:\\Users\\RR\\Desktop\\New folder\\03py  Julia's Hiearchical and Fundamental Type System.ipynb Cell 58\u001b[0m in \u001b[0;36m<cell line: 2>\u001b[1;34m()\u001b[0m\n\u001b[0;32m      <a href='vscode-notebook-cell:/c%3A/Users/RR/Desktop/New%20folder/03py%20%20Julia%27s%20Hiearchical%20and%20Fundamental%20Type%20System.ipynb#Y335sZmlsZQ%3D%3D?line=0'>1</a>\u001b[0m a \u001b[39m=\u001b[39m [\u001b[39m1\u001b[39m, \u001b[39m2\u001b[39m, \u001b[39m3\u001b[39m]\n\u001b[1;32m----> <a href='vscode-notebook-cell:/c%3A/Users/RR/Desktop/New%20folder/03py%20%20Julia%27s%20Hiearchical%20and%20Fundamental%20Type%20System.ipynb#Y335sZmlsZQ%3D%3D?line=1'>2</a>\u001b[0m d \u001b[39m=\u001b[39m {a : \u001b[39m\"\u001b[39m\u001b[39mMy array\u001b[39m\u001b[39m\"\u001b[39m}\n",
      "\u001b[1;31mTypeError\u001b[0m: unhashable type: 'list'"
     ]
    }
   ],
   "source": [
    "a = [1, 2, 3]\n",
    "d = {a : \"My array\"}"
   ]
  },
  {
   "cell_type": "markdown",
   "metadata": {
    "id": "Ie9QcVsYWDFh"
   },
   "source": [
    "|Julia|Python\n",
    "|-----|------\n",
    "|`Dict(\"tree\"=>\"arbre\", \"love\"=>\"amour\")` | `{\"tree\": \"arbre\", \"love\": \"amour\"}`\n",
    "|`d[\"arbre\"]` | `d[\"arbre\"]`\n",
    "|`get(d, \"unknown\", \"default\")` | `d.get(\"unknown\", \"default\")`\n",
    "|`keys(d)` | `d.keys()`\n",
    "|`values(d)` | `d.values()`\n",
    "|`haskey(d, k)` | `k in d`\n",
    "|`Dict(i=>i^2 for i in 1:4)` | `{i: i**2 for i in 1:4}`\n",
    "|`for (k, v) in d` | `for k, v in d.items():`\n",
    "|`merge(d1, d2)` | `{**d1, **d2}`\n",
    "|`merge!(d1, d2)` | `d1.update(d2)`"
   ]
  },
  {
   "cell_type": "markdown",
   "metadata": {
    "id": "rTWmi1P8jlDq"
   },
   "source": [
    "# Sets"
   ]
  },
  {
   "cell_type": "markdown",
   "metadata": {
    "id": "WlTKQaxxmLde"
   },
   "source": [
    "Let's create a couple sets:"
   ]
  },
  {
   "cell_type": "code",
   "execution_count": 19,
   "metadata": {
    "colab": {
     "base_uri": "https://localhost:8080/"
    },
    "id": "sQ_wNw0Mjmqs",
    "outputId": "646385e7-c0e4-4914-87c9-1a3a5b462493"
   },
   "outputs": [
    {
     "data": {
      "text/plain": [
       "{2, 3, 5, 7, 11}"
      ]
     },
     "execution_count": 19,
     "metadata": {},
     "output_type": "execute_result"
    }
   ],
   "source": [
    "odds = {1, 3, 5, 7, 9, 11}\n",
    "primes = {2, 3, 5, 7, 11}\n",
    "primes"
   ]
  },
  {
   "cell_type": "markdown",
   "metadata": {
    "id": "w7JZBRWbsqiL"
   },
   "source": [
    "The order of sets is not guaranteed."
   ]
  },
  {
   "cell_type": "code",
   "execution_count": 20,
   "metadata": {
    "colab": {
     "base_uri": "https://localhost:8080/"
    },
    "id": "oRd2gpWvm9mF",
    "outputId": "d2b126a3-4f66-49d2-df40-62a5e51bc09d"
   },
   "outputs": [
    {
     "data": {
      "text/plain": [
       "True"
      ]
     },
     "execution_count": 20,
     "metadata": {},
     "output_type": "execute_result"
    }
   ],
   "source": [
    "5 in primes"
   ]
  },
  {
   "cell_type": "markdown",
   "metadata": {
    "id": "MHQ5qnLZmPhR"
   },
   "source": [
    "Now let's get the union of these two sets:"
   ]
  },
  {
   "cell_type": "code",
   "execution_count": 21,
   "metadata": {},
   "outputs": [
    {
     "data": {
      "text/plain": [
       "{1, 2, 3, 5, 7, 9, 11}"
      ]
     },
     "execution_count": 21,
     "metadata": {},
     "output_type": "execute_result"
    }
   ],
   "source": [
    "odds | primes # union"
   ]
  },
  {
   "cell_type": "code",
   "execution_count": 22,
   "metadata": {
    "colab": {
     "base_uri": "https://localhost:8080/"
    },
    "id": "mfuMOXDdmGKA",
    "outputId": "00b196f4-96fe-403a-de63-235468b87e86"
   },
   "outputs": [
    {
     "data": {
      "text/plain": [
       "{1, 2, 3, 5, 7, 9, 11}"
      ]
     },
     "execution_count": 22,
     "metadata": {},
     "output_type": "execute_result"
    }
   ],
   "source": [
    "odds.union(primes)"
   ]
  },
  {
   "cell_type": "code",
   "execution_count": 23,
   "metadata": {},
   "outputs": [
    {
     "data": {
      "text/plain": [
       "{3, 5, 7, 11}"
      ]
     },
     "execution_count": 23,
     "metadata": {},
     "output_type": "execute_result"
    }
   ],
   "source": [
    "odds & primes # intersection"
   ]
  },
  {
   "cell_type": "markdown",
   "metadata": {
    "id": "X9-MDgxWmzXl"
   },
   "source": [
    "Or use the `intersect()` function:"
   ]
  },
  {
   "cell_type": "code",
   "execution_count": 24,
   "metadata": {},
   "outputs": [
    {
     "data": {
      "text/plain": [
       "{3, 5, 7, 11}"
      ]
     },
     "execution_count": 24,
     "metadata": {},
     "output_type": "execute_result"
    }
   ],
   "source": [
    "odds.intersection(primes)"
   ]
  },
  {
   "cell_type": "markdown",
   "metadata": {
    "id": "QSMs88owpLb2"
   },
   "source": [
    "Next, let's get the [set difference](https://en.wikipedia.org/wiki/Complement_(set_theory)#Relative_complement) and the [symetric difference](https://en.wikipedia.org/wiki/Symmetric_difference) between these two sets:"
   ]
  },
  {
   "cell_type": "code",
   "execution_count": 25,
   "metadata": {
    "colab": {
     "base_uri": "https://localhost:8080/"
    },
    "id": "-Tpr5_BBpQH_",
    "outputId": "b5494e9f-fe9d-4c58-87ff-e7ef14072071"
   },
   "outputs": [
    {
     "data": {
      "text/plain": [
       "{1, 9}"
      ]
     },
     "execution_count": 25,
     "metadata": {},
     "output_type": "execute_result"
    }
   ],
   "source": [
    "odds - primes # set difference"
   ]
  },
  {
   "cell_type": "code",
   "execution_count": 26,
   "metadata": {
    "colab": {
     "base_uri": "https://localhost:8080/"
    },
    "id": "of_EQE1CpvpO",
    "outputId": "91181c3a-87a8-42f2-f079-0d4e3ff518fc"
   },
   "outputs": [
    {
     "data": {
      "text/plain": [
       "{1, 9}"
      ]
     },
     "execution_count": 26,
     "metadata": {},
     "output_type": "execute_result"
    }
   ],
   "source": [
    "odds.difference(primes)"
   ]
  },
  {
   "cell_type": "code",
   "execution_count": 27,
   "metadata": {},
   "outputs": [
    {
     "data": {
      "text/plain": [
       "{1, 2, 9}"
      ]
     },
     "execution_count": 27,
     "metadata": {},
     "output_type": "execute_result"
    }
   ],
   "source": [
    "odds ^ primes # symmetric difference"
   ]
  },
  {
   "cell_type": "code",
   "execution_count": 28,
   "metadata": {},
   "outputs": [
    {
     "data": {
      "text/plain": [
       "{1, 2, 9}"
      ]
     },
     "execution_count": 28,
     "metadata": {},
     "output_type": "execute_result"
    }
   ],
   "source": [
    "odds.symmetric_difference(primes)"
   ]
  },
  {
   "cell_type": "markdown",
   "metadata": {
    "id": "NH_-NbzPsSQ_"
   },
   "source": [
    "Lastly, set comprehensions work just fine:"
   ]
  },
  {
   "cell_type": "code",
   "execution_count": 29,
   "metadata": {
    "colab": {
     "base_uri": "https://localhost:8080/"
    },
    "id": "LMIiE-0psXvs",
    "outputId": "c14c7607-bf45-4b37-bbd1-8f865a9b3356"
   },
   "outputs": [
    {
     "data": {
      "text/plain": [
       "{1, 4, 9, 16}"
      ]
     },
     "execution_count": 29,
     "metadata": {},
     "output_type": "execute_result"
    }
   ],
   "source": [
    "{i**2 for i in range(1, 5)}"
   ]
  },
  {
   "cell_type": "markdown",
   "metadata": {
    "id": "nPrJ9Ih9X4ak"
   },
   "source": [
    "|Julia|Python\n",
    "|-----|------\n",
    "|`Set([1, 3, 5, 7])` | `{1, 3, 5, 7}`\n",
    "|`5 in odd` | `5 in odd`\n",
    "|`Set([i^2 for i in 1:4])` | `{i**2 for i in range(1, 5)}`\n",
    "|`odd ∪ primes` | `odd | primes`\n",
    "|`union(odd, primes)` | `odd.union(primes)`\n",
    "|`odd ∩ primes` | `odd & primes`\n",
    "|`insersect(odd, primes)` | `odd.intersection(primes)`\n",
    "|`setdiff(odd, primes)` | `odd - primes` or `odd.difference(primes)`\n",
    "|`symdiff(odd, primes)` | `odd ^ primes` or `odd.symmetric_difference(primes)`"
   ]
  },
  {
   "cell_type": "markdown",
   "metadata": {
    "id": "ERjZUJYlnMsq"
   },
   "source": [
    "# Tuples"
   ]
  },
  {
   "cell_type": "code",
   "execution_count": 31,
   "metadata": {
    "colab": {
     "base_uri": "https://localhost:8080/"
    },
    "id": "SwtMszm6nFmD",
    "outputId": "98cf0b47-23e8-482c-9706-1578ffda300a"
   },
   "outputs": [
    {
     "data": {
      "text/plain": [
       "(1729, 'string', 100.0)"
      ]
     },
     "execution_count": 31,
     "metadata": {},
     "output_type": "execute_result"
    }
   ],
   "source": [
    "t = (1729, \"string\", 100.0)\n",
    "t"
   ]
  },
  {
   "cell_type": "markdown",
   "metadata": {
    "id": "YFGgt6ISLBQN"
   },
   "source": [
    "Let's look at one element:"
   ]
  },
  {
   "cell_type": "code",
   "execution_count": 32,
   "metadata": {
    "colab": {
     "base_uri": "https://localhost:8080/"
    },
    "id": "muUQX9TUnfhh",
    "outputId": "8cee6d0d-0ac0-4a1c-c2ab-e4d58d64a517"
   },
   "outputs": [
    {
     "data": {
      "text/plain": [
       "1729"
      ]
     },
     "execution_count": 32,
     "metadata": {},
     "output_type": "execute_result"
    }
   ],
   "source": [
    "t[0]"
   ]
  },
  {
   "cell_type": "code",
   "execution_count": 33,
   "metadata": {
    "colab": {
     "base_uri": "https://localhost:8080/"
    },
    "id": "PSSUDRRtp77N",
    "outputId": "1de6b799-2eab-4a8a-c690-59ec9d7c51fc"
   },
   "outputs": [
    {
     "data": {
      "text/plain": [
       "(1729, 'string')"
      ]
     },
     "execution_count": 33,
     "metadata": {},
     "output_type": "execute_result"
    }
   ],
   "source": [
    "t[0:2]"
   ]
  },
  {
   "cell_type": "code",
   "execution_count": 34,
   "metadata": {
    "colab": {
     "base_uri": "https://localhost:8080/"
    },
    "id": "7YpghPgLqZmy",
    "outputId": "a2b8d03b-cbed-4369-812e-34b6fc9e11d1"
   },
   "outputs": [
    {
     "data": {
      "text/plain": [
       "100.0"
      ]
     },
     "execution_count": 34,
     "metadata": {},
     "output_type": "execute_result"
    }
   ],
   "source": [
    "t[-1]"
   ]
  },
  {
   "cell_type": "code",
   "execution_count": 36,
   "metadata": {
    "colab": {
     "base_uri": "https://localhost:8080/"
    },
    "id": "3rzqwS7etsyx",
    "outputId": "2a019c2a-599b-420b-eb61-cf2ca0043d9d"
   },
   "outputs": [
    {
     "data": {
      "text/plain": [
       "('string', 100.0)"
      ]
     },
     "execution_count": 36,
     "metadata": {},
     "output_type": "execute_result"
    }
   ],
   "source": [
    "t[-2:]"
   ]
  },
  {
   "cell_type": "markdown",
   "metadata": {
    "id": "d950dLwB3SeA"
   },
   "source": [
    "In Python, tuples are immutable:"
   ]
  },
  {
   "cell_type": "code",
   "execution_count": 39,
   "metadata": {
    "colab": {
     "base_uri": "https://localhost:8080/"
    },
    "id": "0sLz7J2KmKMi",
    "outputId": "010d7d2a-24ee-4d53-f30a-2e1694498469"
   },
   "outputs": [
    {
     "name": "stdout",
     "output_type": "stream",
     "text": [
      "error!\n"
     ]
    }
   ],
   "source": [
    "try:\n",
    "  t[2] = 2\n",
    "except:\n",
    "  print(\"error!\")"
   ]
  },
  {
   "cell_type": "code",
   "execution_count": 41,
   "metadata": {
    "colab": {
     "base_uri": "https://localhost:8080/"
    },
    "id": "2iz34eBoODk6",
    "outputId": "825f75f4-6025-4bc7-b1ff-05e84256bf60"
   },
   "outputs": [
    {
     "data": {
      "text/plain": [
       "(42,)"
      ]
     },
     "execution_count": 41,
     "metadata": {},
     "output_type": "execute_result"
    }
   ],
   "source": [
    "empty_tuple = ()\n",
    "one_element_tuple = (42,)\n",
    "one_element_tuple"
   ]
  },
  {
   "cell_type": "markdown",
   "metadata": {
    "id": "4vgV76ftmMno"
   },
   "source": [
    "You can unpack a tuple in Python:"
   ]
  },
  {
   "cell_type": "code",
   "execution_count": 47,
   "metadata": {
    "colab": {
     "base_uri": "https://localhost:8080/"
    },
    "id": "1-RPxSCfn5Zr",
    "outputId": "18fd4e45-0169-43ca-cf9b-a8711b1b6a37"
   },
   "outputs": [
    {
     "name": "stdout",
     "output_type": "stream",
     "text": [
      "a=1729, b=string, c=100.0, d=3.14, e=euler\n"
     ]
    }
   ],
   "source": [
    "a, b, c, d, e = (1729, \"string\", 100.0, 3.14, \"euler\")\n",
    "print(f\"a={a}, b={b}, c={c}, d={d}, e={e}\")"
   ]
  },
  {
   "cell_type": "markdown",
   "metadata": {
    "id": "I4jsaD4Fq37B"
   },
   "source": [
    "It also works with nested tuples, just like in Python:"
   ]
  },
  {
   "cell_type": "code",
   "execution_count": 48,
   "metadata": {
    "colab": {
     "base_uri": "https://localhost:8080/"
    },
    "id": "s3S4SAfNq83S",
    "outputId": "f6faf9b1-88f7-487c-8424-e578e24511a5"
   },
   "outputs": [
    {
     "name": "stdout",
     "output_type": "stream",
     "text": [
      "a=1, b=Two, c=3, d=4, e=5\n"
     ]
    }
   ],
   "source": [
    "(a, (b, c), (d, e)) = (1, (\"Two\", 3), (4, 5))\n",
    "print(f\"a={a}, b={b}, c={c}, d={d}, e={e}\")"
   ]
  },
  {
   "cell_type": "markdown",
   "metadata": {
    "id": "1SC6AVpIrUxa"
   },
   "source": [
    "However, consider this example:"
   ]
  },
  {
   "cell_type": "code",
   "execution_count": 49,
   "metadata": {
    "colab": {
     "base_uri": "https://localhost:8080/"
    },
    "id": "Wz5cl0_6rj0H",
    "outputId": "3318d891-7807-458c-fbfd-f64a69e4461d"
   },
   "outputs": [
    {
     "ename": "ValueError",
     "evalue": "too many values to unpack (expected 3)",
     "output_type": "error",
     "traceback": [
      "\u001b[1;31m---------------------------------------------------------------------------\u001b[0m",
      "\u001b[1;31mValueError\u001b[0m                                Traceback (most recent call last)",
      "\u001b[1;32mc:\\Users\\RR\\Desktop\\New folder\\03py  Julia's Hiearchical and Fundamental Type System.ipynb Cell 95\u001b[0m in \u001b[0;36m<cell line: 1>\u001b[1;34m()\u001b[0m\n\u001b[1;32m----> <a href='vscode-notebook-cell:/c%3A/Users/RR/Desktop/New%20folder/03py%20%20Julia%27s%20Hiearchical%20and%20Fundamental%20Type%20System.ipynb#Y224sZmlsZQ%3D%3D?line=0'>1</a>\u001b[0m a, b, c \u001b[39m=\u001b[39m (\u001b[39m1\u001b[39m, \u001b[39m\"\u001b[39m\u001b[39mTwo\u001b[39m\u001b[39m\"\u001b[39m, \u001b[39m3\u001b[39m, \u001b[39m4\u001b[39m, \u001b[39m5\u001b[39m)\n\u001b[0;32m      <a href='vscode-notebook-cell:/c%3A/Users/RR/Desktop/New%20folder/03py%20%20Julia%27s%20Hiearchical%20and%20Fundamental%20Type%20System.ipynb#Y224sZmlsZQ%3D%3D?line=1'>2</a>\u001b[0m \u001b[39mprint\u001b[39m(\u001b[39mf\u001b[39m\u001b[39m\"\u001b[39m\u001b[39ma=\u001b[39m\u001b[39m{\u001b[39;00ma\u001b[39m}\u001b[39;00m\u001b[39m, b=\u001b[39m\u001b[39m{\u001b[39;00mb\u001b[39m}\u001b[39;00m\u001b[39m, c=\u001b[39m\u001b[39m{\u001b[39;00mc\u001b[39m}\u001b[39;00m\u001b[39m\"\u001b[39m)\n",
      "\u001b[1;31mValueError\u001b[0m: too many values to unpack (expected 3)"
     ]
    }
   ],
   "source": [
    "a, b, c = (1, \"Two\", 3, 4, 5)\n",
    "print(f\"a={a}, b={b}, c={c}\")"
   ]
  },
  {
   "cell_type": "code",
   "execution_count": 51,
   "metadata": {},
   "outputs": [
    {
     "name": "stdout",
     "output_type": "stream",
     "text": [
      "a=1, b=Two, c=[3, 4, 5]\n"
     ]
    }
   ],
   "source": [
    "t = (1, \"Two\", 3, 4, 5)\n",
    "a, b, *c = t\n",
    "print(f\"a={a}, b={b}, c={c}\")"
   ]
  },
  {
   "cell_type": "markdown",
   "metadata": {
    "id": "niHEbUJk5YFn"
   },
   "source": [
    "## Named Tuples"
   ]
  },
  {
   "cell_type": "code",
   "execution_count": 54,
   "metadata": {},
   "outputs": [],
   "source": [
    "from collections import namedtuple"
   ]
  },
  {
   "cell_type": "code",
   "execution_count": 56,
   "metadata": {},
   "outputs": [
    {
     "data": {
      "text/plain": [
       "Rating(name='Julia', category='Language', stars=5)"
      ]
     },
     "execution_count": 56,
     "metadata": {},
     "output_type": "execute_result"
    }
   ],
   "source": [
    "Rating = namedtuple(\"Rating\", [\"name\", \"category\", \"stars\"])\n",
    "nt = Rating(name=\"Julia\", category=\"Language\", stars=5)\n",
    "nt"
   ]
  },
  {
   "cell_type": "code",
   "execution_count": 57,
   "metadata": {},
   "outputs": [
    {
     "data": {
      "text/plain": [
       "'Julia'"
      ]
     },
     "execution_count": 57,
     "metadata": {},
     "output_type": "execute_result"
    }
   ],
   "source": [
    "nt.name"
   ]
  },
  {
   "cell_type": "code",
   "execution_count": 58,
   "metadata": {},
   "outputs": [
    {
     "name": "stdout",
     "output_type": "stream",
     "text": [
      "Rating(name='Julia', category='Language', stars=5)\n"
     ]
    }
   ],
   "source": [
    "print(nt)"
   ]
  },
  {
   "cell_type": "markdown",
   "metadata": {
    "id": "MJFUxd06YdqY"
   },
   "source": [
    "# Class"
   ]
  },
  {
   "cell_type": "code",
   "execution_count": 1,
   "metadata": {
    "id": "WhCs3HtJZK95"
   },
   "outputs": [],
   "source": [
    "class Option:\n",
    " \n",
    "    # A simple class\n",
    "    # attribute\n",
    "    def __init__(self, iscall, strike_price, maturity):\n",
    "        self.iscall = iscall\n",
    "        self.strike_price = strike_price\n",
    "        self.maturity = maturity\n"
   ]
  },
  {
   "cell_type": "code",
   "execution_count": 5,
   "metadata": {
    "colab": {
     "base_uri": "https://localhost:8080/"
    },
    "id": "aXISSlv5Z8l6",
    "outputId": "a6fd6996-bd55-4bf6-f2bd-5620205c533d"
   },
   "outputs": [],
   "source": [
    "p = Option(True, 100.0, 1.0)"
   ]
  },
  {
   "cell_type": "code",
   "execution_count": 6,
   "metadata": {
    "colab": {
     "base_uri": "https://localhost:8080/"
    },
    "id": "26v5EQ8YZ-JQ",
    "outputId": "a815255f-75b4-49a4-a067-ae73d7d47b13"
   },
   "outputs": [
    {
     "data": {
      "text/plain": [
       "1.0"
      ]
     },
     "execution_count": 6,
     "metadata": {},
     "output_type": "execute_result"
    }
   ],
   "source": [
    "p.maturity"
   ]
  },
  {
   "cell_type": "code",
   "execution_count": 8,
   "metadata": {},
   "outputs": [],
   "source": [
    "class Option:\n",
    " \n",
    "    # A simple class\n",
    "    # attribute\n",
    "    iscall = True\n",
    "    def __init__(self, strike_price, maturity):\n",
    "        self.strike_price = strike_price\n",
    "        self.maturity = maturity\n"
   ]
  },
  {
   "cell_type": "code",
   "execution_count": 10,
   "metadata": {},
   "outputs": [
    {
     "data": {
      "text/plain": [
       "<__main__.Option at 0x2055dd607f0>"
      ]
     },
     "execution_count": 10,
     "metadata": {},
     "output_type": "execute_result"
    }
   ],
   "source": [
    "Option(100., 1.)"
   ]
  },
  {
   "cell_type": "code",
   "execution_count": 11,
   "metadata": {},
   "outputs": [],
   "source": [
    "class Option:\n",
    " \n",
    "    # A simple class\n",
    "    # attribute\n",
    "    iscall = True\n",
    "    def __init__(self, strike_price, maturity):\n",
    "        self.strike_price = strike_price\n",
    "        self.maturity = maturity\n",
    "    def getMaturity(self):\n",
    "        return self.maturity\n"
   ]
  },
  {
   "cell_type": "code",
   "execution_count": 13,
   "metadata": {},
   "outputs": [
    {
     "data": {
      "text/plain": [
       "1.0"
      ]
     },
     "execution_count": 13,
     "metadata": {},
     "output_type": "execute_result"
    }
   ],
   "source": [
    "p = Option(100., 1.)\n",
    "p.getMaturity()"
   ]
  },
  {
   "cell_type": "markdown",
   "metadata": {
    "id": "AOfz9B7ZF__1"
   },
   "source": [
    "# Enums"
   ]
  },
  {
   "cell_type": "code",
   "execution_count": 14,
   "metadata": {},
   "outputs": [
    {
     "data": {
      "text/plain": [
       "<enum 'Fruit'>"
      ]
     },
     "execution_count": 14,
     "metadata": {},
     "output_type": "execute_result"
    }
   ],
   "source": [
    "from enum import Enum\n",
    "class Fruit(Enum):\n",
    "    APPLE = 1\n",
    "    BANANA = 2\n",
    "    ORANGE = 3\n",
    "Fruit"
   ]
  },
  {
   "cell_type": "code",
   "execution_count": 15,
   "metadata": {
    "id": "R6HMPDyvGB_k"
   },
   "outputs": [
    {
     "data": {
      "text/plain": [
       "<Fruit.BANANA: 2>"
      ]
     },
     "execution_count": 15,
     "metadata": {},
     "output_type": "execute_result"
    }
   ],
   "source": [
    "Fruit(2)"
   ]
  },
  {
   "cell_type": "markdown",
   "metadata": {
    "id": "7ufyorAsGvzv"
   },
   "source": [
    "Or you can get a `Fruit` instance using the value:"
   ]
  },
  {
   "cell_type": "code",
   "execution_count": 16,
   "metadata": {
    "colab": {
     "base_uri": "https://localhost:8080/"
    },
    "id": "NVgfYUBWGObS",
    "outputId": "26796204-d88c-4202-b5f1-803020efa34a"
   },
   "outputs": [
    {
     "data": {
      "text/plain": [
       "<Fruit.BANANA: 2>"
      ]
     },
     "execution_count": 16,
     "metadata": {},
     "output_type": "execute_result"
    }
   ],
   "source": [
    "Fruit(2)"
   ]
  },
  {
   "cell_type": "markdown",
   "metadata": {
    "id": "ctxEepMNG_-4"
   },
   "source": [
    "And you can get all the instances of the enum easily:"
   ]
  },
  {
   "cell_type": "code",
   "execution_count": 17,
   "metadata": {},
   "outputs": [
    {
     "data": {
      "text/plain": [
       "['APPLE',\n",
       " 'BANANA',\n",
       " 'ORANGE',\n",
       " '__class__',\n",
       " '__doc__',\n",
       " '__members__',\n",
       " '__module__']"
      ]
     },
     "execution_count": 17,
     "metadata": {},
     "output_type": "execute_result"
    }
   ],
   "source": [
    "dir(Fruit)"
   ]
  },
  {
   "cell_type": "markdown",
   "metadata": {
    "id": "7OOe0m7pLj80"
   },
   "source": [
    "# Object Identity"
   ]
  },
  {
   "cell_type": "code",
   "execution_count": 68,
   "metadata": {
    "colab": {
     "base_uri": "https://localhost:8080/"
    },
    "id": "q6qYhWnyMBpf",
    "outputId": "ccda7583-fa6a-4b59-c784-59a27491c6a7"
   },
   "outputs": [
    {
     "data": {
      "text/plain": [
       "1399507950848"
      ]
     },
     "execution_count": 68,
     "metadata": {},
     "output_type": "execute_result"
    }
   ],
   "source": [
    "id(Fruit(2))"
   ]
  },
  {
   "cell_type": "code",
   "execution_count": 73,
   "metadata": {},
   "outputs": [
    {
     "data": {
      "text/plain": [
       "1399507950848"
      ]
     },
     "execution_count": 73,
     "metadata": {},
     "output_type": "execute_result"
    }
   ],
   "source": [
    "id(Fruit(2))"
   ]
  },
  {
   "cell_type": "code",
   "execution_count": 75,
   "metadata": {},
   "outputs": [
    {
     "data": {
      "text/plain": [
       "True"
      ]
     },
     "execution_count": 75,
     "metadata": {},
     "output_type": "execute_result"
    }
   ],
   "source": [
    "a = [1, 2, 4]\n",
    "b = [1, 2, 4]\n",
    "a == b"
   ]
  },
  {
   "cell_type": "code",
   "execution_count": 76,
   "metadata": {},
   "outputs": [
    {
     "data": {
      "text/plain": [
       "False"
      ]
     },
     "execution_count": 76,
     "metadata": {},
     "output_type": "execute_result"
    }
   ],
   "source": [
    "a is b"
   ]
  }
 ],
 "metadata": {
  "accelerator": "GPU",
  "colab": {
   "collapsed_sections": [],
   "name": "Julia_Py.ipynb",
   "provenance": [],
   "toc_visible": true
  },
  "kernelspec": {
   "display_name": "Python 3.8.8 ('base')",
   "language": "python",
   "name": "python3"
  },
  "language_info": {
   "codemirror_mode": {
    "name": "ipython",
    "version": 3
   },
   "file_extension": ".py",
   "mimetype": "text/x-python",
   "name": "python",
   "nbconvert_exporter": "python",
   "pygments_lexer": "ipython3",
   "version": "3.8.8 (default, Apr 13 2021, 15:08:03) [MSC v.1916 64 bit (AMD64)]"
  },
  "vscode": {
   "interpreter": {
    "hash": "ad2bdc8ecc057115af97d19610ffacc2b4e99fae6737bb82f5d7fb13d2f2c186"
   }
  }
 },
 "nbformat": 4,
 "nbformat_minor": 1
}
