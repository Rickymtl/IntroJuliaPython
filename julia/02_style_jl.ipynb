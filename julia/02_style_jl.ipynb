{
  "cells": [
    {
      "cell_type": "markdown",
      "metadata": {
        "id": "mX1sYX8qqTrp"
      },
      "source": [
        "## The Elegant, the Poor and the Ugly  "
      ]
    },
    {
      "cell_type": "markdown",
      "metadata": {},
      "source": []
    },
    {
      "cell_type": "markdown",
      "metadata": {
        "id": "AhlyD6rgHM-A"
      },
      "source": [
        "## `if` statement\n",
        "\n",
        "Julia's `if` statement works just like in Python, with a few differences:\n",
        "\n",
        "* Julia uses `elseif` instead of Python's `elif`.\n",
        "* Julia's logic operators are just like in C-like languages: `&&` means `and`, `||` means `or`, `!` means `not`, and so on."
      ]
    },
    {
      "cell_type": "code",
      "execution_count": null,
      "metadata": {},
      "outputs": [],
      "source": [
        "theme(:juno)"
      ]
    },
    {
      "cell_type": "code",
      "execution_count": null,
      "metadata": {},
      "outputs": [],
      "source": [
        "π\\"
      ]
    },
    {
      "cell_type": "code",
      "execution_count": null,
      "metadata": {},
      "outputs": [],
      "source": [
        "ℯ"
      ]
    },
    {
      "cell_type": "code",
      "execution_count": null,
      "metadata": {
        "colab": {
          "base_uri": "https://localhost:8080/"
        },
        "id": "R4CT1_AYLUqo",
        "outputId": "fb23eca3-1b09-4db9-aa69-b619c6088076"
      },
      "outputs": [],
      "source": [
        "x = ℯ\n",
        "if x == π\n",
        "    println(π)\n",
        "elseif x == ℯ\n",
        "    println(ℯ)\n",
        "else\n",
        "    println(\"neither $ℯ not $π\")\n",
        "end"
      ]
    },
    {
      "cell_type": "markdown",
      "metadata": {
        "id": "xjjegYr9Koo0"
      },
      "source": [
        "Julia also has `⊻` for exclusive or (you can type `\\xor<tab>` to get the ⊻ character):"
      ]
    },
    {
      "cell_type": "code",
      "execution_count": null,
      "metadata": {},
      "outputs": [],
      "source": [
        "x = ℯ\n",
        "y = π\n",
        "⊻(x == ℯ, y == 1)"
      ]
    },
    {
      "cell_type": "markdown",
      "metadata": {
        "id": "57j5Uo_jKq98"
      },
      "source": [
        "Since `&&` is lazy (like `and` in Python), `cond && f()` is a common shorthand for `if cond; f(); end`. Think of it as \"_cond then f()_\":"
      ]
    },
    {
      "cell_type": "code",
      "execution_count": null,
      "metadata": {
        "colab": {
          "base_uri": "https://localhost:8080/"
        },
        "id": "TjRz2LF2MC17",
        "outputId": "caf4d581-ce16-4b7e-c017-d0ba07acc100"
      },
      "outputs": [],
      "source": [
        "x = π\n",
        "# x == π && println(π)\n",
        "x == ℯ && println(ℯ)"
      ]
    },
    {
      "cell_type": "markdown",
      "metadata": {
        "id": "PoOc99vdMB3r"
      },
      "source": [
        "Similarly, `cond || f()` is a common shorthand for `if !cond; f(); end`. Think of it as \"_cond else f()_\":"
      ]
    },
    {
      "cell_type": "code",
      "execution_count": null,
      "metadata": {
        "colab": {
          "base_uri": "https://localhost:8080/"
        },
        "id": "I0vTrqXFMQAp",
        "outputId": "1f14b684-a5f8-4919-aa15-f6788b58dbe7"
      },
      "outputs": [],
      "source": [
        "x = ℯ\n",
        "x == π || println(\"Not $π\")\n",
        "# x == ℯ || println(\"Not $ℯ\")"
      ]
    },
    {
      "cell_type": "markdown",
      "metadata": {
        "id": "KDHXuzB2tprt"
      },
      "source": [
        "All expressions return a value in Julia, including `if` statements. For example:"
      ]
    },
    {
      "cell_type": "markdown",
      "metadata": {
        "id": "ouJGQWRluC8r"
      },
      "source": [
        "When an expression cannot return anything, it returns `nothing`:"
      ]
    },
    {
      "cell_type": "code",
      "execution_count": null,
      "metadata": {
        "colab": {
          "base_uri": "https://localhost:8080/"
        },
        "id": "FXxf9pNouMUZ",
        "outputId": "8459b50e-13ec-4426-84a7-720d4f2543bf"
      },
      "outputs": [],
      "source": [
        "x = π\n",
        "result = if x == ℯ\n",
        "            \"ℯ\"\n",
        "          end\n",
        "\n",
        "isnothing(result)"
      ]
    },
    {
      "cell_type": "markdown",
      "metadata": {
        "id": "82e9jcH4ukdN"
      },
      "source": [
        "`nothing` is the single instance of the type `Nothing`:"
      ]
    },
    {
      "cell_type": "code",
      "execution_count": null,
      "metadata": {
        "colab": {
          "base_uri": "https://localhost:8080/"
        },
        "id": "IU57ogdWuhCi",
        "outputId": "0951150c-824c-4161-9967-4282527b09ab"
      },
      "outputs": [],
      "source": [
        "typeof(nothing)"
      ]
    },
    {
      "cell_type": "code",
      "execution_count": null,
      "metadata": {},
      "outputs": [],
      "source": [
        "typeof(1.0)"
      ]
    },
    {
      "cell_type": "markdown",
      "metadata": {
        "id": "m8ghzU9PMifO"
      },
      "source": [
        "## `for` loops\n",
        "You can use `for` loops just like in Python, as we saw earlier. However, it's also possible to create nested loops on a single line:"
      ]
    },
    {
      "cell_type": "code",
      "execution_count": null,
      "metadata": {
        "colab": {
          "base_uri": "https://localhost:8080/"
        },
        "id": "LZ-3HDmZM45a",
        "outputId": "bfaa39fe-db6a-4b98-8175-26af978e6634"
      },
      "outputs": [],
      "source": [
        "for a ∈ 1:2, b ∈ 1:3, c ∈ 1:2\n",
        "    println((a, b, c))\n",
        "end"
      ]
    },
    {
      "cell_type": "markdown",
      "metadata": {
        "id": "uQRBca7fObQq"
      },
      "source": [
        "The corresponding Python code would look like this:\n",
        "\n",
        "```python\n",
        "# PYTHON\n",
        "from itertools import product\n",
        "\n",
        "for a, b, c in product(range(1, 3), range(1, 4), range(1, 3)):\n",
        "    print((a, b, c))\n",
        "```"
      ]
    },
    {
      "cell_type": "markdown",
      "metadata": {
        "id": "JAeag3dfNRB3"
      },
      "source": [
        "The `continue` and `break` keywords work just like in Python. Note that in single-line nested loops, `break` will exit all loops, not just the inner loop:"
      ]
    },
    {
      "cell_type": "code",
      "execution_count": null,
      "metadata": {
        "colab": {
          "base_uri": "https://localhost:8080/"
        },
        "id": "MbKmgN-jN2ZQ",
        "outputId": "021165ce-c061-41d1-de54-68c0453e7d5a"
      },
      "outputs": [],
      "source": [
        "for a in 1:2, b in 1:3, c in 1:2\n",
        "    println((a, b, c))\n",
        "    (a, b, c) == (2, 1, 1) && break\n",
        "end"
      ]
    },
    {
      "cell_type": "markdown",
      "metadata": {
        "id": "Lf7F9I-6Ue46"
      },
      "source": [
        "Julia does not support the equivalent of Python's `for`/`else` construct. You need to write something like this:"
      ]
    },
    {
      "cell_type": "code",
      "execution_count": null,
      "metadata": {
        "colab": {
          "base_uri": "https://localhost:8080/"
        },
        "id": "XltdIGVOUoVS",
        "outputId": "7cd15423-6911-4ccc-b054-450bd961620f"
      },
      "outputs": [],
      "source": [
        "found = false\n",
        "for person in [\"Joe\", \"Jane\", \"Wally\", \"Jack\", \"Julia\"] # try removing \"Wally\"\n",
        "    println(\"Looking at $person\")\n",
        "    person == \"Wally\" && (found = true; break)\n",
        "end\n",
        "found || println(\"I did not find Wally.\")"
      ]
    },
    {
      "cell_type": "markdown",
      "metadata": {
        "id": "ySqtkxpxWH57"
      },
      "source": [
        "The equivalent Python code looks like this:\n",
        "\n",
        "```python\n",
        "# PYTHON\n",
        "for person in [\"Joe\", \"Jane\", \"Wally\", \"Jack\", \"Julia\"]: # try removing \"Wally\"\n",
        "    print(f\"Looking at {person}\")\n",
        "    if person == \"Wally\":\n",
        "        break\n",
        "else:\n",
        "    print(\"I did not find Wally.\")\n",
        "```"
      ]
    },
    {
      "cell_type": "markdown",
      "metadata": {
        "id": "gz4fZGxOHLmI"
      },
      "source": [
        "\n",
        "\n",
        "|Julia|Python\n",
        "|-----|------\n",
        "|`if cond1`<br />&nbsp;&nbsp;&nbsp;&nbsp;`...`<br/>`elseif cond2`<br />&nbsp;&nbsp;&nbsp;&nbsp;`...`<br/>`else`<br />&nbsp;&nbsp;&nbsp;&nbsp;`...`<br/>`end` |`if cond1:`<br />&nbsp;&nbsp;&nbsp;&nbsp;`...`<br/>`elif cond2:`<br />&nbsp;&nbsp;&nbsp;&nbsp;`...`<br/>`else:`<br />&nbsp;&nbsp;&nbsp;&nbsp;`...`\n",
        "|`&&` | `and`\n",
        "|`\\|\\|` | `or`\n",
        "|`!` | `not`\n",
        "|`⊻` (type `\\xor<tab>`) | `^`\n",
        "|`true` | `True`\n",
        "|`false` | `False`\n",
        "|`cond && f()` | `if cond: f()`\n",
        "|`cond \\|\\| f()` | `if not cond: f()`\n",
        "|`for i in 1:5 ... end` | `for i in range(1, 6): ...`\n",
        "|`for i in 1:5, j in 1:6 ... end` | `from itertools import product`<br />`for i, j in product(range(1, 6), range(1, 7)):`<br />&nbsp;&nbsp;&nbsp;&nbsp;`...`\n",
        "|`while cond ... end` | `while cond: ...`\n",
        "|`continue` | `continue`\n",
        "|`break` | `break`\n"
      ]
    },
    {
      "cell_type": "markdown",
      "metadata": {
        "id": "KZnBWeHcvcDE"
      },
      "source": [
        "## Coding Styles"
      ]
    },
    {
      "cell_type": "markdown",
      "metadata": {
        "id": "muWpncW1ssPe"
      },
      "source": [
        "In what follows, we show an example where the function `randn` is used to create samples from a standard normal ditribution. For this, we use `for` loop in various styles."
      ]
    },
    {
      "cell_type": "code",
      "execution_count": null,
      "metadata": {
        "colab": {
          "base_uri": "https://localhost:8080/",
          "height": 132
        },
        "collapsed": true,
        "id": "ol5RbDD2s48E",
        "outputId": "58337dea-0c18-4f6e-8aa3-eefe70d650e8"
      },
      "outputs": [],
      "source": [
        "# ugly style\n",
        "n = 100\n",
        "ϵ = zeros(n) \n",
        "for i in 1:n\n",
        "    ϵ[i] = randn()\n",
        "end"
      ]
    },
    {
      "cell_type": "markdown",
      "metadata": {
        "id": "5kpBnDZxtWDM"
      },
      "source": [
        "The for loop's `in` keyword can be replaced with either `∈` or `=`. Although the index variable is cycled over for all integers between 1 and n, this does not result in the creation of a vector of those indices. Rather than that, it produces an _iterator_ that is looped through — in this case, the integer range 1 to n. The following code provides a better connection between index `i` and the variable `ϵ`."
      ]
    },
    {
      "cell_type": "code",
      "execution_count": null,
      "metadata": {
        "id": "t_aBh9dZuwDN"
      },
      "outputs": [],
      "source": [
        "# poor (but handsome) style\n",
        "n = 100\n",
        "ϵ = zeros(n)\n",
        "for i ∈ eachindex(ϵ)\n",
        "    ϵ[i] = randn()\n",
        "end"
      ]
    },
    {
      "cell_type": "code",
      "execution_count": null,
      "metadata": {},
      "outputs": [],
      "source": [
        "ϵ_sum = 0.0\n",
        "for j ∈ eachindex(ϵ)\n",
        "    ϵ_sum += ϵ[j]\n",
        "end\n",
        "μ = ϵ_sum / n"
      ]
    },
    {
      "cell_type": "markdown",
      "metadata": {
        "id": "JOeKG68X7mJ2"
      },
      "source": [
        "We can write the generative part of the code in a user defined function:"
      ]
    },
    {
      "cell_type": "code",
      "execution_count": null,
      "metadata": {},
      "outputs": [],
      "source": [
        "using Plots"
      ]
    },
    {
      "cell_type": "code",
      "execution_count": null,
      "metadata": {
        "colab": {
          "base_uri": "https://localhost:8080/"
        },
        "id": "A6OigrsU7XwL",
        "outputId": "f5484157-7198-4c24-c993-f8eda91486da"
      },
      "outputs": [],
      "source": [
        "# ugly style\n",
        "function generatedata(n)\n",
        "    ϵ = zeros(n)\n",
        "    for i in eachindex(ϵ)\n",
        "        ϵ[i] = randn()\n",
        "    end\n",
        "    return ϵ\n",
        "end\n",
        "\n",
        "data = generatedata(100)\n",
        "plot(data)"
      ]
    },
    {
      "cell_type": "code",
      "execution_count": null,
      "metadata": {},
      "outputs": [],
      "source": [
        "function generatedata_sq(n)\n",
        "    ϵ = randn(n)\n",
        "    for i ∈ eachindex(ϵ)\n",
        "        ϵ[i] = ϵ[i]^2\n",
        "    end\n",
        "    return ϵ\n",
        "end\n",
        "\n",
        "data = generatedata_sq(100)\n",
        "plot(data)"
      ]
    },
    {
      "cell_type": "code",
      "execution_count": null,
      "metadata": {},
      "outputs": [],
      "source": [
        "generate_data2(n) = randn(n).^2"
      ]
    },
    {
      "cell_type": "markdown",
      "metadata": {
        "id": "pF89nVZn9LH4"
      },
      "source": [
        "An elagant abstract approach offers a generatedata function able to generically apply to any given function."
      ]
    },
    {
      "cell_type": "code",
      "execution_count": null,
      "metadata": {},
      "outputs": [],
      "source": [
        "using Pkg\n",
        "Pkg.add(\"StatsFuns\")"
      ]
    },
    {
      "cell_type": "code",
      "execution_count": null,
      "metadata": {
        "colab": {
          "base_uri": "https://localhost:8080/"
        },
        "id": "a7V_3KcaPq3h",
        "outputId": "63a4ee6b-2b11-4b22-ea2f-780454ab42b0"
      },
      "outputs": [],
      "source": [
        "using StatsFuns"
      ]
    },
    {
      "cell_type": "code",
      "execution_count": null,
      "metadata": {
        "colab": {
          "base_uri": "https://localhost:8080/"
        },
        "id": "edM0UYdN9h62",
        "outputId": "84a946f3-8c77-4f2e-f198-41acc46a180b"
      },
      "outputs": [],
      "source": [
        "generatedata(n, f) = f.(randn(n)) #function broadcasting\n",
        "\n",
        "f(x) = StatsFuns.logistic(x) # simple Sigmoid function\n",
        "# f(x) = sin(x)\n",
        "data = generatedata(100, f) # applies f"
      ]
    },
    {
      "cell_type": "code",
      "execution_count": null,
      "metadata": {
        "colab": {
          "base_uri": "https://localhost:8080/",
          "height": 421
        },
        "id": "GO9T4tQV1R_q",
        "outputId": "d3eadbf0-79b3-4e7a-f39d-56dc4b247e93"
      },
      "outputs": [],
      "source": [
        "# direct solution with broadcasting, and small user-defined function\n",
        "n = 100\n",
        "# f(x) = 3 * StatsFuns.logistic(x) - 1\n",
        "f(x) = 3 * logistic(x) - 1\n",
        "\n",
        "x = randn(n)\n",
        "plot(f.(x), label=\"3logistic-1\")\n",
        "plot!(x, label=\"x\") # layer on the same plot\n",
        "plot!(sin.(x), label = \"sin\")"
      ]
    },
    {
      "cell_type": "code",
      "execution_count": null,
      "metadata": {},
      "outputs": [],
      "source": []
    }
  ],
  "metadata": {
    "accelerator": "GPU",
    "colab": {
      "collapsed_sections": [],
      "name": "Julia_Py.ipynb",
      "provenance": [],
      "toc_visible": true
    },
    "kernelspec": {
      "display_name": "Julia 1.11.6",
      "language": "julia",
      "name": "julia-1.11"
    },
    "language_info": {
      "file_extension": ".jl",
      "mimetype": "application/julia",
      "name": "julia",
      "version": "1.11.6"
    }
  },
  "nbformat": 4,
  "nbformat_minor": 0
}
