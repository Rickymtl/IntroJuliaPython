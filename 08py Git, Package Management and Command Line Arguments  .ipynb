{
 "cells": [
  {
   "cell_type": "markdown",
   "metadata": {},
   "source": [
    "# Git"
   ]
  },
  {
   "cell_type": "markdown",
   "metadata": {
    "id": "2ME2_ryels7L"
   },
   "source": [
    "# Package Management\n"
   ]
  },
  {
   "cell_type": "markdown",
   "metadata": {
    "id": "hsT_nU1gB6-r"
   },
   "source": [
    "## Basic Workflow\n",
    "The simplest way to write a Julia program is to create a `.jl` file somewhere and run it using `julia`. You would usually do this with your favorite editor, but in this notebook we must do this programmatically. For example:"
   ]
  },
  {
   "cell_type": "code",
   "execution_count": null,
   "metadata": {
    "colab": {
     "base_uri": "https://localhost:8080/"
    },
    "id": "sRL8oZDaC0PX",
    "outputId": "99859a12-d99a-4eeb-b660-5bde420f6392"
   },
   "outputs": [],
   "source": [
    "code = \"\"\"\n",
    "print(\"Hello world\")\n",
    "\"\"\"\n",
    "\n",
    "f = \"my_program1.py\"\n",
    "with open(f, \"w+\") as file:\n",
    "    file.write(code)"
   ]
  },
  {
   "cell_type": "markdown",
   "metadata": {
    "id": "I3LsIKh47R99"
   },
   "source": [
    "Then let's run the program using a shell command:"
   ]
  },
  {
   "cell_type": "code",
   "execution_count": 7,
   "metadata": {
    "colab": {
     "base_uri": "https://localhost:8080/"
    },
    "id": "UvfGZxERDv6c",
    "outputId": "6a77e71d-9415-4f95-f22d-8b73b9dc57d0"
   },
   "outputs": [
    {
     "name": "stdout",
     "output_type": "stream",
     "text": [
      "Hello world\n"
     ]
    }
   ],
   "source": [
    "!python my_program1.py"
   ]
  },
  {
   "cell_type": "markdown",
   "metadata": {
    "id": "KmDPtknrD0Al"
   },
   "source": [
    "If you need to use a package which is not part of the standard library, such as `numpy`, you first need to install it using Python's package manager `pip`:"
   ]
  },
  {
   "cell_type": "code",
   "execution_count": 8,
   "metadata": {
    "colab": {
     "base_uri": "https://localhost:8080/"
    },
    "id": "doKyY1qWEMZV",
    "outputId": "9f97e61e-99ba-4c7b-9ccf-b0afa77fc466"
   },
   "outputs": [],
   "source": [
    "# !pip3 install numpy"
   ]
  },
  {
   "cell_type": "markdown",
   "metadata": {
    "id": "HtRAtwWkD3Ao"
   },
   "source": [
    "You can install a specific package version like this:"
   ]
  },
  {
   "cell_type": "code",
   "execution_count": 9,
   "metadata": {
    "colab": {
     "base_uri": "https://localhost:8080/"
    },
    "id": "CceFEwcTCAWG",
    "outputId": "5f9d4d46-af5d-4190-d2d9-e9054827813c"
   },
   "outputs": [],
   "source": [
    "# !pip3 install numpy==2.2"
   ]
  },
  {
   "cell_type": "markdown",
   "metadata": {
    "id": "TDixUMn7DDri"
   },
   "source": [
    "You can also update a package to its latest version:"
   ]
  },
  {
   "cell_type": "code",
   "execution_count": 10,
   "metadata": {
    "colab": {
     "base_uri": "https://localhost:8080/"
    },
    "id": "0EQofpkzD4xq",
    "outputId": "9eb7f171-436a-462c-8bd4-4f4eaba3776d"
   },
   "outputs": [],
   "source": [
    "# !pip3 install --upgrade numpy"
   ]
  },
  {
   "cell_type": "markdown",
   "metadata": {
    "id": "lgeDVp26DI7_"
   },
   "source": [
    "You can update all packages to their latest versions:"
   ]
  },
  {
   "cell_type": "code",
   "execution_count": 11,
   "metadata": {
    "colab": {
     "base_uri": "https://localhost:8080/"
    },
    "id": "S3Mi-zgLDOVw",
    "outputId": "23a16e4c-df4e-4f61-ec21-3ca29a2f3963"
   },
   "outputs": [],
   "source": [
    "# !pip3 list --outdated --format=freeze | grep -v '^\\-e' | cut -d = -f 1  | xargs -n1 pip install -U"
   ]
  },
  {
   "cell_type": "markdown",
   "metadata": {
    "id": "Asr1snFp609f"
   },
   "source": [
    "You can also run the tests defined in a package:"
   ]
  },
  {
   "cell_type": "code",
   "execution_count": 12,
   "metadata": {
    "colab": {
     "base_uri": "https://localhost:8080/"
    },
    "id": "XlmKnEvf67zi",
    "outputId": "44c71c9a-2129-4a99-824d-d4f286bd9444"
   },
   "outputs": [],
   "source": [
    "# !python -m unittest numpy"
   ]
  },
  {
   "cell_type": "markdown",
   "metadata": {
    "id": "lHAXzij6ZPPs"
   },
   "source": [
    "Of course, you can remove a package:"
   ]
  },
  {
   "cell_type": "code",
   "execution_count": 13,
   "metadata": {
    "colab": {
     "base_uri": "https://localhost:8080/"
    },
    "id": "2fuEjhjzZROg",
    "outputId": "aad942a3-ad60-4114-b73e-6e5a5ab1f3a3"
   },
   "outputs": [],
   "source": [
    "# !pip3 uninstall numpy"
   ]
  },
  {
   "cell_type": "markdown",
   "metadata": {
    "id": "eeTA6D33CHTv"
   },
   "source": [
    "Lastly, you can check which packages are installed using `]status` (or `]st` for short):"
   ]
  },
  {
   "cell_type": "code",
   "execution_count": 14,
   "metadata": {
    "colab": {
     "base_uri": "https://localhost:8080/"
    },
    "id": "lSqzm_yECL6Y",
    "outputId": "3363ca77-b3e7-47fb-d86a-2c630da2b3cb"
   },
   "outputs": [],
   "source": [
    "# !pip freeze"
   ]
  },
  {
   "cell_type": "markdown",
   "metadata": {
    "id": "VVwtyjNJlL5j"
   },
   "source": [
    "For more `Pkg` commands, type `]help`."
   ]
  },
  {
   "cell_type": "markdown",
   "metadata": {
    "id": "rQY6BRiBvdbU"
   },
   "source": [
    "|Julia (in interactive mode) | Python (in a terminal)\n",
    "|-----|------\n",
    "|`]status` | `pip freeze`<br />or<br />`conda list`\n",
    "|`]add Foo` | `pip install foo`<br />or<br />`conda install foo`\n",
    "|`]add Foo@1.2` | `pip install foo==1.2`<br />or<br />`conda install foo=1.2`\n",
    "|`]update Foo` | `pip install --upgrade foo`<br />or<br />`conda update foo`\n",
    "|`]pin Foo` | `foo==<version>` in `requirements.txt`<br /> or<br />`foo=<version>` in `environment.yml`\n",
    "|`]free Foo` | `foo` in `requirements.txt`<br />or<br />`foo` in `environment.yml`\n",
    "|`]test Foo` | `python -m unittest foo`\n",
    "|`]rm Foo` | `pip uninstall foo`<br />or<br />`conda remove foo`\n",
    "|`]help` | `pip --help`\n"
   ]
  },
  {
   "cell_type": "markdown",
   "metadata": {
    "id": "o6KvuaMcFx2N"
   },
   "source": [
    "This workflow is fairly simple, but it means that all of your programs will be using the same version of each package. This is analog to installing packages using `pip install` without using virtual environments."
   ]
  },
  {
   "cell_type": "markdown",
   "metadata": {
    "id": "CaJvX0RcqukU"
   },
   "source": [
    "\n",
    "## Projects\n",
    "\n",
    "If you want to have multiple projects, each with different libraries and library versions, you should use [Python Virtual Environment](https://www.youtube.com/watch?v=5Pulm2FLz1c&t=608s) or [Conda](https://docs.conda.io/en/latest/)."
   ]
  },
  {
   "cell_type": "markdown",
   "metadata": {
    "id": "U3C_z11CDXzJ"
   },
   "source": [
    "## Packages\n",
    "\n",
    "Falling back to the default project is fine, as long as you run the code on your own machine, but if you want to share your code with other people, it would be brittle to count on packages installed in **pypi** default project. To publish new package follow [this](https://www.youtube.com/watch?v=v4bkJef4W94) link."
   ]
  },
  {
   "cell_type": "markdown",
   "metadata": {
    "id": "FA9DFoEuiGib"
   },
   "source": [
    "# Command Line Arguments"
   ]
  },
  {
   "cell_type": "markdown",
   "metadata": {
    "id": "I1nlKvCZhVo7"
   },
   "source": [
    "Command line arguments are available via `ARGS`:\n",
    "\n"
   ]
  },
  {
   "cell_type": "code",
   "execution_count": 4,
   "metadata": {
    "colab": {
     "base_uri": "https://localhost:8080/"
    },
    "id": "Ysg_6WElhY7-",
    "outputId": "37803675-3dc5-490d-c1d7-939508f30ed5"
   },
   "outputs": [
    {
     "data": {
      "text/plain": [
       "['c:\\\\Environments\\\\data_env\\\\lib\\\\site-packages\\\\ipykernel_launcher.py',\n",
       " '-f',\n",
       " 'C:\\\\Users\\\\HP\\\\AppData\\\\Local\\\\Packages\\\\PythonSoftwareFoundation.Python.3.10_qbz5n2kfra8p0\\\\LocalCache\\\\Roaming\\\\jupyter\\\\runtime\\\\kernel-ccdd1299-e893-4c1e-9266-345fa26f349a.json']"
      ]
     },
     "execution_count": 4,
     "metadata": {},
     "output_type": "execute_result"
    }
   ],
   "source": [
    "import sys,os\n",
    "\n",
    "sys.argv"
   ]
  },
  {
   "cell_type": "markdown",
   "metadata": {
    "id": "UnKMaPm8r1XC"
   },
   "source": [
    "You can get the current module, directory, file or line number:"
   ]
  },
  {
   "cell_type": "code",
   "execution_count": 9,
   "metadata": {
    "colab": {
     "base_uri": "https://localhost:8080/"
    },
    "id": "ZIou0Kgbr5mu",
    "outputId": "8e17e7e1-85f2-41df-e820-b5d6435560e0"
   },
   "outputs": [
    {
     "name": "stdout",
     "output_type": "stream",
     "text": [
      "c:\\Users\\HP\\OneDrive\\JuPy\\Part01 Basics - Rafatnejad(1-5), Mousavizade(6-8)\n",
      "c:\\Environments\\data_env\\lib\\site-packages\\ipykernel_launcher.py\n",
      "C:\\Users\\HP\\OneDrive\\JuPy\\Part01 Basics - Rafatnejad(1-5), Mousavizade(6-8)\n"
     ]
    }
   ],
   "source": [
    "print(os.getcwd())\n",
    "print(sys.argv[0])\n",
    "print(os.path.dirname(os.path.realpath('__file__')))"
   ]
  },
  {
   "cell_type": "code",
   "execution_count": 11,
   "metadata": {
    "id": "hPUUlZG6g_A5"
   },
   "outputs": [
    {
     "name": "stdout",
     "output_type": "stream",
     "text": [
      "Starting of the program\n"
     ]
    }
   ],
   "source": [
    "if __name__ == \"__main__\":\n",
    "    print(\"Starting of the program\")\n"
   ]
  }
 ],
 "metadata": {
  "accelerator": "GPU",
  "colab": {
   "collapsed_sections": [],
   "name": "Julia_Py.ipynb",
   "provenance": [],
   "toc_visible": true
  },
  "kernelspec": {
   "display_name": "Python 3",
   "language": "python",
   "name": "python3"
  },
  "language_info": {
   "codemirror_mode": {
    "name": "ipython",
    "version": 3
   },
   "file_extension": ".py",
   "mimetype": "text/x-python",
   "name": "python",
   "nbconvert_exporter": "python",
   "pygments_lexer": "ipython3",
   "version": "3.11.5"
  }
 },
 "nbformat": 4,
 "nbformat_minor": 1
}
