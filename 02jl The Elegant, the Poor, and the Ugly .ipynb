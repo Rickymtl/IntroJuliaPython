{
  "cells": [
    {
      "cell_type": "markdown",
      "metadata": {
        "id": "mX1sYX8qqTrp"
      },
      "source": [
        "## The Elegant, the Poor and the Ugly  "
      ]
    },
    {
      "cell_type": "markdown",
      "metadata": {
        "id": "AhlyD6rgHM-A"
      },
      "source": [
        "## `if` statement\n",
        "\n",
        "Julia's `if` statement works just like in Python, with a few differences:\n",
        "\n",
        "* Julia uses `elseif` instead of Python's `elif`.\n",
        "* Julia's logic operators are just like in C-like languages: `&&` means `and`, `||` means `or`, `!` means `not`, and so on."
      ]
    },
    {
      "cell_type": "code",
      "execution_count": 19,
      "metadata": {},
      "outputs": [],
      "source": [
        "theme(:juno)"
      ]
    },
    {
      "cell_type": "code",
      "execution_count": 3,
      "metadata": {},
      "outputs": [
        {
          "data": {
            "text/plain": [
              "π = 3.1415926535897..."
            ]
          },
          "metadata": {},
          "output_type": "display_data"
        }
      ],
      "source": [
        "π"
      ]
    },
    {
      "cell_type": "code",
      "execution_count": null,
      "metadata": {},
      "outputs": [],
      "source": [
        "ℯ"
      ]
    },
    {
      "cell_type": "code",
      "execution_count": 4,
      "metadata": {
        "colab": {
          "base_uri": "https://localhost:8080/"
        },
        "id": "R4CT1_AYLUqo",
        "outputId": "fb23eca3-1b09-4db9-aa69-b619c6088076"
      },
      "outputs": [
        {
          "name": "stdout",
          "output_type": "stream",
          "text": [
            "ℯ\n"
          ]
        }
      ],
      "source": [
        "x = ℯ\n",
        "if x == π\n",
        "    println(π)\n",
        "elseif x == ℯ\n",
        "    println(ℯ)\n",
        "else\n",
        "    println(\"neither $ℯ not $π\")\n",
        "end"
      ]
    },
    {
      "cell_type": "markdown",
      "metadata": {
        "id": "xjjegYr9Koo0"
      },
      "source": [
        "Julia also has `⊻` for exclusive or (you can type `\\xor<tab>` to get the ⊻ character):"
      ]
    },
    {
      "cell_type": "code",
      "execution_count": 5,
      "metadata": {},
      "outputs": [
        {
          "data": {
            "text/plain": [
              "true"
            ]
          },
          "metadata": {},
          "output_type": "display_data"
        }
      ],
      "source": [
        "x = ℯ\n",
        "y = π\n",
        "⊻(x == ℯ, y == 1)"
      ]
    },
    {
      "cell_type": "markdown",
      "metadata": {
        "id": "57j5Uo_jKq98"
      },
      "source": [
        "Since `&&` is lazy (like `and` in Python), `cond && f()` is a common shorthand for `if cond; f(); end`. Think of it as \"_cond then f()_\":"
      ]
    },
    {
      "cell_type": "code",
      "execution_count": 7,
      "metadata": {
        "colab": {
          "base_uri": "https://localhost:8080/"
        },
        "id": "TjRz2LF2MC17",
        "outputId": "caf4d581-ce16-4b7e-c017-d0ba07acc100"
      },
      "outputs": [
        {
          "data": {
            "text/plain": [
              "false"
            ]
          },
          "metadata": {},
          "output_type": "display_data"
        }
      ],
      "source": [
        "x = π\n",
        "# x == π && println(π)\n",
        "x == ℯ && println(ℯ)"
      ]
    },
    {
      "cell_type": "markdown",
      "metadata": {
        "id": "PoOc99vdMB3r"
      },
      "source": [
        "Similarly, `cond || f()` is a common shorthand for `if !cond; f(); end`. Think of it as \"_cond else f()_\":"
      ]
    },
    {
      "cell_type": "code",
      "execution_count": null,
      "metadata": {
        "colab": {
          "base_uri": "https://localhost:8080/"
        },
        "id": "I0vTrqXFMQAp",
        "outputId": "1f14b684-a5f8-4919-aa15-f6788b58dbe7"
      },
      "outputs": [],
      "source": [
        "x = ℯ\n",
        "x == π || println(\"Not $π\")\n",
        "# x == ℯ || println(\"Not $ℯ\")"
      ]
    },
    {
      "cell_type": "markdown",
      "metadata": {
        "id": "KDHXuzB2tprt"
      },
      "source": [
        "All expressions return a value in Julia, including `if` statements. For example:"
      ]
    },
    {
      "cell_type": "markdown",
      "metadata": {
        "id": "ouJGQWRluC8r"
      },
      "source": [
        "When an expression cannot return anything, it returns `nothing`:"
      ]
    },
    {
      "cell_type": "code",
      "execution_count": 8,
      "metadata": {
        "colab": {
          "base_uri": "https://localhost:8080/"
        },
        "id": "FXxf9pNouMUZ",
        "outputId": "8459b50e-13ec-4426-84a7-720d4f2543bf"
      },
      "outputs": [
        {
          "data": {
            "text/plain": [
              "true"
            ]
          },
          "metadata": {},
          "output_type": "display_data"
        }
      ],
      "source": [
        "x = π\n",
        "result = if x == ℯ\n",
        "            \"ℯ\"\n",
        "          end\n",
        "\n",
        "isnothing(result)"
      ]
    },
    {
      "cell_type": "markdown",
      "metadata": {
        "id": "82e9jcH4ukdN"
      },
      "source": [
        "`nothing` is the single instance of the type `Nothing`:"
      ]
    },
    {
      "cell_type": "code",
      "execution_count": 9,
      "metadata": {
        "colab": {
          "base_uri": "https://localhost:8080/"
        },
        "id": "IU57ogdWuhCi",
        "outputId": "0951150c-824c-4161-9967-4282527b09ab"
      },
      "outputs": [
        {
          "data": {
            "text/plain": [
              "Nothing"
            ]
          },
          "metadata": {},
          "output_type": "display_data"
        }
      ],
      "source": [
        "typeof(nothing)"
      ]
    },
    {
      "cell_type": "code",
      "execution_count": 10,
      "metadata": {},
      "outputs": [
        {
          "data": {
            "text/plain": [
              "Float64"
            ]
          },
          "metadata": {},
          "output_type": "display_data"
        }
      ],
      "source": [
        "typeof(1.0)"
      ]
    },
    {
      "cell_type": "markdown",
      "metadata": {
        "id": "m8ghzU9PMifO"
      },
      "source": [
        "## `for` loops\n",
        "You can use `for` loops just like in Python, as we saw earlier. However, it's also possible to create nested loops on a single line:"
      ]
    },
    {
      "cell_type": "code",
      "execution_count": 11,
      "metadata": {
        "colab": {
          "base_uri": "https://localhost:8080/"
        },
        "id": "LZ-3HDmZM45a",
        "outputId": "bfaa39fe-db6a-4b98-8175-26af978e6634"
      },
      "outputs": [
        {
          "name": "stdout",
          "output_type": "stream",
          "text": [
            "(1, 1, 1)\n",
            "(1, 1, 2)\n",
            "(1, 2, 1)\n",
            "(1, 2, 2)\n",
            "(1, 3, 1)\n",
            "(1, 3, 2)\n",
            "(2, 1, 1)\n",
            "(2, 1, 2)\n",
            "(2, 2, 1)\n",
            "(2, 2, 2)\n",
            "(2, 3, 1)\n",
            "(2, 3, 2)\n"
          ]
        }
      ],
      "source": [
        "for a ∈ 1:2, b ∈ 1:3, c ∈ 1:2\n",
        "    println((a, b, c))\n",
        "end"
      ]
    },
    {
      "cell_type": "markdown",
      "metadata": {
        "id": "uQRBca7fObQq"
      },
      "source": [
        "The corresponding Python code would look like this:\n",
        "\n",
        "```python\n",
        "# PYTHON\n",
        "from itertools import product\n",
        "\n",
        "for a, b, c in product(range(1, 3), range(1, 4), range(1, 3)):\n",
        "    print((a, b, c))\n",
        "```"
      ]
    },
    {
      "cell_type": "markdown",
      "metadata": {
        "id": "JAeag3dfNRB3"
      },
      "source": [
        "The `continue` and `break` keywords work just like in Python. Note that in single-line nested loops, `break` will exit all loops, not just the inner loop:"
      ]
    },
    {
      "cell_type": "code",
      "execution_count": 12,
      "metadata": {
        "colab": {
          "base_uri": "https://localhost:8080/"
        },
        "id": "MbKmgN-jN2ZQ",
        "outputId": "021165ce-c061-41d1-de54-68c0453e7d5a"
      },
      "outputs": [
        {
          "name": "stdout",
          "output_type": "stream",
          "text": [
            "(1, 1, 1)\n",
            "(1, 1, 2)\n",
            "(1, 2, 1)\n",
            "(1, 2, 2)\n",
            "(1, 3, 1)\n",
            "(1, 3, 2)\n",
            "(2, 1, 1)\n"
          ]
        }
      ],
      "source": [
        "for a in 1:2, b in 1:3, c in 1:2\n",
        "    println((a, b, c))\n",
        "    (a, b, c) == (2, 1, 1) && break\n",
        "end"
      ]
    },
    {
      "cell_type": "markdown",
      "metadata": {
        "id": "Lf7F9I-6Ue46"
      },
      "source": [
        "Julia does not support the equivalent of Python's `for`/`else` construct. You need to write something like this:"
      ]
    },
    {
      "cell_type": "code",
      "execution_count": 13,
      "metadata": {
        "colab": {
          "base_uri": "https://localhost:8080/"
        },
        "id": "XltdIGVOUoVS",
        "outputId": "7cd15423-6911-4ccc-b054-450bd961620f"
      },
      "outputs": [
        {
          "name": "stdout",
          "output_type": "stream",
          "text": [
            "Looking at Joe\n",
            "Looking at Jane\n",
            "Looking at Wally\n"
          ]
        },
        {
          "data": {
            "text/plain": [
              "true"
            ]
          },
          "metadata": {},
          "output_type": "display_data"
        }
      ],
      "source": [
        "found = false\n",
        "for person in [\"Joe\", \"Jane\", \"Wally\", \"Jack\", \"Julia\"] # try removing \"Wally\"\n",
        "    println(\"Looking at $person\")\n",
        "    person == \"Wally\" && (found = true; break)\n",
        "end\n",
        "found || println(\"I did not find Wally.\")"
      ]
    },
    {
      "cell_type": "markdown",
      "metadata": {
        "id": "ySqtkxpxWH57"
      },
      "source": [
        "The equivalent Python code looks like this:\n",
        "\n",
        "```python\n",
        "# PYTHON\n",
        "for person in [\"Joe\", \"Jane\", \"Wally\", \"Jack\", \"Julia\"]: # try removing \"Wally\"\n",
        "    print(f\"Looking at {person}\")\n",
        "    if person == \"Wally\":\n",
        "        break\n",
        "else:\n",
        "    print(\"I did not find Wally.\")\n",
        "```"
      ]
    },
    {
      "cell_type": "markdown",
      "metadata": {
        "id": "gz4fZGxOHLmI"
      },
      "source": [
        "\n",
        "\n",
        "|Julia|Python\n",
        "|-----|------\n",
        "|`if cond1`<br />&nbsp;&nbsp;&nbsp;&nbsp;`...`<br/>`elseif cond2`<br />&nbsp;&nbsp;&nbsp;&nbsp;`...`<br/>`else`<br />&nbsp;&nbsp;&nbsp;&nbsp;`...`<br/>`end` |`if cond1:`<br />&nbsp;&nbsp;&nbsp;&nbsp;`...`<br/>`elif cond2:`<br />&nbsp;&nbsp;&nbsp;&nbsp;`...`<br/>`else:`<br />&nbsp;&nbsp;&nbsp;&nbsp;`...`\n",
        "|`&&` | `and`\n",
        "|`\\|\\|` | `or`\n",
        "|`!` | `not`\n",
        "|`⊻` (type `\\xor<tab>`) | `^`\n",
        "|`true` | `True`\n",
        "|`false` | `False`\n",
        "|`cond && f()` | `if cond: f()`\n",
        "|`cond \\|\\| f()` | `if not cond: f()`\n",
        "|`for i in 1:5 ... end` | `for i in range(1, 6): ...`\n",
        "|`for i in 1:5, j in 1:6 ... end` | `from itertools import product`<br />`for i, j in product(range(1, 6), range(1, 7)):`<br />&nbsp;&nbsp;&nbsp;&nbsp;`...`\n",
        "|`while cond ... end` | `while cond: ...`\n",
        "|`continue` | `continue`\n",
        "|`break` | `break`\n"
      ]
    },
    {
      "cell_type": "markdown",
      "metadata": {
        "id": "KZnBWeHcvcDE"
      },
      "source": [
        "## Coding Styles"
      ]
    },
    {
      "cell_type": "markdown",
      "metadata": {
        "id": "muWpncW1ssPe"
      },
      "source": [
        "In what follows, we show an example where the function `randn` is used to create samples from a standard normal ditribution. For this, we use `for` loop in various styles."
      ]
    },
    {
      "cell_type": "code",
      "execution_count": 14,
      "metadata": {
        "colab": {
          "base_uri": "https://localhost:8080/",
          "height": 132
        },
        "collapsed": true,
        "id": "ol5RbDD2s48E",
        "outputId": "58337dea-0c18-4f6e-8aa3-eefe70d650e8"
      },
      "outputs": [],
      "source": [
        "# ugly style\n",
        "n = 100\n",
        "ϵ = zeros(n) \n",
        "for i in 1:n\n",
        "    ϵ[i] = randn()\n",
        "end"
      ]
    },
    {
      "cell_type": "markdown",
      "metadata": {
        "id": "5kpBnDZxtWDM"
      },
      "source": [
        "The for loop's `in` keyword can be replaced with either `∈` or `=`. Although the index variable is cycled over for all integers between 1 and n, this does not result in the creation of a vector of those indices. Rather than that, it produces an _iterator_ that is looped through — in this case, the integer range 1 to n. The following code provides a better connection between index `i` and the variable `ϵ`."
      ]
    },
    {
      "cell_type": "code",
      "execution_count": 15,
      "metadata": {
        "id": "t_aBh9dZuwDN"
      },
      "outputs": [],
      "source": [
        "# poor (but handsome) style\n",
        "n = 100\n",
        "ϵ = zeros(n)\n",
        "for i ∈ eachindex(ϵ)\n",
        "    ϵ[i] = randn()\n",
        "end"
      ]
    },
    {
      "cell_type": "code",
      "execution_count": 16,
      "metadata": {},
      "outputs": [
        {
          "data": {
            "text/plain": [
              "0.015098399550076984"
            ]
          },
          "metadata": {},
          "output_type": "display_data"
        }
      ],
      "source": [
        "ϵ_sum = 0.0\n",
        "for j ∈ eachindex(ϵ)\n",
        "    ϵ_sum += ϵ[j]\n",
        "end\n",
        "μ = ϵ_sum / n"
      ]
    },
    {
      "cell_type": "markdown",
      "metadata": {
        "id": "JOeKG68X7mJ2"
      },
      "source": [
        "We can write the generative part of the code in a user defined function:"
      ]
    },
    {
      "cell_type": "code",
      "execution_count": 17,
      "metadata": {},
      "outputs": [],
      "source": [
        "using Plots"
      ]
    },
    {
      "cell_type": "code",
      "execution_count": 20,
      "metadata": {
        "colab": {
          "base_uri": "https://localhost:8080/"
        },
        "id": "A6OigrsU7XwL",
        "outputId": "f5484157-7198-4c24-c993-f8eda91486da"
      },
      "outputs": [
        {
          "data": {
            "image/png": "[encoded data removed]",
            "image/svg+xml": [
              "<?xml version=\"1.0\" encoding=\"utf-8\"?>\n",
              "<svg xmlns=\"http://www.w3.org/2000/svg\" xmlns:xlink=\"http://www.w3.org/1999/xlink\" width=\"600\" height=\"400\" viewBox=\"0 0 2400 1600\">\n",
              "<defs>\n",
              "  <clipPath id=\"clip330\">\n",
              "    <rect x=\"0\" y=\"0\" width=\"2400\" height=\"1600\"/>\n",
              "  </clipPath>\n",
              "</defs>\n",
              "<path clip-path=\"url(#clip330)\" d=\"M0 1600 L2400 1600 L2400 0 L0 0  Z\" fill=\"#282c34\" fill-rule=\"evenodd\" fill-opacity=\"1\"/>\n",
              "<defs>\n",
              "  <clipPath id=\"clip331\">\n",
              "    <rect x=\"480\" y=\"0\" width=\"1681\" height=\"1600\"/>\n",
              "  </clipPath>\n",
              "</defs>\n",
              "<path clip-path=\"url(#clip330)\" d=\"M147.478 1486.45 L2352.76 1486.45 L2352.76 47.2441 L147.478 47.2441  Z\" fill=\"#21252b\" fill-rule=\"evenodd\" fill-opacity=\"1\"/>\n",
              "<defs>\n",
              "  <clipPath id=\"clip332\">\n",
              "    <rect x=\"147\" y=\"47\" width=\"2206\" height=\"1440\"/>\n",
              "  </clipPath>\n",
              "</defs>\n",
              "<polyline clip-path=\"url(#clip332)\" style=\"stroke:#adb2b7; stroke-linecap:round; stroke-linejoin:round; stroke-width:2; stroke-opacity:0.1; fill:none\" points=\"188.877,1486.45 188.877,47.2441 \"/>\n",
              "<polyline clip-path=\"url(#clip332)\" style=\"stroke:#adb2b7; stroke-linecap:round; stroke-linejoin:round; stroke-width:2; stroke-opacity:0.1; fill:none\" points=\"714.243,1486.45 714.243,47.2441 \"/>\n",
              "<polyline clip-path=\"url(#clip332)\" style=\"stroke:#adb2b7; stroke-linecap:round; stroke-linejoin:round; stroke-width:2; stroke-opacity:0.1; fill:none\" points=\"1239.61,1486.45 1239.61,47.2441 \"/>\n",
              "<polyline clip-path=\"url(#clip332)\" style=\"stroke:#adb2b7; stroke-linecap:round; stroke-linejoin:round; stroke-width:2; stroke-opacity:0.1; fill:none\" points=\"1764.98,1486.45 1764.98,47.2441 \"/>\n",
              "<polyline clip-path=\"url(#clip332)\" style=\"stroke:#adb2b7; stroke-linecap:round; stroke-linejoin:round; stroke-width:2; stroke-opacity:0.1; fill:none\" points=\"2290.34,1486.45 2290.34,47.2441 \"/>\n",
              "<polyline clip-path=\"url(#clip332)\" style=\"stroke:#adb2b7; stroke-linecap:round; stroke-linejoin:round; stroke-width:2; stroke-opacity:0.1; fill:none\" points=\"147.478,1266.22 2352.76,1266.22 \"/>\n",
              "<polyline clip-path=\"url(#clip332)\" style=\"stroke:#adb2b7; stroke-linecap:round; stroke-linejoin:round; stroke-width:2; stroke-opacity:0.1; fill:none\" points=\"147.478,1031.12 2352.76,1031.12 \"/>\n",
              "<polyline clip-path=\"url(#clip332)\" style=\"stroke:#adb2b7; stroke-linecap:round; stroke-linejoin:round; stroke-width:2; stroke-opacity:0.1; fill:none\" points=\"147.478,796.015 2352.76,796.015 \"/>\n",
              "<polyline clip-path=\"url(#clip332)\" style=\"stroke:#adb2b7; stroke-linecap:round; stroke-linejoin:round; stroke-width:2; stroke-opacity:0.1; fill:none\" points=\"147.478,560.91 2352.76,560.91 \"/>\n",
              "<polyline clip-path=\"url(#clip332)\" style=\"stroke:#adb2b7; stroke-linecap:round; stroke-linejoin:round; stroke-width:2; stroke-opacity:0.1; fill:none\" points=\"147.478,325.806 2352.76,325.806 \"/>\n",
              "<polyline clip-path=\"url(#clip332)\" style=\"stroke:#adb2b7; stroke-linecap:round; stroke-linejoin:round; stroke-width:2; stroke-opacity:0.1; fill:none\" points=\"147.478,90.7009 2352.76,90.7009 \"/>\n",
              "<polyline clip-path=\"url(#clip330)\" style=\"stroke:#adb2b7; stroke-linecap:round; stroke-linejoin:round; stroke-width:4; stroke-opacity:1; fill:none\" points=\"147.478,1486.45 2352.76,1486.45 \"/>\n",
              "<polyline clip-path=\"url(#clip330)\" style=\"stroke:#adb2b7; stroke-linecap:round; stroke-linejoin:round; stroke-width:4; stroke-opacity:1; fill:none\" points=\"188.877,1486.45 188.877,1467.55 \"/>\n",
              "<polyline clip-path=\"url(#clip330)\" style=\"stroke:#adb2b7; stroke-linecap:round; stroke-linejoin:round; stroke-width:4; stroke-opacity:1; fill:none\" points=\"714.243,1486.45 714.243,1467.55 \"/>\n",
              "<polyline clip-path=\"url(#clip330)\" style=\"stroke:#adb2b7; stroke-linecap:round; stroke-linejoin:round; stroke-width:4; stroke-opacity:1; fill:none\" points=\"1239.61,1486.45 1239.61,1467.55 \"/>\n",
              "<polyline clip-path=\"url(#clip330)\" style=\"stroke:#adb2b7; stroke-linecap:round; stroke-linejoin:round; stroke-width:4; stroke-opacity:1; fill:none\" points=\"1764.98,1486.45 1764.98,1467.55 \"/>\n",
              "<polyline clip-path=\"url(#clip330)\" style=\"stroke:#adb2b7; stroke-linecap:round; stroke-linejoin:round; stroke-width:4; stroke-opacity:1; fill:none\" points=\"2290.34,1486.45 2290.34,1467.55 \"/>\n",
              "<path clip-path=\"url(#clip330)\" d=\"M188.877 1517.37 Q185.266 1517.37 183.437 1520.93 Q181.631 1524.47 181.631 1531.6 Q181.631 1538.71 183.437 1542.27 Q185.266 1545.82 188.877 1545.82 Q192.511 1545.82 194.317 1542.27 Q196.145 1538.71 196.145 1531.6 Q196.145 1524.47 194.317 1520.93 Q192.511 1517.37 188.877 1517.37 M188.877 1513.66 Q194.687 1513.66 197.742 1518.27 Q200.821 1522.85 200.821 1531.6 Q200.821 1540.33 197.742 1544.94 Q194.687 1549.52 188.877 1549.52 Q183.067 1549.52 179.988 1544.94 Q176.932 1540.33 176.932 1531.6 Q176.932 1522.85 179.988 1518.27 Q183.067 1513.66 188.877 1513.66 Z\" fill=\"#9eb1be\" fill-rule=\"nonzero\" fill-opacity=\"1\" /><path clip-path=\"url(#clip330)\" d=\"M693.514 1544.91 L709.833 1544.91 L709.833 1548.85 L687.889 1548.85 L687.889 1544.91 Q690.551 1542.16 695.134 1537.53 Q699.741 1532.88 700.921 1531.53 Q703.167 1529.01 704.046 1527.27 Q704.949 1525.51 704.949 1523.82 Q704.949 1521.07 703.005 1519.33 Q701.084 1517.6 697.982 1517.6 Q695.783 1517.6 693.329 1518.36 Q690.898 1519.13 688.121 1520.68 L688.121 1515.95 Q690.945 1514.82 693.398 1514.24 Q695.852 1513.66 697.889 1513.66 Q703.259 1513.66 706.454 1516.35 Q709.648 1519.03 709.648 1523.52 Q709.648 1525.65 708.838 1527.57 Q708.051 1529.47 705.945 1532.07 Q705.366 1532.74 702.264 1535.95 Q699.162 1539.15 693.514 1544.91 Z\" fill=\"#9eb1be\" fill-rule=\"nonzero\" fill-opacity=\"1\" /><path clip-path=\"url(#clip330)\" d=\"M719.695 1514.29 L738.051 1514.29 L738.051 1518.22 L723.977 1518.22 L723.977 1526.7 Q724.995 1526.35 726.014 1526.19 Q727.032 1526 728.051 1526 Q733.838 1526 737.218 1529.17 Q740.597 1532.34 740.597 1537.76 Q740.597 1543.34 737.125 1546.44 Q733.653 1549.52 727.333 1549.52 Q725.157 1549.52 722.889 1549.15 Q720.644 1548.78 718.236 1548.04 L718.236 1543.34 Q720.32 1544.47 722.542 1545.03 Q724.764 1545.58 727.241 1545.58 Q731.245 1545.58 733.583 1543.48 Q735.921 1541.37 735.921 1537.76 Q735.921 1534.15 733.583 1532.04 Q731.245 1529.94 727.241 1529.94 Q725.366 1529.94 723.491 1530.35 Q721.639 1530.77 719.695 1531.65 L719.695 1514.29 Z\" fill=\"#9eb1be\" fill-rule=\"nonzero\" fill-opacity=\"1\" /><path clip-path=\"url(#clip330)\" d=\"M1214.31 1514.29 L1232.67 1514.29 L1232.67 1518.22 L1218.59 1518.22 L1218.59 1526.7 Q1219.61 1526.35 1220.63 1526.19 Q1221.65 1526 1222.67 1526 Q1228.45 1526 1231.83 1529.17 Q1235.21 1532.34 1235.21 1537.76 Q1235.21 1543.34 1231.74 1546.44 Q1228.27 1549.52 1221.95 1549.52 Q1219.77 1549.52 1217.5 1549.15 Q1215.26 1548.78 1212.85 1548.04 L1212.85 1543.34 Q1214.93 1544.47 1217.16 1545.03 Q1219.38 1545.58 1221.86 1545.58 Q1225.86 1545.58 1228.2 1543.48 Q1230.54 1541.37 1230.54 1537.76 Q1230.54 1534.15 1228.2 1532.04 Q1225.86 1529.94 1221.86 1529.94 Q1219.98 1529.94 1218.11 1530.35 Q1216.25 1530.77 1214.31 1531.65 L1214.31 1514.29 Z\" fill=\"#9eb1be\" fill-rule=\"nonzero\" fill-opacity=\"1\" /><path clip-path=\"url(#clip330)\" d=\"M1254.42 1517.37 Q1250.81 1517.37 1248.98 1520.93 Q1247.18 1524.47 1247.18 1531.6 Q1247.18 1538.71 1248.98 1542.27 Q1250.81 1545.82 1254.42 1545.82 Q1258.06 1545.82 1259.86 1542.27 Q1261.69 1538.71 1261.69 1531.6 Q1261.69 1524.47 1259.86 1520.93 Q1258.06 1517.37 1254.42 1517.37 M1254.42 1513.66 Q1260.23 1513.66 1263.29 1518.27 Q1266.37 1522.85 1266.37 1531.6 Q1266.37 1540.33 1263.29 1544.94 Q1260.23 1549.52 1254.42 1549.52 Q1248.61 1549.52 1245.54 1544.94 Q1242.48 1540.33 1242.48 1531.6 Q1242.48 1522.85 1245.54 1518.27 Q1248.61 1513.66 1254.42 1513.66 Z\" fill=\"#9eb1be\" fill-rule=\"nonzero\" fill-opacity=\"1\" /><path clip-path=\"url(#clip330)\" d=\"M1738.83 1514.29 L1761.05 1514.29 L1761.05 1516.28 L1748.51 1548.85 L1743.62 1548.85 L1755.43 1518.22 L1738.83 1518.22 L1738.83 1514.29 Z\" fill=\"#9eb1be\" fill-rule=\"nonzero\" fill-opacity=\"1\" /><path clip-path=\"url(#clip330)\" d=\"M1770.22 1514.29 L1788.58 1514.29 L1788.58 1518.22 L1774.5 1518.22 L1774.5 1526.7 Q1775.52 1526.35 1776.54 1526.19 Q1777.56 1526 1778.58 1526 Q1784.36 1526 1787.74 1529.17 Q1791.12 1532.34 1791.12 1537.76 Q1791.12 1543.34 1787.65 1546.44 Q1784.18 1549.52 1777.86 1549.52 Q1775.68 1549.52 1773.41 1549.15 Q1771.17 1548.78 1768.76 1548.04 L1768.76 1543.34 Q1770.84 1544.47 1773.07 1545.03 Q1775.29 1545.58 1777.77 1545.58 Q1781.77 1545.58 1784.11 1543.48 Q1786.45 1541.37 1786.45 1537.76 Q1786.45 1534.15 1784.11 1532.04 Q1781.77 1529.94 1777.77 1529.94 Q1775.89 1529.94 1774.02 1530.35 Q1772.16 1530.77 1770.22 1531.65 L1770.22 1514.29 Z\" fill=\"#9eb1be\" fill-rule=\"nonzero\" fill-opacity=\"1\" /><path clip-path=\"url(#clip330)\" d=\"M2249.95 1544.91 L2257.59 1544.91 L2257.59 1518.55 L2249.28 1520.21 L2249.28 1515.95 L2257.54 1514.29 L2262.22 1514.29 L2262.22 1544.91 L2269.86 1544.91 L2269.86 1548.85 L2249.95 1548.85 L2249.95 1544.91 Z\" fill=\"#9eb1be\" fill-rule=\"nonzero\" fill-opacity=\"1\" /><path clip-path=\"url(#clip330)\" d=\"M2289.3 1517.37 Q2285.69 1517.37 2283.86 1520.93 Q2282.06 1524.47 2282.06 1531.6 Q2282.06 1538.71 2283.86 1542.27 Q2285.69 1545.82 2289.3 1545.82 Q2292.93 1545.82 2294.74 1542.27 Q2296.57 1538.71 2296.57 1531.6 Q2296.57 1524.47 2294.74 1520.93 Q2292.93 1517.37 2289.3 1517.37 M2289.3 1513.66 Q2295.11 1513.66 2298.17 1518.27 Q2301.25 1522.85 2301.25 1531.6 Q2301.25 1540.33 2298.17 1544.94 Q2295.11 1549.52 2289.3 1549.52 Q2283.49 1549.52 2280.41 1544.94 Q2277.36 1540.33 2277.36 1531.6 Q2277.36 1522.85 2280.41 1518.27 Q2283.49 1513.66 2289.3 1513.66 Z\" fill=\"#9eb1be\" fill-rule=\"nonzero\" fill-opacity=\"1\" /><path clip-path=\"url(#clip330)\" d=\"M2319.46 1517.37 Q2315.85 1517.37 2314.02 1520.93 Q2312.22 1524.47 2312.22 1531.6 Q2312.22 1538.71 2314.02 1542.27 Q2315.85 1545.82 2319.46 1545.82 Q2323.1 1545.82 2324.9 1542.27 Q2326.73 1538.71 2326.73 1531.6 Q2326.73 1524.47 2324.9 1520.93 Q2323.1 1517.37 2319.46 1517.37 M2319.46 1513.66 Q2325.27 1513.66 2328.33 1518.27 Q2331.41 1522.85 2331.41 1531.6 Q2331.41 1540.33 2328.33 1544.94 Q2325.27 1549.52 2319.46 1549.52 Q2313.65 1549.52 2310.57 1544.94 Q2307.52 1540.33 2307.52 1531.6 Q2307.52 1522.85 2310.57 1518.27 Q2313.65 1513.66 2319.46 1513.66 Z\" fill=\"#9eb1be\" fill-rule=\"nonzero\" fill-opacity=\"1\" /><polyline clip-path=\"url(#clip330)\" style=\"stroke:#adb2b7; stroke-linecap:round; stroke-linejoin:round; stroke-width:4; stroke-opacity:1; fill:none\" points=\"147.478,1486.45 147.478,47.2441 \"/>\n",
              "<polyline clip-path=\"url(#clip330)\" style=\"stroke:#adb2b7; stroke-linecap:round; stroke-linejoin:round; stroke-width:4; stroke-opacity:1; fill:none\" points=\"147.478,1266.22 166.376,1266.22 \"/>\n",
              "<polyline clip-path=\"url(#clip330)\" style=\"stroke:#adb2b7; stroke-linecap:round; stroke-linejoin:round; stroke-width:4; stroke-opacity:1; fill:none\" points=\"147.478,1031.12 166.376,1031.12 \"/>\n",
              "<polyline clip-path=\"url(#clip330)\" style=\"stroke:#adb2b7; stroke-linecap:round; stroke-linejoin:round; stroke-width:4; stroke-opacity:1; fill:none\" points=\"147.478,796.015 166.376,796.015 \"/>\n",
              "<polyline clip-path=\"url(#clip330)\" style=\"stroke:#adb2b7; stroke-linecap:round; stroke-linejoin:round; stroke-width:4; stroke-opacity:1; fill:none\" points=\"147.478,560.91 166.376,560.91 \"/>\n",
              "<polyline clip-path=\"url(#clip330)\" style=\"stroke:#adb2b7; stroke-linecap:round; stroke-linejoin:round; stroke-width:4; stroke-opacity:1; fill:none\" points=\"147.478,325.806 166.376,325.806 \"/>\n",
              "<polyline clip-path=\"url(#clip330)\" style=\"stroke:#adb2b7; stroke-linecap:round; stroke-linejoin:round; stroke-width:4; stroke-opacity:1; fill:none\" points=\"147.478,90.7009 166.376,90.7009 \"/>\n",
              "<path clip-path=\"url(#clip330)\" d=\"M51.3625 1266.68 L81.0383 1266.68 L81.0383 1270.61 L51.3625 1270.61 L51.3625 1266.68 Z\" fill=\"#9eb1be\" fill-rule=\"nonzero\" fill-opacity=\"1\" /><path clip-path=\"url(#clip330)\" d=\"M95.1586 1279.57 L111.478 1279.57 L111.478 1283.5 L89.5336 1283.5 L89.5336 1279.57 Q92.1956 1276.81 96.7789 1272.18 Q101.385 1267.53 102.566 1266.19 Q104.811 1263.67 105.691 1261.93 Q106.594 1260.17 106.594 1258.48 Q106.594 1255.73 104.649 1253.99 Q102.728 1252.25 99.6261 1252.25 Q97.4271 1252.25 94.9734 1253.02 Q92.5428 1253.78 89.7651 1255.33 L89.7651 1250.61 Q92.5891 1249.48 95.0428 1248.9 Q97.4965 1248.32 99.5335 1248.32 Q104.904 1248.32 108.098 1251 Q111.293 1253.69 111.293 1258.18 Q111.293 1260.31 110.483 1262.23 Q109.696 1264.13 107.589 1266.72 Q107.01 1267.39 103.909 1270.61 Q100.807 1273.81 95.1586 1279.57 Z\" fill=\"#9eb1be\" fill-rule=\"nonzero\" fill-opacity=\"1\" /><path clip-path=\"url(#clip330)\" d=\"M50.9921 1031.57 L80.6679 1031.57 L80.6679 1035.51 L50.9921 1035.51 L50.9921 1031.57 Z\" fill=\"#9eb1be\" fill-rule=\"nonzero\" fill-opacity=\"1\" /><path clip-path=\"url(#clip330)\" d=\"M91.5706 1044.46 L99.2095 1044.46 L99.2095 1018.1 L90.8993 1019.77 L90.8993 1015.51 L99.1632 1013.84 L103.839 1013.84 L103.839 1044.46 L111.478 1044.46 L111.478 1048.4 L91.5706 1048.4 L91.5706 1044.46 Z\" fill=\"#9eb1be\" fill-rule=\"nonzero\" fill-opacity=\"1\" /><path clip-path=\"url(#clip330)\" d=\"M99.5335 781.814 Q95.9224 781.814 94.0937 785.378 Q92.2882 788.92 92.2882 796.05 Q92.2882 803.156 94.0937 806.721 Q95.9224 810.263 99.5335 810.263 Q103.168 810.263 104.973 806.721 Q106.802 803.156 106.802 796.05 Q106.802 788.92 104.973 785.378 Q103.168 781.814 99.5335 781.814 M99.5335 778.11 Q105.344 778.11 108.399 782.716 Q111.478 787.3 111.478 796.05 Q111.478 804.776 108.399 809.383 Q105.344 813.966 99.5335 813.966 Q93.7234 813.966 90.6447 809.383 Q87.5892 804.776 87.5892 796.05 Q87.5892 787.3 90.6447 782.716 Q93.7234 778.11 99.5335 778.11 Z\" fill=\"#9eb1be\" fill-rule=\"nonzero\" fill-opacity=\"1\" /><path clip-path=\"url(#clip330)\" d=\"M91.5706 574.255 L99.2095 574.255 L99.2095 547.89 L90.8993 549.556 L90.8993 545.297 L99.1632 543.63 L103.839 543.63 L103.839 574.255 L111.478 574.255 L111.478 578.19 L91.5706 578.19 L91.5706 574.255 Z\" fill=\"#9eb1be\" fill-rule=\"nonzero\" fill-opacity=\"1\" /><path clip-path=\"url(#clip330)\" d=\"M95.1586 339.15 L111.478 339.15 L111.478 343.086 L89.5336 343.086 L89.5336 339.15 Q92.1956 336.396 96.7789 331.766 Q101.385 327.113 102.566 325.771 Q104.811 323.248 105.691 321.512 Q106.594 319.752 106.594 318.063 Q106.594 315.308 104.649 313.572 Q102.728 311.836 99.6261 311.836 Q97.4271 311.836 94.9734 312.6 Q92.5428 313.364 89.7651 314.914 L89.7651 310.192 Q92.5891 309.058 95.0428 308.479 Q97.4965 307.901 99.5335 307.901 Q104.904 307.901 108.098 310.586 Q111.293 313.271 111.293 317.762 Q111.293 319.891 110.483 321.813 Q109.696 323.711 107.589 326.303 Q107.01 326.975 103.909 330.192 Q100.807 333.387 95.1586 339.15 Z\" fill=\"#9eb1be\" fill-rule=\"nonzero\" fill-opacity=\"1\" /><path clip-path=\"url(#clip330)\" d=\"M104.348 89.3468 Q107.705 90.0644 109.58 92.3329 Q111.478 94.6014 111.478 97.9347 Q111.478 103.05 107.959 105.851 Q104.441 108.652 97.9595 108.652 Q95.7836 108.652 93.4688 108.212 Q91.1771 107.796 88.7234 106.939 L88.7234 102.425 Q90.6678 103.56 92.9826 104.138 Q95.2974 104.717 97.8206 104.717 Q102.219 104.717 104.51 102.981 Q106.825 101.245 106.825 97.9347 Q106.825 94.8792 104.672 93.1662 Q102.543 91.4301 98.7234 91.4301 L94.6956 91.4301 L94.6956 87.5875 L98.9085 87.5875 Q102.358 87.5875 104.186 86.2218 Q106.015 84.8329 106.015 82.2403 Q106.015 79.5783 104.117 78.1663 Q102.242 76.7311 98.7234 76.7311 Q96.8021 76.7311 94.603 77.1478 Q92.4039 77.5644 89.7651 78.4441 L89.7651 74.2774 Q92.4271 73.5367 94.7419 73.1663 Q97.0798 72.7959 99.14 72.7959 Q104.464 72.7959 107.566 75.2265 Q110.668 77.6339 110.668 81.7542 Q110.668 84.6246 109.024 86.6153 Q107.381 88.5829 104.348 89.3468 Z\" fill=\"#9eb1be\" fill-rule=\"nonzero\" fill-opacity=\"1\" /><polyline clip-path=\"url(#clip332)\" style=\"stroke:#fe4365; stroke-linecap:round; stroke-linejoin:round; stroke-width:4; stroke-opacity:1; fill:none\" points=\"209.891,893.772 230.906,1111.51 251.921,789.351 272.935,747.155 293.95,670.953 314.965,1218.15 335.979,996.759 356.994,664.789 378.009,818.365 399.023,509.017 420.038,893.549 441.053,1319.99 462.067,657.489 483.082,482.967 504.097,1055.5 525.111,814.557 546.126,773.593 567.141,754.696 588.155,518.312 609.17,662.746 630.185,838.774 651.199,435.985 672.214,496.766 693.229,860.413 714.243,200.595 735.258,544.338 756.272,826.915 777.287,637.397 798.302,509.177 819.316,882.177 840.331,760.589 861.346,965.385 882.36,539.678 903.375,697.219 924.39,1119.85 945.404,563.511 966.419,679.15 987.434,905.874 1008.45,591.048 1029.46,1111.32 1050.48,920.569 1071.49,1030.87 1092.51,616.209 1113.52,792.861 1134.54,810.987 1155.55,1352.52 1176.57,500.447 1197.58,884.733 1218.59,560.651 1239.61,982.471 1260.62,932.644 1281.64,976.525 1302.65,554.166 1323.67,812.589 1344.68,765.633 1365.7,626.294 1386.71,577.798 1407.73,902.924 1428.74,507.265 1449.76,786.287 1470.77,699.238 1491.79,1064.29 1512.8,955.821 1533.81,847.989 1554.83,585.415 1575.84,994.255 1596.86,691.633 1617.87,1445.72 1638.89,698.856 1659.9,765.45 1680.92,905.199 1701.93,755.91 1722.95,1190.5 1743.96,676.647 1764.98,1342.5 1785.99,1040.94 1807.01,558.302 1828.02,637.487 1849.03,854.599 1870.05,87.9763 1891.06,352.693 1912.08,853.723 1933.09,533.362 1954.11,942.153 1975.12,1065.66 1996.14,811.072 2017.15,676.525 2038.17,368.813 2059.18,1042.45 2080.2,688.332 2101.21,323.575 2122.23,1169.31 2143.24,544.113 2164.25,513.138 2185.27,1015.96 2206.28,861.363 2227.3,1037.59 2248.31,816.166 2269.33,913.743 2290.34,804.412 \"/>\n",
              "<path clip-path=\"url(#clip330)\" d=\"M220.987 198.898 L493.945 198.898 L493.945 95.2176 L220.987 95.2176  Z\" fill=\"#282c34\" fill-rule=\"evenodd\" fill-opacity=\"1\"/>\n",
              "<polyline clip-path=\"url(#clip330)\" style=\"stroke:#9eb1be; stroke-linecap:round; stroke-linejoin:round; stroke-width:4; stroke-opacity:1; fill:none\" points=\"220.987,198.898 493.945,198.898 493.945,95.2176 220.987,95.2176 220.987,198.898 \"/>\n",
              "<polyline clip-path=\"url(#clip330)\" style=\"stroke:#fe4365; stroke-linecap:round; stroke-linejoin:round; stroke-width:4; stroke-opacity:1; fill:none\" points=\"245.49,147.058 392.509,147.058 \"/>\n",
              "<path clip-path=\"url(#clip330)\" d=\"M430.854 166.745 Q429.049 171.375 427.336 172.787 Q425.623 174.199 422.753 174.199 L419.35 174.199 L419.35 170.634 L421.85 170.634 Q423.609 170.634 424.581 169.8 Q425.554 168.967 426.734 165.865 L427.498 163.921 L417.012 138.412 L421.526 138.412 L429.628 158.689 L437.729 138.412 L442.243 138.412 L430.854 166.745 Z\" fill=\"#adb2b7\" fill-rule=\"nonzero\" fill-opacity=\"1\" /><path clip-path=\"url(#clip330)\" d=\"M449.535 160.402 L457.174 160.402 L457.174 134.037 L448.864 135.703 L448.864 131.444 L457.127 129.778 L461.803 129.778 L461.803 160.402 L469.442 160.402 L469.442 164.338 L449.535 164.338 L449.535 160.402 Z\" fill=\"#adb2b7\" fill-rule=\"nonzero\" fill-opacity=\"1\" /></svg>\n"
            ],
            "text/html": [
              "<?xml version=\"1.0\" encoding=\"utf-8\"?>\n",
              "<svg xmlns=\"http://www.w3.org/2000/svg\" xmlns:xlink=\"http://www.w3.org/1999/xlink\" width=\"600\" height=\"400\" viewBox=\"0 0 2400 1600\">\n",
              "<defs>\n",
              "  <clipPath id=\"clip380\">\n",
              "    <rect x=\"0\" y=\"0\" width=\"2400\" height=\"1600\"/>\n",
              "  </clipPath>\n",
              "</defs>\n",
              "<path clip-path=\"url(#clip380)\" d=\"M0 1600 L2400 1600 L2400 0 L0 0  Z\" fill=\"#282c34\" fill-rule=\"evenodd\" fill-opacity=\"1\"/>\n",
              "<defs>\n",
              "  <clipPath id=\"clip381\">\n",
              "    <rect x=\"480\" y=\"0\" width=\"1681\" height=\"1600\"/>\n",
              "  </clipPath>\n",
              "</defs>\n",
              "<path clip-path=\"url(#clip380)\" d=\"M147.478 1486.45 L2352.76 1486.45 L2352.76 47.2441 L147.478 47.2441  Z\" fill=\"#21252b\" fill-rule=\"evenodd\" fill-opacity=\"1\"/>\n",
              "<defs>\n",
              "  <clipPath id=\"clip382\">\n",
              "    <rect x=\"147\" y=\"47\" width=\"2206\" height=\"1440\"/>\n",
              "  </clipPath>\n",
              "</defs>\n",
              "<polyline clip-path=\"url(#clip382)\" style=\"stroke:#adb2b7; stroke-linecap:round; stroke-linejoin:round; stroke-width:2; stroke-opacity:0.1; fill:none\" points=\"188.877,1486.45 188.877,47.2441 \"/>\n",
              "<polyline clip-path=\"url(#clip382)\" style=\"stroke:#adb2b7; stroke-linecap:round; stroke-linejoin:round; stroke-width:2; stroke-opacity:0.1; fill:none\" points=\"714.243,1486.45 714.243,47.2441 \"/>\n",
              "<polyline clip-path=\"url(#clip382)\" style=\"stroke:#adb2b7; stroke-linecap:round; stroke-linejoin:round; stroke-width:2; stroke-opacity:0.1; fill:none\" points=\"1239.61,1486.45 1239.61,47.2441 \"/>\n",
              "<polyline clip-path=\"url(#clip382)\" style=\"stroke:#adb2b7; stroke-linecap:round; stroke-linejoin:round; stroke-width:2; stroke-opacity:0.1; fill:none\" points=\"1764.98,1486.45 1764.98,47.2441 \"/>\n",
              "<polyline clip-path=\"url(#clip382)\" style=\"stroke:#adb2b7; stroke-linecap:round; stroke-linejoin:round; stroke-width:2; stroke-opacity:0.1; fill:none\" points=\"2290.34,1486.45 2290.34,47.2441 \"/>\n",
              "<polyline clip-path=\"url(#clip382)\" style=\"stroke:#adb2b7; stroke-linecap:round; stroke-linejoin:round; stroke-width:2; stroke-opacity:0.1; fill:none\" points=\"147.478,1266.22 2352.76,1266.22 \"/>\n",
              "<polyline clip-path=\"url(#clip382)\" style=\"stroke:#adb2b7; stroke-linecap:round; stroke-linejoin:round; stroke-width:2; stroke-opacity:0.1; fill:none\" points=\"147.478,1031.12 2352.76,1031.12 \"/>\n",
              "<polyline clip-path=\"url(#clip382)\" style=\"stroke:#adb2b7; stroke-linecap:round; stroke-linejoin:round; stroke-width:2; stroke-opacity:0.1; fill:none\" points=\"147.478,796.015 2352.76,796.015 \"/>\n",
              "<polyline clip-path=\"url(#clip382)\" style=\"stroke:#adb2b7; stroke-linecap:round; stroke-linejoin:round; stroke-width:2; stroke-opacity:0.1; fill:none\" points=\"147.478,560.91 2352.76,560.91 \"/>\n",
              "<polyline clip-path=\"url(#clip382)\" style=\"stroke:#adb2b7; stroke-linecap:round; stroke-linejoin:round; stroke-width:2; stroke-opacity:0.1; fill:none\" points=\"147.478,325.806 2352.76,325.806 \"/>\n",
              "<polyline clip-path=\"url(#clip382)\" style=\"stroke:#adb2b7; stroke-linecap:round; stroke-linejoin:round; stroke-width:2; stroke-opacity:0.1; fill:none\" points=\"147.478,90.7009 2352.76,90.7009 \"/>\n",
              "<polyline clip-path=\"url(#clip380)\" style=\"stroke:#adb2b7; stroke-linecap:round; stroke-linejoin:round; stroke-width:4; stroke-opacity:1; fill:none\" points=\"147.478,1486.45 2352.76,1486.45 \"/>\n",
              "<polyline clip-path=\"url(#clip380)\" style=\"stroke:#adb2b7; stroke-linecap:round; stroke-linejoin:round; stroke-width:4; stroke-opacity:1; fill:none\" points=\"188.877,1486.45 188.877,1467.55 \"/>\n",
              "<polyline clip-path=\"url(#clip380)\" style=\"stroke:#adb2b7; stroke-linecap:round; stroke-linejoin:round; stroke-width:4; stroke-opacity:1; fill:none\" points=\"714.243,1486.45 714.243,1467.55 \"/>\n",
              "<polyline clip-path=\"url(#clip380)\" style=\"stroke:#adb2b7; stroke-linecap:round; stroke-linejoin:round; stroke-width:4; stroke-opacity:1; fill:none\" points=\"1239.61,1486.45 1239.61,1467.55 \"/>\n",
              "<polyline clip-path=\"url(#clip380)\" style=\"stroke:#adb2b7; stroke-linecap:round; stroke-linejoin:round; stroke-width:4; stroke-opacity:1; fill:none\" points=\"1764.98,1486.45 1764.98,1467.55 \"/>\n",
              "<polyline clip-path=\"url(#clip380)\" style=\"stroke:#adb2b7; stroke-linecap:round; stroke-linejoin:round; stroke-width:4; stroke-opacity:1; fill:none\" points=\"2290.34,1486.45 2290.34,1467.55 \"/>\n",
              "<path clip-path=\"url(#clip380)\" d=\"M188.877 1517.37 Q185.266 1517.37 183.437 1520.93 Q181.631 1524.47 181.631 1531.6 Q181.631 1538.71 183.437 1542.27 Q185.266 1545.82 188.877 1545.82 Q192.511 1545.82 194.317 1542.27 Q196.145 1538.71 196.145 1531.6 Q196.145 1524.47 194.317 1520.93 Q192.511 1517.37 188.877 1517.37 M188.877 1513.66 Q194.687 1513.66 197.742 1518.27 Q200.821 1522.85 200.821 1531.6 Q200.821 1540.33 197.742 1544.94 Q194.687 1549.52 188.877 1549.52 Q183.067 1549.52 179.988 1544.94 Q176.932 1540.33 176.932 1531.6 Q176.932 1522.85 179.988 1518.27 Q183.067 1513.66 188.877 1513.66 Z\" fill=\"#9eb1be\" fill-rule=\"nonzero\" fill-opacity=\"1\" /><path clip-path=\"url(#clip380)\" d=\"M693.514 1544.91 L709.833 1544.91 L709.833 1548.85 L687.889 1548.85 L687.889 1544.91 Q690.551 1542.16 695.134 1537.53 Q699.741 1532.88 700.921 1531.53 Q703.167 1529.01 704.046 1527.27 Q704.949 1525.51 704.949 1523.82 Q704.949 1521.07 703.005 1519.33 Q701.084 1517.6 697.982 1517.6 Q695.783 1517.6 693.329 1518.36 Q690.898 1519.13 688.121 1520.68 L688.121 1515.95 Q690.945 1514.82 693.398 1514.24 Q695.852 1513.66 697.889 1513.66 Q703.259 1513.66 706.454 1516.35 Q709.648 1519.03 709.648 1523.52 Q709.648 1525.65 708.838 1527.57 Q708.051 1529.47 705.945 1532.07 Q705.366 1532.74 702.264 1535.95 Q699.162 1539.15 693.514 1544.91 Z\" fill=\"#9eb1be\" fill-rule=\"nonzero\" fill-opacity=\"1\" /><path clip-path=\"url(#clip380)\" d=\"M719.695 1514.29 L738.051 1514.29 L738.051 1518.22 L723.977 1518.22 L723.977 1526.7 Q724.995 1526.35 726.014 1526.19 Q727.032 1526 728.051 1526 Q733.838 1526 737.218 1529.17 Q740.597 1532.34 740.597 1537.76 Q740.597 1543.34 737.125 1546.44 Q733.653 1549.52 727.333 1549.52 Q725.157 1549.52 722.889 1549.15 Q720.644 1548.78 718.236 1548.04 L718.236 1543.34 Q720.32 1544.47 722.542 1545.03 Q724.764 1545.58 727.241 1545.58 Q731.245 1545.58 733.583 1543.48 Q735.921 1541.37 735.921 1537.76 Q735.921 1534.15 733.583 1532.04 Q731.245 1529.94 727.241 1529.94 Q725.366 1529.94 723.491 1530.35 Q721.639 1530.77 719.695 1531.65 L719.695 1514.29 Z\" fill=\"#9eb1be\" fill-rule=\"nonzero\" fill-opacity=\"1\" /><path clip-path=\"url(#clip380)\" d=\"M1214.31 1514.29 L1232.67 1514.29 L1232.67 1518.22 L1218.59 1518.22 L1218.59 1526.7 Q1219.61 1526.35 1220.63 1526.19 Q1221.65 1526 1222.67 1526 Q1228.45 1526 1231.83 1529.17 Q1235.21 1532.34 1235.21 1537.76 Q1235.21 1543.34 1231.74 1546.44 Q1228.27 1549.52 1221.95 1549.52 Q1219.77 1549.52 1217.5 1549.15 Q1215.26 1548.78 1212.85 1548.04 L1212.85 1543.34 Q1214.93 1544.47 1217.16 1545.03 Q1219.38 1545.58 1221.86 1545.58 Q1225.86 1545.58 1228.2 1543.48 Q1230.54 1541.37 1230.54 1537.76 Q1230.54 1534.15 1228.2 1532.04 Q1225.86 1529.94 1221.86 1529.94 Q1219.98 1529.94 1218.11 1530.35 Q1216.25 1530.77 1214.31 1531.65 L1214.31 1514.29 Z\" fill=\"#9eb1be\" fill-rule=\"nonzero\" fill-opacity=\"1\" /><path clip-path=\"url(#clip380)\" d=\"M1254.42 1517.37 Q1250.81 1517.37 1248.98 1520.93 Q1247.18 1524.47 1247.18 1531.6 Q1247.18 1538.71 1248.98 1542.27 Q1250.81 1545.82 1254.42 1545.82 Q1258.06 1545.82 1259.86 1542.27 Q1261.69 1538.71 1261.69 1531.6 Q1261.69 1524.47 1259.86 1520.93 Q1258.06 1517.37 1254.42 1517.37 M1254.42 1513.66 Q1260.23 1513.66 1263.29 1518.27 Q1266.37 1522.85 1266.37 1531.6 Q1266.37 1540.33 1263.29 1544.94 Q1260.23 1549.52 1254.42 1549.52 Q1248.61 1549.52 1245.54 1544.94 Q1242.48 1540.33 1242.48 1531.6 Q1242.48 1522.85 1245.54 1518.27 Q1248.61 1513.66 1254.42 1513.66 Z\" fill=\"#9eb1be\" fill-rule=\"nonzero\" fill-opacity=\"1\" /><path clip-path=\"url(#clip380)\" d=\"M1738.83 1514.29 L1761.05 1514.29 L1761.05 1516.28 L1748.51 1548.85 L1743.62 1548.85 L1755.43 1518.22 L1738.83 1518.22 L1738.83 1514.29 Z\" fill=\"#9eb1be\" fill-rule=\"nonzero\" fill-opacity=\"1\" /><path clip-path=\"url(#clip380)\" d=\"M1770.22 1514.29 L1788.58 1514.29 L1788.58 1518.22 L1774.5 1518.22 L1774.5 1526.7 Q1775.52 1526.35 1776.54 1526.19 Q1777.56 1526 1778.58 1526 Q1784.36 1526 1787.74 1529.17 Q1791.12 1532.34 1791.12 1537.76 Q1791.12 1543.34 1787.65 1546.44 Q1784.18 1549.52 1777.86 1549.52 Q1775.68 1549.52 1773.41 1549.15 Q1771.17 1548.78 1768.76 1548.04 L1768.76 1543.34 Q1770.84 1544.47 1773.07 1545.03 Q1775.29 1545.58 1777.77 1545.58 Q1781.77 1545.58 1784.11 1543.48 Q1786.45 1541.37 1786.45 1537.76 Q1786.45 1534.15 1784.11 1532.04 Q1781.77 1529.94 1777.77 1529.94 Q1775.89 1529.94 1774.02 1530.35 Q1772.16 1530.77 1770.22 1531.65 L1770.22 1514.29 Z\" fill=\"#9eb1be\" fill-rule=\"nonzero\" fill-opacity=\"1\" /><path clip-path=\"url(#clip380)\" d=\"M2249.95 1544.91 L2257.59 1544.91 L2257.59 1518.55 L2249.28 1520.21 L2249.28 1515.95 L2257.54 1514.29 L2262.22 1514.29 L2262.22 1544.91 L2269.86 1544.91 L2269.86 1548.85 L2249.95 1548.85 L2249.95 1544.91 Z\" fill=\"#9eb1be\" fill-rule=\"nonzero\" fill-opacity=\"1\" /><path clip-path=\"url(#clip380)\" d=\"M2289.3 1517.37 Q2285.69 1517.37 2283.86 1520.93 Q2282.06 1524.47 2282.06 1531.6 Q2282.06 1538.71 2283.86 1542.27 Q2285.69 1545.82 2289.3 1545.82 Q2292.93 1545.82 2294.74 1542.27 Q2296.57 1538.71 2296.57 1531.6 Q2296.57 1524.47 2294.74 1520.93 Q2292.93 1517.37 2289.3 1517.37 M2289.3 1513.66 Q2295.11 1513.66 2298.17 1518.27 Q2301.25 1522.85 2301.25 1531.6 Q2301.25 1540.33 2298.17 1544.94 Q2295.11 1549.52 2289.3 1549.52 Q2283.49 1549.52 2280.41 1544.94 Q2277.36 1540.33 2277.36 1531.6 Q2277.36 1522.85 2280.41 1518.27 Q2283.49 1513.66 2289.3 1513.66 Z\" fill=\"#9eb1be\" fill-rule=\"nonzero\" fill-opacity=\"1\" /><path clip-path=\"url(#clip380)\" d=\"M2319.46 1517.37 Q2315.85 1517.37 2314.02 1520.93 Q2312.22 1524.47 2312.22 1531.6 Q2312.22 1538.71 2314.02 1542.27 Q2315.85 1545.82 2319.46 1545.82 Q2323.1 1545.82 2324.9 1542.27 Q2326.73 1538.71 2326.73 1531.6 Q2326.73 1524.47 2324.9 1520.93 Q2323.1 1517.37 2319.46 1517.37 M2319.46 1513.66 Q2325.27 1513.66 2328.33 1518.27 Q2331.41 1522.85 2331.41 1531.6 Q2331.41 1540.33 2328.33 1544.94 Q2325.27 1549.52 2319.46 1549.52 Q2313.65 1549.52 2310.57 1544.94 Q2307.52 1540.33 2307.52 1531.6 Q2307.52 1522.85 2310.57 1518.27 Q2313.65 1513.66 2319.46 1513.66 Z\" fill=\"#9eb1be\" fill-rule=\"nonzero\" fill-opacity=\"1\" /><polyline clip-path=\"url(#clip380)\" style=\"stroke:#adb2b7; stroke-linecap:round; stroke-linejoin:round; stroke-width:4; stroke-opacity:1; fill:none\" points=\"147.478,1486.45 147.478,47.2441 \"/>\n",
              "<polyline clip-path=\"url(#clip380)\" style=\"stroke:#adb2b7; stroke-linecap:round; stroke-linejoin:round; stroke-width:4; stroke-opacity:1; fill:none\" points=\"147.478,1266.22 166.376,1266.22 \"/>\n",
              "<polyline clip-path=\"url(#clip380)\" style=\"stroke:#adb2b7; stroke-linecap:round; stroke-linejoin:round; stroke-width:4; stroke-opacity:1; fill:none\" points=\"147.478,1031.12 166.376,1031.12 \"/>\n",
              "<polyline clip-path=\"url(#clip380)\" style=\"stroke:#adb2b7; stroke-linecap:round; stroke-linejoin:round; stroke-width:4; stroke-opacity:1; fill:none\" points=\"147.478,796.015 166.376,796.015 \"/>\n",
              "<polyline clip-path=\"url(#clip380)\" style=\"stroke:#adb2b7; stroke-linecap:round; stroke-linejoin:round; stroke-width:4; stroke-opacity:1; fill:none\" points=\"147.478,560.91 166.376,560.91 \"/>\n",
              "<polyline clip-path=\"url(#clip380)\" style=\"stroke:#adb2b7; stroke-linecap:round; stroke-linejoin:round; stroke-width:4; stroke-opacity:1; fill:none\" points=\"147.478,325.806 166.376,325.806 \"/>\n",
              "<polyline clip-path=\"url(#clip380)\" style=\"stroke:#adb2b7; stroke-linecap:round; stroke-linejoin:round; stroke-width:4; stroke-opacity:1; fill:none\" points=\"147.478,90.7009 166.376,90.7009 \"/>\n",
              "<path clip-path=\"url(#clip380)\" d=\"M51.3625 1266.68 L81.0383 1266.68 L81.0383 1270.61 L51.3625 1270.61 L51.3625 1266.68 Z\" fill=\"#9eb1be\" fill-rule=\"nonzero\" fill-opacity=\"1\" /><path clip-path=\"url(#clip380)\" d=\"M95.1586 1279.57 L111.478 1279.57 L111.478 1283.5 L89.5336 1283.5 L89.5336 1279.57 Q92.1956 1276.81 96.7789 1272.18 Q101.385 1267.53 102.566 1266.19 Q104.811 1263.67 105.691 1261.93 Q106.594 1260.17 106.594 1258.48 Q106.594 1255.73 104.649 1253.99 Q102.728 1252.25 99.6261 1252.25 Q97.4271 1252.25 94.9734 1253.02 Q92.5428 1253.78 89.7651 1255.33 L89.7651 1250.61 Q92.5891 1249.48 95.0428 1248.9 Q97.4965 1248.32 99.5335 1248.32 Q104.904 1248.32 108.098 1251 Q111.293 1253.69 111.293 1258.18 Q111.293 1260.31 110.483 1262.23 Q109.696 1264.13 107.589 1266.72 Q107.01 1267.39 103.909 1270.61 Q100.807 1273.81 95.1586 1279.57 Z\" fill=\"#9eb1be\" fill-rule=\"nonzero\" fill-opacity=\"1\" /><path clip-path=\"url(#clip380)\" d=\"M50.9921 1031.57 L80.6679 1031.57 L80.6679 1035.51 L50.9921 1035.51 L50.9921 1031.57 Z\" fill=\"#9eb1be\" fill-rule=\"nonzero\" fill-opacity=\"1\" /><path clip-path=\"url(#clip380)\" d=\"M91.5706 1044.46 L99.2095 1044.46 L99.2095 1018.1 L90.8993 1019.77 L90.8993 1015.51 L99.1632 1013.84 L103.839 1013.84 L103.839 1044.46 L111.478 1044.46 L111.478 1048.4 L91.5706 1048.4 L91.5706 1044.46 Z\" fill=\"#9eb1be\" fill-rule=\"nonzero\" fill-opacity=\"1\" /><path clip-path=\"url(#clip380)\" d=\"M99.5335 781.814 Q95.9224 781.814 94.0937 785.378 Q92.2882 788.92 92.2882 796.05 Q92.2882 803.156 94.0937 806.721 Q95.9224 810.263 99.5335 810.263 Q103.168 810.263 104.973 806.721 Q106.802 803.156 106.802 796.05 Q106.802 788.92 104.973 785.378 Q103.168 781.814 99.5335 781.814 M99.5335 778.11 Q105.344 778.11 108.399 782.716 Q111.478 787.3 111.478 796.05 Q111.478 804.776 108.399 809.383 Q105.344 813.966 99.5335 813.966 Q93.7234 813.966 90.6447 809.383 Q87.5892 804.776 87.5892 796.05 Q87.5892 787.3 90.6447 782.716 Q93.7234 778.11 99.5335 778.11 Z\" fill=\"#9eb1be\" fill-rule=\"nonzero\" fill-opacity=\"1\" /><path clip-path=\"url(#clip380)\" d=\"M91.5706 574.255 L99.2095 574.255 L99.2095 547.89 L90.8993 549.556 L90.8993 545.297 L99.1632 543.63 L103.839 543.63 L103.839 574.255 L111.478 574.255 L111.478 578.19 L91.5706 578.19 L91.5706 574.255 Z\" fill=\"#9eb1be\" fill-rule=\"nonzero\" fill-opacity=\"1\" /><path clip-path=\"url(#clip380)\" d=\"M95.1586 339.15 L111.478 339.15 L111.478 343.086 L89.5336 343.086 L89.5336 339.15 Q92.1956 336.396 96.7789 331.766 Q101.385 327.113 102.566 325.771 Q104.811 323.248 105.691 321.512 Q106.594 319.752 106.594 318.063 Q106.594 315.308 104.649 313.572 Q102.728 311.836 99.6261 311.836 Q97.4271 311.836 94.9734 312.6 Q92.5428 313.364 89.7651 314.914 L89.7651 310.192 Q92.5891 309.058 95.0428 308.479 Q97.4965 307.901 99.5335 307.901 Q104.904 307.901 108.098 310.586 Q111.293 313.271 111.293 317.762 Q111.293 319.891 110.483 321.813 Q109.696 323.711 107.589 326.303 Q107.01 326.975 103.909 330.192 Q100.807 333.387 95.1586 339.15 Z\" fill=\"#9eb1be\" fill-rule=\"nonzero\" fill-opacity=\"1\" /><path clip-path=\"url(#clip380)\" d=\"M104.348 89.3468 Q107.705 90.0644 109.58 92.3329 Q111.478 94.6014 111.478 97.9347 Q111.478 103.05 107.959 105.851 Q104.441 108.652 97.9595 108.652 Q95.7836 108.652 93.4688 108.212 Q91.1771 107.796 88.7234 106.939 L88.7234 102.425 Q90.6678 103.56 92.9826 104.138 Q95.2974 104.717 97.8206 104.717 Q102.219 104.717 104.51 102.981 Q106.825 101.245 106.825 97.9347 Q106.825 94.8792 104.672 93.1662 Q102.543 91.4301 98.7234 91.4301 L94.6956 91.4301 L94.6956 87.5875 L98.9085 87.5875 Q102.358 87.5875 104.186 86.2218 Q106.015 84.8329 106.015 82.2403 Q106.015 79.5783 104.117 78.1663 Q102.242 76.7311 98.7234 76.7311 Q96.8021 76.7311 94.603 77.1478 Q92.4039 77.5644 89.7651 78.4441 L89.7651 74.2774 Q92.4271 73.5367 94.7419 73.1663 Q97.0798 72.7959 99.14 72.7959 Q104.464 72.7959 107.566 75.2265 Q110.668 77.6339 110.668 81.7542 Q110.668 84.6246 109.024 86.6153 Q107.381 88.5829 104.348 89.3468 Z\" fill=\"#9eb1be\" fill-rule=\"nonzero\" fill-opacity=\"1\" /><polyline clip-path=\"url(#clip382)\" style=\"stroke:#fe4365; stroke-linecap:round; stroke-linejoin:round; stroke-width:4; stroke-opacity:1; fill:none\" points=\"209.891,893.772 230.906,1111.51 251.921,789.351 272.935,747.155 293.95,670.953 314.965,1218.15 335.979,996.759 356.994,664.789 378.009,818.365 399.023,509.017 420.038,893.549 441.053,1319.99 462.067,657.489 483.082,482.967 504.097,1055.5 525.111,814.557 546.126,773.593 567.141,754.696 588.155,518.312 609.17,662.746 630.185,838.774 651.199,435.985 672.214,496.766 693.229,860.413 714.243,200.595 735.258,544.338 756.272,826.915 777.287,637.397 798.302,509.177 819.316,882.177 840.331,760.589 861.346,965.385 882.36,539.678 903.375,697.219 924.39,1119.85 945.404,563.511 966.419,679.15 987.434,905.874 1008.45,591.048 1029.46,1111.32 1050.48,920.569 1071.49,1030.87 1092.51,616.209 1113.52,792.861 1134.54,810.987 1155.55,1352.52 1176.57,500.447 1197.58,884.733 1218.59,560.651 1239.61,982.471 1260.62,932.644 1281.64,976.525 1302.65,554.166 1323.67,812.589 1344.68,765.633 1365.7,626.294 1386.71,577.798 1407.73,902.924 1428.74,507.265 1449.76,786.287 1470.77,699.238 1491.79,1064.29 1512.8,955.821 1533.81,847.989 1554.83,585.415 1575.84,994.255 1596.86,691.633 1617.87,1445.72 1638.89,698.856 1659.9,765.45 1680.92,905.199 1701.93,755.91 1722.95,1190.5 1743.96,676.647 1764.98,1342.5 1785.99,1040.94 1807.01,558.302 1828.02,637.487 1849.03,854.599 1870.05,87.9763 1891.06,352.693 1912.08,853.723 1933.09,533.362 1954.11,942.153 1975.12,1065.66 1996.14,811.072 2017.15,676.525 2038.17,368.813 2059.18,1042.45 2080.2,688.332 2101.21,323.575 2122.23,1169.31 2143.24,544.113 2164.25,513.138 2185.27,1015.96 2206.28,861.363 2227.3,1037.59 2248.31,816.166 2269.33,913.743 2290.34,804.412 \"/>\n",
              "<path clip-path=\"url(#clip380)\" d=\"M220.987 198.898 L493.945 198.898 L493.945 95.2176 L220.987 95.2176  Z\" fill=\"#282c34\" fill-rule=\"evenodd\" fill-opacity=\"1\"/>\n",
              "<polyline clip-path=\"url(#clip380)\" style=\"stroke:#9eb1be; stroke-linecap:round; stroke-linejoin:round; stroke-width:4; stroke-opacity:1; fill:none\" points=\"220.987,198.898 493.945,198.898 493.945,95.2176 220.987,95.2176 220.987,198.898 \"/>\n",
              "<polyline clip-path=\"url(#clip380)\" style=\"stroke:#fe4365; stroke-linecap:round; stroke-linejoin:round; stroke-width:4; stroke-opacity:1; fill:none\" points=\"245.49,147.058 392.509,147.058 \"/>\n",
              "<path clip-path=\"url(#clip380)\" d=\"M430.854 166.745 Q429.049 171.375 427.336 172.787 Q425.623 174.199 422.753 174.199 L419.35 174.199 L419.35 170.634 L421.85 170.634 Q423.609 170.634 424.581 169.8 Q425.554 168.967 426.734 165.865 L427.498 163.921 L417.012 138.412 L421.526 138.412 L429.628 158.689 L437.729 138.412 L442.243 138.412 L430.854 166.745 Z\" fill=\"#adb2b7\" fill-rule=\"nonzero\" fill-opacity=\"1\" /><path clip-path=\"url(#clip380)\" d=\"M449.535 160.402 L457.174 160.402 L457.174 134.037 L448.864 135.703 L448.864 131.444 L457.127 129.778 L461.803 129.778 L461.803 160.402 L469.442 160.402 L469.442 164.338 L449.535 164.338 L449.535 160.402 Z\" fill=\"#adb2b7\" fill-rule=\"nonzero\" fill-opacity=\"1\" /></svg>\n"
            ]
          },
          "metadata": {},
          "output_type": "display_data"
        }
      ],
      "source": [
        "# ugly style\n",
        "function generatedata(n)\n",
        "    ϵ = zeros(n)\n",
        "    for i in eachindex(ϵ)\n",
        "        ϵ[i] = randn()\n",
        "    end\n",
        "    return ϵ\n",
        "end\n",
        "\n",
        "data = generatedata(100)\n",
        "plot(data)"
      ]
    },
    {
      "cell_type": "code",
      "execution_count": null,
      "metadata": {},
      "outputs": [],
      "source": [
        "function generatedata_sq(n)\n",
        "    ϵ = randn(n)\n",
        "    for i ∈ eachindex(ϵ)\n",
        "        ϵ[i] = ϵ[i]^2\n",
        "    end\n",
        "    return ϵ\n",
        "end\n",
        "\n",
        "data = generatedata_sq(100)\n",
        "plot(data)"
      ]
    },
    {
      "cell_type": "code",
      "execution_count": null,
      "metadata": {},
      "outputs": [],
      "source": [
        "generate_data2(n) = randn(n).^2"
      ]
    },
    {
      "cell_type": "markdown",
      "metadata": {
        "id": "pF89nVZn9LH4"
      },
      "source": [
        "An elagant abstract approach offers a generatedata function able to generically apply to any given function."
      ]
    },
    {
      "cell_type": "code",
      "execution_count": null,
      "metadata": {},
      "outputs": [],
      "source": [
        "using Pkg\n",
        "Pkg.add(\"StatsFuns\")"
      ]
    },
    {
      "cell_type": "code",
      "execution_count": 22,
      "metadata": {
        "colab": {
          "base_uri": "https://localhost:8080/"
        },
        "id": "a7V_3KcaPq3h",
        "outputId": "63a4ee6b-2b11-4b22-ea2f-780454ab42b0"
      },
      "outputs": [],
      "source": [
        "using StatsFuns"
      ]
    },
    {
      "cell_type": "code",
      "execution_count": null,
      "metadata": {
        "colab": {
          "base_uri": "https://localhost:8080/"
        },
        "id": "edM0UYdN9h62",
        "outputId": "84a946f3-8c77-4f2e-f198-41acc46a180b"
      },
      "outputs": [],
      "source": [
        "generatedata(n, f) = f.(randn(n)) #function broadcasting\n",
        "\n",
        "f(x) = StatsFuns.logistic(x) # simple Sigmoid function\n",
        "# f(x) = sin(x)\n",
        "data = generatedata(100, f) # applies f"
      ]
    },
    {
      "cell_type": "code",
      "execution_count": null,
      "metadata": {
        "colab": {
          "base_uri": "https://localhost:8080/",
          "height": 421
        },
        "id": "GO9T4tQV1R_q",
        "outputId": "d3eadbf0-79b3-4e7a-f39d-56dc4b247e93"
      },
      "outputs": [],
      "source": [
        "# direct solution with broadcasting, and small user-defined function\n",
        "n = 100\n",
        "# f(x) = 3 * StatsFuns.logistic(x) - 1\n",
        "f(x) = 3 * logistic(x) - 1\n",
        "\n",
        "x = randn(n)\n",
        "plot(f.(x), label=\"3logistic-1\")\n",
        "plot!(x, label=\"x\") # layer on the same plot\n",
        "plot!(sin.(x), label = \"sin\")"
      ]
    },
    {
      "cell_type": "code",
      "execution_count": 25,
      "metadata": {},
      "outputs": [],
      "source": []
    }
  ],
  "metadata": {
    "accelerator": "GPU",
    "colab": {
      "collapsed_sections": [],
      "name": "Julia_Py.ipynb",
      "provenance": [],
      "toc_visible": true
    },
    "kernelspec": {
      "display_name": "Julia 1.10.5",
      "language": "julia",
      "name": "julia-1.10"
    },
    "language_info": {
      "file_extension": ".jl",
      "mimetype": "application/julia",
      "name": "julia",
      "version": "1.10.5"
    }
  },
  "nbformat": 4,
  "nbformat_minor": 0
}
