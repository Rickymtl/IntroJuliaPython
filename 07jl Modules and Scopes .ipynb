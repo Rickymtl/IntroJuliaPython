{
 "cells": [
  {
   "cell_type": "markdown",
   "metadata": {
    "id": "V2DqnxfIS47B"
   },
   "source": [
    "# Modules\n",
    "In Python, a module must be defined in a dedicated file. In Julia, modules are independent from the file system. You can define several modules per file, or define one module across multiple files, it's up to you. Let's create a simple module containing two submodules, each containing a variable and a function:"
   ]
  },
  {
   "cell_type": "code",
   "execution_count": 5,
   "metadata": {
    "colab": {
     "base_uri": "https://localhost:8080/"
    },
    "id": "u9tQpD0JS_gm",
    "outputId": "d4c206a4-054d-4ce2-b5ce-0ab3f1a9f282"
   },
   "outputs": [
    {
     "name": "stderr",
     "output_type": "stream",
     "text": [
      "WARNING: replacing module ModA.\n"
     ]
    },
    {
     "data": {
      "text/plain": [
       "Main.ModA"
      ]
     },
     "metadata": {},
     "output_type": "display_data"
    }
   ],
   "source": [
    "module ModA\n",
    "    e = ℯ\n",
    "    f(x) = sin(x)\n",
    "    module ModB\n",
    "        p = π\n",
    "        g(x) = cos(x)\n",
    "        module ModC\n",
    "            x = 1.0\n",
    "            h(x) = log(x)\n",
    "        end\n",
    "    end    \n",
    "    module ModD\n",
    "        y = 1729 # 1^3 + 12^3 = 10^3 + 9^3\n",
    "        l(x) = x^5\n",
    "    end\n",
    "end"
   ]
  },
  {
   "cell_type": "markdown",
   "metadata": {
    "id": "olgUIIbvYBQq"
   },
   "source": [
    "The default module is `Main`, so whatever we define is put in this module (except when defining a package, as we will see). This is why the `ModA`'s full name is `Main.ModA`."
   ]
  },
  {
   "cell_type": "markdown",
   "metadata": {
    "id": "bnP_rALhVlw3"
   },
   "source": [
    "We can now access the contents of these modules by providing the full paths:"
   ]
  },
  {
   "cell_type": "code",
   "execution_count": null,
   "metadata": {
    "colab": {
     "base_uri": "https://localhost:8080/"
    },
    "id": "557SZoXbuvS7",
    "outputId": "7f6bddf8-2a68-4198-f88f-9d173ea3f06e"
   },
   "outputs": [],
   "source": [
    "Main.ModA.ModB.ModC.h(ℯ)\n",
    "# ModA.ModB.ModC.h(ℯ)"
   ]
  },
  {
   "cell_type": "markdown",
   "metadata": {
    "id": "Z-ooQk9zYY1N"
   },
   "source": [
    "Since our code runs in the `Main` module, we can leave out the `Main.` part:"
   ]
  },
  {
   "cell_type": "markdown",
   "metadata": {
    "id": "7liRTwI2Xd5e"
   },
   "source": [
    "Alternatively, you can use `import`:"
   ]
  },
  {
   "cell_type": "code",
   "execution_count": 14,
   "metadata": {
    "colab": {
     "base_uri": "https://localhost:8080/"
    },
    "id": "DxT44ZvnXoGN",
    "outputId": "796cda81-b9e7-43b7-b3e2-45a27887833a"
   },
   "outputs": [
    {
     "data": {
      "text/plain": [
       "1.0"
      ]
     },
     "metadata": {},
     "output_type": "display_data"
    }
   ],
   "source": [
    "# import .ModA.ModB.ModC.x\n",
    "import Main.ModA.ModB.ModC.x\n",
    "x"
   ]
  },
  {
   "cell_type": "markdown",
   "metadata": {
    "id": "TpOjKGi8Ymmu"
   },
   "source": [
    "Make sure that you put Main at the beginning of the command. Or we can use `import` with a relative path. In this case, we need to prefix `ModA` with a dot `.` to indicate that we want the module `ModA` located in the current module:"
   ]
  },
  {
   "cell_type": "code",
   "execution_count": 18,
   "metadata": {
    "colab": {
     "base_uri": "https://localhost:8080/"
    },
    "id": "9kqmiNNTYpQY",
    "outputId": "2a9521d1-1b7b-45ce-d455-3f42f0328501"
   },
   "outputs": [
    {
     "name": "stdout",
     "output_type": "stream",
     "text": [
      "1729\n"
     ]
    }
   ],
   "source": [
    "import .ModA.ModD\n",
    "println(ModD.y)"
   ]
  },
  {
   "cell_type": "markdown",
   "metadata": {
    "id": "rJSA9aljZ3BN"
   },
   "source": [
    "Nested modules do <u>not</u> automatically have access to names in enclosing modules. To import names from a parent module, use `..x`. From a grand-parent module, use `...x`, and so on."
   ]
  },
  {
   "cell_type": "code",
   "execution_count": 19,
   "metadata": {
    "colab": {
     "base_uri": "https://localhost:8080/"
    },
    "id": "NvRtf5SWZ_Wk",
    "outputId": "924a1a1c-2d30-4466-d076-2da85ed9c0b8"
   },
   "outputs": [
    {
     "data": {
      "text/plain": [
       "Main.ModA2"
      ]
     },
     "metadata": {},
     "output_type": "display_data"
    }
   ],
   "source": [
    "module ModA2\n",
    "    e = ℯ\n",
    "    f(x) = sin(x)\n",
    "    module ModB2\n",
    "        p = π\n",
    "        g(x) = cos(x)\n",
    "        module ModC2\n",
    "            import ..p\n",
    "            import ...e\n",
    "            x = 1.0\n",
    "            h(x) = log(x) + p / e \n",
    "        end\n",
    "    end\n",
    "    module ModD2\n",
    "        y = 1729 # 1^3 + 12^3 = 10^3 + 9^3\n",
    "        my_l(x) = x^5\n",
    "    end\n",
    "end"
   ]
  },
  {
   "cell_type": "markdown",
   "metadata": {
    "id": "y_YxkO1ebZEb"
   },
   "source": [
    "Instead of `import`, you can use `using`. It is analog to Python's `from foo import *`. It only gives access to names which were explicitly exported using `export` (similar to the way `from foo import *` in Python only imports names listed in the module's `__all__` list):"
   ]
  },
  {
   "cell_type": "code",
   "execution_count": 20,
   "metadata": {
    "colab": {
     "base_uri": "https://localhost:8080/"
    },
    "id": "Bmwzq6TKraM6",
    "outputId": "7209fd67-91d6-4fa6-c61d-29eb4fe9c945"
   },
   "outputs": [
    {
     "data": {
      "text/plain": [
       "0.0"
      ]
     },
     "metadata": {},
     "output_type": "display_data"
    }
   ],
   "source": [
    "import .ModA2.ModB2.ModC2\n",
    "ModC2.h(exp(-π/ℯ))"
   ]
  },
  {
   "cell_type": "code",
   "execution_count": 21,
   "metadata": {
    "colab": {
     "base_uri": "https://localhost:8080/"
    },
    "id": "CNDHFWv2blSk",
    "outputId": "8a7b82c9-4658-49ba-92bb-affcb017fc24"
   },
   "outputs": [
    {
     "data": {
      "text/plain": [
       "Main.ModE"
      ]
     },
     "metadata": {},
     "output_type": "display_data"
    }
   ],
   "source": [
    "module ModE\n",
    "    z = 100\n",
    "    u = 200\n",
    "    w = 300\n",
    "    v = 400\n",
    "    export z\n",
    "end"
   ]
  },
  {
   "cell_type": "markdown",
   "metadata": {
    "id": "XA-8xz9XBkFr"
   },
   "source": [
    "Note that `using Foo` not only imports all exported names (like Python's `from foo import *`), it also imports `Foo` itself (similarly, `using Foo.Bar` imports `Bar` itself):\n"
   ]
  },
  {
   "cell_type": "markdown",
   "metadata": {
    "id": "ZJr74QBRzuEo"
   },
   "source": [
    "Even if a name is not exported, you can always access it using its full path, or using `import`:"
   ]
  },
  {
   "cell_type": "markdown",
   "metadata": {
    "id": "1UfcZp6fcNdT"
   },
   "source": [
    "You can also import individual names like this:"
   ]
  },
  {
   "cell_type": "code",
   "execution_count": 23,
   "metadata": {
    "colab": {
     "base_uri": "https://localhost:8080/"
    },
    "id": "fQPAWJMRzOmj",
    "outputId": "3479256c-e7f1-4cd4-9dca-19900869adcc"
   },
   "outputs": [
    {
     "name": "stdout",
     "output_type": "stream",
     "text": [
      "1\n",
      "2\n"
     ]
    },
    {
     "name": "stderr",
     "output_type": "stream",
     "text": [
      "WARNING: replacing module ModG.\n",
      "WARNING: ignoring conflicting import of ModG.g2 into Main\n"
     ]
    }
   ],
   "source": [
    "module ModG\n",
    "    g1 = 1\n",
    "    g2 = 2\n",
    "    export g2\n",
    "end\n",
    "\n",
    "using .ModG: g1, g2\n",
    "\n",
    "println(g1)\n",
    "println(g2)"
   ]
  },
  {
   "cell_type": "markdown",
   "metadata": {
    "id": "Y5ToJpN_0RMa"
   },
   "source": [
    "Notice that this syntax gives you access to any name you want, whether or not it was exported. In other words, whether a name is exported or not only affects the `using Foo` syntax."
   ]
  },
  {
   "cell_type": "markdown",
   "metadata": {
    "id": "yzXfmlAg0diH"
   },
   "source": [
    "Importantly, when you want to expand a function which is defined in a module, you must import the function using `import`, or you must specify the function's path:"
   ]
  },
  {
   "cell_type": "code",
   "execution_count": 38,
   "metadata": {
    "colab": {
     "base_uri": "https://localhost:8080/"
    },
    "id": "BfOgteoF0m4X",
    "outputId": "083decc6-dad1-4956-dc90-4e265d8aae44"
   },
   "outputs": [
    {
     "name": "stdout",
     "output_type": "stream",
     "text": [
      "4\n",
      "TwoTwo\n",
      "9\n",
      "ThreeThreeThree\n"
     ]
    },
    {
     "name": "stderr",
     "output_type": "stream",
     "text": [
      "WARNING: replacing module ModH.\n",
      "WARNING: ignoring conflicting import of ModH.double into Main\n"
     ]
    }
   ],
   "source": [
    "module ModH\n",
    "    double(x) = x * 2\n",
    "    triple(x) = x * 3\n",
    "end\n",
    "\n",
    "import .ModH: double\n",
    "double(x::AbstractString) = repeat(x, 2)\n",
    "\n",
    "ModH.triple(x::AbstractString) = repeat(x, 3)\n",
    "\n",
    "println(double(2))\n",
    "println(double(\"Two\"))\n",
    "\n",
    "println(ModH.triple(3))\n",
    "println(ModH.triple(\"Three\"))"
   ]
  },
  {
   "cell_type": "markdown",
   "metadata": {
    "id": "c4c2yTaS7fvj"
   },
   "source": [
    "You must never extend a function imported with `using`, unless you provide the function's path:"
   ]
  },
  {
   "cell_type": "code",
   "execution_count": 42,
   "metadata": {
    "colab": {
     "base_uri": "https://localhost:8080/"
    },
    "id": "18mmhRsP18o_",
    "outputId": "61165a2b-d809-4b88-a9b6-e7578c84080c"
   },
   "outputs": [
    {
     "name": "stdout",
     "output_type": "stream",
     "text": [
      "16\n",
      "FourFourFourFour\n"
     ]
    },
    {
     "name": "stderr",
     "output_type": "stream",
     "text": [
      "WARNING: replacing module ModI.\n",
      "WARNING: using ModI.quadruple in module Main conflicts with an existing identifier.\n"
     ]
    }
   ],
   "source": [
    "module ModI\n",
    "    quadruple(x) = x * 4\n",
    "    export quadruple\n",
    "end\n",
    "\n",
    "using .ModI\n",
    "ModI.quadruple(x::AbstractString) = repeat(x, 4) # OK\n",
    "println(quadruple(4))\n",
    "println(quadruple(\"Four\"))\n",
    "\n",
    "# quadruple(x::AbstractString) = repeat(x, 4) # uncomment to see the error"
   ]
  },
  {
   "cell_type": "markdown",
   "metadata": {
    "id": "pB4HxazHyNiF"
   },
   "source": [
    "In general, a module named `Foo` will be defined in a file named `Foo.jl` (along with its submodules). However, if the module becomes too big for a single file, you can split it into multiple files and include these files in `Foo.jl` using the `include()` function.\n",
    "\n",
    "For example, let's create three files: `Awesome.jl`, `great.jl` and `amazing/Fantastic.jl`, where:\n",
    "* `Awesome.jl` defines the `Awesome` module and includes the other two files\n",
    "* `great.jl` just defines a function\n",
    "* `amazing/Fantastic.jl` defines the `Fantastic` submodule"
   ]
  },
  {
   "cell_type": "code",
   "execution_count": 45,
   "metadata": {
    "colab": {
     "base_uri": "https://localhost:8080/"
    },
    "id": "A9iOU4XWundK",
    "outputId": "ac0b8b38-35fd-449f-f460-6b5bd33b867f"
   },
   "outputs": [
    {
     "data": {
      "text/plain": [
       "41"
      ]
     },
     "metadata": {},
     "output_type": "display_data"
    }
   ],
   "source": [
    "code_awesome = \"\"\"\n",
    "module Awesome\n",
    "include(\"great.jl\")\n",
    "include(\"amazing/Fantastic.jl\")\n",
    "end\n",
    "\"\"\"\n",
    "\n",
    "code_great = \"\"\"\n",
    "great() = \"This is great!\"\n",
    "\"\"\"\n",
    "\n",
    "code_fantastic = \"\"\"\n",
    "module Fantastic   \n",
    "fantastic = true\n",
    "end\n",
    "\"\"\"\n",
    "\n",
    "open(f->write(f, code_awesome), \"Awesome.jl\", \"w\")\n",
    "open(f->write(f, code_great), \"great.jl\", \"w\")\n",
    "mkdir(\"amazing\")\n",
    "open(f->write(f, code_fantastic), \"amazing/Fantastic.jl\", \"w\")"
   ]
  },
  {
   "cell_type": "markdown",
   "metadata": {
    "id": "3OYEv-P-xGHg"
   },
   "source": [
    "If we try to execute `import Awesome` now, it won't work since Julia does not search in the current directory by default. Let's change this:"
   ]
  },
  {
   "cell_type": "code",
   "execution_count": 46,
   "metadata": {
    "colab": {
     "base_uri": "https://localhost:8080/"
    },
    "id": "Zz-JHOzXxZj5",
    "outputId": "565adaf6-865d-412d-d8aa-4c328b76c0b1"
   },
   "outputs": [
    {
     "data": {
      "text/plain": [
       "4-element Vector{String}:\n",
       " \".\"\n",
       " \"@\"\n",
       " \"@v#.#\"\n",
       " \"@stdlib\""
      ]
     },
     "metadata": {},
     "output_type": "display_data"
    }
   ],
   "source": [
    "pushfirst!(LOAD_PATH, \".\")"
   ]
  },
  {
   "cell_type": "markdown",
   "metadata": {
    "id": "L8H2XLMAww7g"
   },
   "source": [
    "Now when we import the `Awesome` module, Julia will look for a file named `Awesome.jl` in the current directory, or for `Awesome/src/Awesome.jl`, or for `Awesome.jl/src/Awesome.jl`. If it does not find any of these, it will look in the other places listed in the `LOAD_PATH` array (we will discuss this in more details in the \"Package Management\" section)."
   ]
  },
  {
   "cell_type": "code",
   "execution_count": 47,
   "metadata": {
    "colab": {
     "base_uri": "https://localhost:8080/"
    },
    "id": "V4crjErQvuYf",
    "outputId": "3c973fd9-67ef-4705-f329-bf327c4de135"
   },
   "outputs": [
    {
     "name": "stdout",
     "output_type": "stream",
     "text": [
      "This is great!\n"
     ]
    },
    {
     "name": "stdout",
     "output_type": "stream",
     "text": [
      "Is fantastic? true\n"
     ]
    }
   ],
   "source": [
    "import Awesome\n",
    "println(Awesome.great())\n",
    "println(\"Is fantastic? \", Awesome.Fantastic.fantastic)"
   ]
  },
  {
   "cell_type": "markdown",
   "metadata": {
    "id": "zpLsSNQbttj1"
   },
   "source": [
    "Let's restore the original `LOAD_PATH`:"
   ]
  },
  {
   "cell_type": "code",
   "execution_count": 48,
   "metadata": {
    "colab": {
     "base_uri": "https://localhost:8080/"
    },
    "id": "zV4wd4Natxw7",
    "outputId": "2f841a91-03ab-4de0-dd24-70c756b8d3d8"
   },
   "outputs": [
    {
     "data": {
      "text/plain": [
       "\".\""
      ]
     },
     "metadata": {},
     "output_type": "display_data"
    }
   ],
   "source": [
    "popfirst!(LOAD_PATH)"
   ]
  },
  {
   "cell_type": "markdown",
   "metadata": {
    "id": "Jz7_FaJcaZn-"
   },
   "source": [
    "In short:\n",
    "\n",
    "|Julia | Python\n",
    "|------|-------\n",
    "|`import Foo` | `import foo`\n",
    "|`import Foo.Bar` | `from foo import bar`\n",
    "|`import Foo.Bar: a, b` | `from foo.bar import a, b`\n",
    "|`import Foo.Bar.a, Foo.Bar.b` | `from foo.bar import a, b`\n",
    "|`import .Foo` | `import .foo`\n",
    "|`import ..Foo.Bar` | `from ..foo import bar`\n",
    "|`import ...Foo.Bar` | `from ...foo import bar`\n",
    "|`import .Foo: a, b` | `from .foo import a, b`\n",
    "||\n",
    "|`using Foo` | `from foo import *; import foo`\n",
    "|`using Foo.Bar` | `from foo.bar import *; from foo import bar `\n",
    "|`using Foo.Bar: a, b` | `from foo.bar import a, b`\n",
    "\n",
    "|Extending function `Foo.f()` | Result\n",
    "|-----------------------------|--------\n",
    "|`import Foo.f  # or Foo: f` <br />`f(x::Int64) = ...`  | OK\n",
    "|`import Foo`<br />`Foo.f(x::Int64) = ...` | OK\n",
    "|`using Foo`<br />`Foo.f(x::Int64) = ...` | OK\n",
    "|`import Foo.f # or Foo: f`<br />`Foo.f(x::Int64) = ...` | `ERROR: Foo not defined`\n",
    "|`using Foo`<br />`f(x::Int64) = ...` | `ERROR: Foo.f must be explicitly imported`\n",
    "|`using Foo: f`<br />`f(x::Int64) = ...` | `ERROR: Foo.f must be explicitly imported`"
   ]
  },
  {
   "cell_type": "markdown",
   "metadata": {
    "id": "Inpk8qS3HL_u"
   },
   "source": [
    "# Scopes\n",
    "Julia has two types of scopes: global and local.\n",
    "\n",
    "Every module has its own global scope, independent from all other global scopes. There is no overarching global scope.\n",
    "\n",
    "Modules, macros and types (including structs) can only be defined in a global scope.\n",
    "\n",
    "Most code blocks, including `function`, `struct`, `for`, `while`, etc., have their own local scope. For example:"
   ]
  },
  {
   "cell_type": "code",
   "execution_count": 49,
   "metadata": {
    "colab": {
     "base_uri": "https://localhost:8080/"
    },
    "id": "q3Lm3T1DG6St",
    "outputId": "bd70a17c-b01a-4a03-92cd-287fb42b2596"
   },
   "outputs": [
    {
     "name": "stdout",
     "output_type": "stream",
     "text": [
      "1\n",
      "2\n",
      "3\n"
     ]
    },
    {
     "data": {
      "text/plain": [
       "UndefVarError(:q)"
      ]
     },
     "metadata": {},
     "output_type": "display_data"
    }
   ],
   "source": [
    "for q in 1:3\n",
    "    println(q)\n",
    "end\n",
    "\n",
    "try\n",
    "    println(q) # q is not available here\n",
    "catch ex\n",
    "    ex\n",
    "end"
   ]
  },
  {
   "cell_type": "markdown",
   "metadata": {
    "id": "Wh6xa4fyJLYY"
   },
   "source": [
    "A local scope inherits from its parent scope:"
   ]
  },
  {
   "cell_type": "code",
   "execution_count": 50,
   "metadata": {
    "colab": {
     "base_uri": "https://localhost:8080/"
    },
    "id": "IeLfjf4ZJQ41",
    "outputId": "81d96978-dba2-4507-c6cc-118cb2ff9eb4"
   },
   "outputs": [
    {
     "name": "stdout",
     "output_type": "stream",
     "text": [
      "50\n",
      "100\n",
      "150\n"
     ]
    }
   ],
   "source": [
    "z = 5\n",
    "for i in 1:3\n",
    "    w = 10\n",
    "    println(i * w * z) # i and w are local, z is from the parent scope\n",
    "end"
   ]
  },
  {
   "cell_type": "markdown",
   "metadata": {
    "id": "OQLfwoD3NoC_"
   },
   "source": [
    "An inner scope can assign to a variable in the parent scope, if the parent scope is not global:"
   ]
  },
  {
   "cell_type": "code",
   "execution_count": 61,
   "metadata": {
    "colab": {
     "base_uri": "https://localhost:8080/"
    },
    "id": "fwN1C2BhNxyZ",
    "outputId": "68f6ca68-633e-470d-c1e9-569f8b48aac1"
   },
   "outputs": [
    {
     "name": "stdout",
     "output_type": "stream",
     "text": [
      "5\n",
      "5\n",
      "5\n"
     ]
    }
   ],
   "source": [
    "for i in 1:3\n",
    "    s = 0\n",
    "    for j in 1:5\n",
    "        s = j # variable s is from the parent scope\n",
    "    end\n",
    "    println(s)\n",
    "end"
   ]
  },
  {
   "cell_type": "markdown",
   "metadata": {
    "id": "0m3aoj8UKxS4"
   },
   "source": [
    "You can force a variable to be local by using the `local` keyword:"
   ]
  },
  {
   "cell_type": "code",
   "execution_count": 62,
   "metadata": {
    "colab": {
     "base_uri": "https://localhost:8080/"
    },
    "id": "hlireAo6K3eS",
    "outputId": "54bf01b6-9b56-4f4d-d97f-f1c39ff6864b"
   },
   "outputs": [
    {
     "name": "stdout",
     "output_type": "stream",
     "text": [
      "0\n",
      "0\n",
      "0\n"
     ]
    }
   ],
   "source": [
    "for i in 1:3\n",
    "    s = 0\n",
    "    for j in 1:5\n",
    "        local s = j # variable s is local now\n",
    "    end\n",
    "    println(s)\n",
    "end"
   ]
  },
  {
   "cell_type": "markdown",
   "metadata": {
    "id": "qwo2DWNIN8oR"
   },
   "source": [
    "To assign to a global variable, you must declare the variable as `global` in the local scope:"
   ]
  },
  {
   "cell_type": "code",
   "execution_count": 65,
   "metadata": {
    "colab": {
     "base_uri": "https://localhost:8080/"
    },
    "id": "rPnibZjLOFHv",
    "outputId": "364a7b0c-141e-448f-9ec7-c472aac6df7e"
   },
   "outputs": [
    {
     "data": {
      "text/plain": [
       "3"
      ]
     },
     "metadata": {},
     "output_type": "display_data"
    }
   ],
   "source": [
    "for i in 1:3\n",
    "    global t\n",
    "    t = i\n",
    "end\n",
    "\n",
    "t"
   ]
  },
  {
   "cell_type": "markdown",
   "metadata": {
    "id": "tL5AgzVjOKuo"
   },
   "source": [
    "There is one exception to this rule: when executing code directly in the REPL (since Julia 1.5) or in IJulia, you do not need to declare a variable as `global` if the global variable already exists:"
   ]
  },
  {
   "cell_type": "code",
   "execution_count": 66,
   "metadata": {
    "colab": {
     "base_uri": "https://localhost:8080/"
    },
    "id": "PKZPY8XOOlT9",
    "outputId": "91fe8fa1-3c39-4f0d-faef-14966aa84c7e"
   },
   "outputs": [
    {
     "data": {
      "text/plain": [
       "3"
      ]
     },
     "metadata": {},
     "output_type": "display_data"
    }
   ],
   "source": [
    "s = 0\n",
    "for i in 1:3\n",
    "    s = i # implicitly global s: only in REPL Julia 1.5+ or IJulia\n",
    "end\n",
    "s"
   ]
  },
  {
   "cell_type": "markdown",
   "metadata": {
    "id": "Ne7zn3qgPo6M"
   },
   "source": [
    "In functions, assigning to a variable which is not explicitly declared as global always makes it local (even in the REPL and IJulia):"
   ]
  },
  {
   "cell_type": "code",
   "execution_count": 67,
   "metadata": {
    "colab": {
     "base_uri": "https://localhost:8080/"
    },
    "id": "RJgKv_6oPhH2",
    "outputId": "275c8c06-72bd-4594-faa0-4bdbc562f84e"
   },
   "outputs": [
    {
     "name": "stdout",
     "output_type": "stream",
     "text": [
      "20\n",
      "1\n"
     ]
    }
   ],
   "source": [
    "s, t = 1, 2 # globals\n",
    "\n",
    "function f2()\n",
    "   s = 10 * t # s is local, t is global\n",
    "end\n",
    "\n",
    "println(f2())\n",
    "println(s)"
   ]
  },
  {
   "cell_type": "markdown",
   "metadata": {
    "id": "DhnbEml6SiTG"
   },
   "source": [
    "Just like in Python, functions can capture variables from the enclosing scope (not from the scope the function is called from):"
   ]
  },
  {
   "cell_type": "code",
   "execution_count": 69,
   "metadata": {
    "colab": {
     "base_uri": "https://localhost:8080/"
    },
    "id": "B1lAq94XS6yX",
    "outputId": "1d6d31b9-18d5-499e-c8fa-57c7e8c99847"
   },
   "outputs": [
    {
     "name": "stdout",
     "output_type": "stream",
     "text": [
      "1\n"
     ]
    }
   ],
   "source": [
    "t = 1 # a global variable\n",
    "\n",
    "f3() = t # foo() captures t from the global scope\n",
    "\n",
    "function f4()\n",
    "    t = 5 # this is a new local variable\n",
    "    println(f3()) # f3() still uses t from the global scope\n",
    "end\n",
    "\n",
    "f4()"
   ]
  },
  {
   "cell_type": "code",
   "execution_count": 71,
   "metadata": {
    "colab": {
     "base_uri": "https://localhost:8080/"
    },
    "id": "a460UCKFTXt7",
    "outputId": "59e06d37-f432-4f2f-cd75-f90ac590f65f"
   },
   "outputs": [
    {
     "name": "stdout",
     "output_type": "stream",
     "text": [
      "5\n"
     ]
    }
   ],
   "source": [
    "function f5()\n",
    "    global t\n",
    "    t = 5 # we change the global t\n",
    "    println(f3()) # and this affects foo()\n",
    "end\n",
    "\n",
    "f5()"
   ]
  },
  {
   "cell_type": "markdown",
   "metadata": {
    "id": "MKsqCB48UxiU"
   },
   "source": [
    "Closures work much like in Python:"
   ]
  },
  {
   "cell_type": "code",
   "execution_count": 74,
   "metadata": {
    "colab": {
     "base_uri": "https://localhost:8080/"
    },
    "id": "CvyNc-ksT22C",
    "outputId": "ebb0e464-a6a4-4cce-957d-0e36b18d4a57"
   },
   "outputs": [
    {
     "data": {
      "text/plain": [
       "100"
      ]
     },
     "metadata": {},
     "output_type": "display_data"
    }
   ],
   "source": [
    "function create_multiplier(n)\n",
    "    function mul(x)\n",
    "        x * n # variable n is captured from the parent scope\n",
    "    end\n",
    "end\n",
    "\n",
    "mul2 = create_multiplier(2)\n",
    "mul2(5)\n",
    "\n",
    "\n",
    "# create_multiplier(2)(5)"
   ]
  },
  {
   "cell_type": "markdown",
   "metadata": {
    "id": "S9-frzGloRln"
   },
   "source": [
    "In this example, the local variable `a` is initialized with the value of `a + 1`, where `a` comes from the parent scope (i.e., it's the global `a` in this case). However, `b` is initialized with the value of the local `a`, since it now hides the variable `a` from the parent scope."
   ]
  },
  {
   "cell_type": "markdown",
   "metadata": {
    "id": "SEI5E2xbgYHl"
   },
   "source": [
    "Default values in function arguments also have this left-to-right scoping logic:"
   ]
  },
  {
   "cell_type": "code",
   "execution_count": 80,
   "metadata": {
    "colab": {
     "base_uri": "https://localhost:8080/"
    },
    "id": "S-E8aGtPgBCx",
    "outputId": "a6646a61-af71-4396-da6c-a6c26c14a109"
   },
   "outputs": [
    {
     "name": "stdout",
     "output_type": "stream",
     "text": [
      "a=5, b=1\n"
     ]
    }
   ],
   "source": [
    "a = 1\n",
    "parameter_updater(a=a+1, b=a) = println(\"a=$a, b=$b\")\n",
    "parameter_updater()\n",
    "# parameter_updater(5)\n",
    "# parameter_updater(5, 1)"
   ]
  },
  {
   "cell_type": "markdown",
   "metadata": {
    "id": "PzqwY5FngkML"
   },
   "source": [
    "In this example, the first argument's default value is `a + 1`, where `a` comes from the parent scope (i.e., the global `a` in this case). However, the second argument's default value is `a`, where `a` in this case is the value of the first argument (<u>not</u> the parent scope's `a`)."
   ]
  },
  {
   "cell_type": "markdown",
   "metadata": {
    "id": "Au3RUzMsHWw8"
   },
   "source": [
    "Note that `if` blocks and `begin` blocks do <u>not</u> have their own local scope, they just use the parent scope:"
   ]
  },
  {
   "cell_type": "code",
   "execution_count": 81,
   "metadata": {
    "colab": {
     "base_uri": "https://localhost:8080/"
    },
    "id": "iARzIFgtpOfB",
    "outputId": "1976e1b6-0aea-43e2-8018-f5050969e829"
   },
   "outputs": [
    {
     "data": {
      "text/plain": [
       "2"
      ]
     },
     "metadata": {},
     "output_type": "display_data"
    }
   ],
   "source": [
    "a = 1\n",
    "if true\n",
    "    a = 2 # same `a` as above\n",
    "end\n",
    "a"
   ]
  },
  {
   "cell_type": "code",
   "execution_count": 82,
   "metadata": {
    "colab": {
     "base_uri": "https://localhost:8080/"
    },
    "id": "kO5v8sfCHogx",
    "outputId": "ff4a5056-bc96-437a-da91-6663a78839a2"
   },
   "outputs": [
    {
     "data": {
      "text/plain": [
       "2"
      ]
     },
     "metadata": {},
     "output_type": "display_data"
    }
   ],
   "source": [
    "a = 1\n",
    "begin\n",
    "    a = 2  # same `a` as above\n",
    "end\n",
    "a"
   ]
  }
 ],
 "metadata": {
  "accelerator": "GPU",
  "colab": {
   "collapsed_sections": [],
   "name": "Julia_Py.ipynb",
   "provenance": [],
   "toc_visible": true
  },
  "kernelspec": {
   "display_name": "Julia 1.9.3",
   "language": "julia",
   "name": "julia-1.9"
  },
  "language_info": {
   "file_extension": ".jl",
   "mimetype": "application/julia",
   "name": "julia",
   "version": "1.9.3"
  }
 },
 "nbformat": 4,
 "nbformat_minor": 1
}
