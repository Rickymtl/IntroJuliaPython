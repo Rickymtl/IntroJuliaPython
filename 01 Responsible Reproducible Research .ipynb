{
  "cells": [
    {
      "cell_type": "markdown",
      "metadata": {
        "id": "A_pY5CUIVptt"
      },
      "source": [
        "# Reproducible \\& Responsible Research\n",
        "\n",
        "The term reproducible research refers to the principle that scientific findings should be documented in such a way that their interpretation is completely transparent and reproducible. This requires a detailed description of the procedures used to collect the data and run the code that generated the conclusions. Unfortunately, in the finance academic community, the reproducible research principle is not followed as carefully as expected.\n",
        "\n",
        "Reproducibility ensures that you, your collaborators, and eventually the public will be able to run the exact code in the same environment in which you provided the results - or even roll back to a previous snapshot in order to compare.\n",
        "\n",
        "To begin, we'll install Git, the open-source version control tool that has become the industry standard. This allows you to download both the files and the version history from a server to your desktop.\n",
        "\n",
        "Acquiring proficiency with Visual Studio Code and source code control/software engineering tools is a critical first step toward ensuring reproducibility. "
      ]
    },
    {
      "cell_type": "markdown",
      "metadata": {
        "id": "-HWfeFXMxR9W"
      },
      "source": [
        "## The Case of Backtest Overfitting\n",
        "\n",
        "Backtests algorithms are widely used to evaluate and operate investment strategies. If the researcher experiments with a sufficiently large number of strategy configurations, a backtest can always be fitted to any desired performance for a given sample length. This is a common type of academic cherry picking scheme. Standard statistical techniques that are intended to prevent overfitting are ineffective in the context of backtest evaluation.\n",
        "\n",
        "Overfitting is just one example of how mathematical and statistical techniques applied to finance can be abused. Due to the fact that the majority of published backtests do not include the number of trials, many are overfit. Now add the fact that most of the results are not reproducible."
      ]
    }
  ],
  "metadata": {
    "accelerator": "GPU",
    "colab": {
      "collapsed_sections": [],
      "name": "Julia_Py.ipynb",
      "provenance": [],
      "toc_visible": true
    },
    "kernelspec": {
      "display_name": "Julia 1.6.2",
      "language": "julia",
      "name": "julia-1.6"
    },
    "language_info": {
      "file_extension": ".jl",
      "mimetype": "application/julia",
      "name": "julia",
      "version": "1.7.2"
    }
  },
  "nbformat": 4,
  "nbformat_minor": 0
}
